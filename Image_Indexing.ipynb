{
 "cells": [
  {
   "attachments": {},
   "cell_type": "markdown",
   "id": "a795ccf4",
   "metadata": {
    "deletable": false,
    "editable": false,
    "nbgrader": {
     "cell_type": "markdown",
     "checksum": "b361c569619c5777091368813c9298fb",
     "grade": false,
     "grade_id": "cell_head_1",
     "locked": true,
     "schema_version": 3,
     "solution": false,
     "task": false
    }
   },
   "source": [
    "# 11762 Content-Based Image Retrieval\n",
    "## Master's Degree in Intelligent Systems\n",
    "### University of the Balearic Islands\n",
    "\n",
    "---"
   ]
  },
  {
   "cell_type": "code",
   "execution_count": 2,
   "id": "a32b507a",
   "metadata": {
    "deletable": false,
    "editable": false,
    "nbgrader": {
     "cell_type": "code",
     "checksum": "4ed34114414f947ea18f0e3a656381d9",
     "grade": false,
     "grade_id": "cell-f6e621d3dd92a9f1",
     "locked": true,
     "schema_version": 3,
     "solution": false,
     "task": false
    }
   },
   "outputs": [],
   "source": [
    "# Setup code for this assignment\n",
    "import cv2\n",
    "import math\n",
    "import numpy as np\n",
    "import os\n",
    "import scipy.cluster.vq as vq\n",
    "import tqdm\n",
    "import zipfile\n",
    "\n",
    "## Adding parent folder to find other libs\n",
    "import sys\n",
    "if \"..\" not in sys.path:\n",
    "    sys.path.insert(0,\"..\")\n",
    "    \n",
    "import iric_utils.eval_holidays as ev\n",
    "import iric_utils.read_descriptors as rd\n",
    "\n",
    "# Configuring Matplotlib\n",
    "from matplotlib import pyplot as plt\n",
    "%matplotlib inline"
   ]
  },
  {
   "attachments": {},
   "cell_type": "markdown",
   "id": "d621778b",
   "metadata": {
    "deletable": false,
    "editable": false,
    "nbgrader": {
     "cell_type": "markdown",
     "checksum": "dbebddc8d595e79783bf0d05156e3b2e",
     "grade": false,
     "grade_id": "cell-3b814276a5ba86db",
     "locked": true,
     "schema_version": 3,
     "solution": false,
     "task": false
    }
   },
   "source": [
    "## Introduction\n",
    "In this assignment, you will implement and evaluate different methods for indexing images. As usual during this course, we will use the [INRIA Holidays](http://lear.inrialpes.fr/people/jegou/data.php) dataset. **Check the Assignment 1 to further information about this dataset.**\n",
    "\n",
    "We also need the provided script to evaluate a CBIR system on this dataset. Remember that the performance is measured computing the **mean average precision** (mAP) over all queries. **Check also the Assignment 1 to remember how to use this script and the different functions it offers.**"
   ]
  },
  {
   "attachments": {},
   "cell_type": "markdown",
   "id": "77b3c399",
   "metadata": {
    "deletable": false,
    "editable": false,
    "nbgrader": {
     "cell_type": "markdown",
     "checksum": "f525c9b743f3383ec8f06c742e58a752",
     "grade": false,
     "grade_id": "cell-da4850e64a976ad8",
     "locked": true,
     "schema_version": 3,
     "solution": false,
     "task": false
    }
   },
   "source": [
    "### Loading images\n",
    "As we did in Assignment 1, for managing images, we will create four lists:\n",
    "- **`query_names`**: File names of the *query* images\n",
    "- **`query_imgs`**: *Query* images loaded using OpenCV2\n",
    "- **`train_names`**: File names of the *train* (database) images\n",
    "- **`train_imgs`**: *Train* images loaded using OpenCV2\n",
    "\n",
    "In this assignment, we will use the original holidays dataset:"
   ]
  },
  {
   "cell_type": "code",
   "execution_count": 134,
   "id": "78adf5f7",
   "metadata": {
    "deletable": false,
    "editable": false,
    "nbgrader": {
     "cell_type": "code",
     "checksum": "41c749ebe18a13ff129bf6ea5c39b005",
     "grade": false,
     "grade_id": "cell-a926eab7930fc8b4",
     "locked": true,
     "schema_version": 3,
     "solution": false,
     "task": false
    }
   },
   "outputs": [
    {
     "name": "stdout",
     "output_type": "stream",
     "text": [
      "500\n",
      "991\n"
     ]
    }
   ],
   "source": [
    "# Separating the dataset into query and train images\n",
    "query_names = []\n",
    "query_imgs = []\n",
    "train_names = []\n",
    "train_imgs = []\n",
    "\n",
    "with open('../holidays/holidays_images.dat') as f:\n",
    "    for line in f:\n",
    "        imname = line.strip()\n",
    "        imno = int(imname[:-len(\".jpg\")])\n",
    "        img = cv2.imread('../holidays/images/' + imname)\n",
    "        # Resize the images for a faster operation in this assignment\n",
    "        img = cv2.resize(img, None, fx=0.25, fy=0.25, interpolation = cv2.INTER_CUBIC)\n",
    "    \n",
    "        # Checking if this is a query image\n",
    "        if imno % 100 == 0:\n",
    "            query_names.append(imname)\n",
    "            query_imgs.append(img)\n",
    "        else:\n",
    "            train_names.append(imname)\n",
    "            train_imgs.append(img)\n",
    "\n",
    "print(len(query_names))\n",
    "print(len(train_names))"
   ]
  },
  {
   "attachments": {},
   "cell_type": "markdown",
   "id": "27d7080b",
   "metadata": {
    "deletable": false,
    "editable": false,
    "nbgrader": {
     "cell_type": "markdown",
     "checksum": "3a11200089c6a5d774184687648c838a",
     "grade": false,
     "grade_id": "cell-e0f678da073b3399",
     "locked": true,
     "schema_version": 3,
     "solution": false,
     "task": false
    }
   },
   "source": [
    "## Loading SIFT descriptors\n",
    "In this assignment we will create four additional lists:\n",
    "- **`query_kps`**: A list of lists of keypoints (cv2.KeyPoint) extracted from the *query* images\n",
    "- **`query_desc`**: A list of numpy arrays including, for each set of keypoints, the SIFT descriptors extracted from the *query* images\n",
    "- **`train_kps`**: A list of lists of keypoints (cv2.KeyPoint) extracted from the *train* (database) images\n",
    "- **`train_desc`**: A list of numpy arrays including, for each set of keypoints, the SIFT descriptors extracted from the *train* images\n",
    "\n",
    "Unlike in Assigment 1, now you will be provided with a set of SIFT descriptors for each image, and, therefore, you do not need to create these lists from scratch. First, download the descriptors from [here](https://uibes-my.sharepoint.com/:u:/g/personal/egf350_id_uib_es/Eam8Ld8YDaJAhNr91YVdAZIB_wVZJ8kzzKD7BR6R3LziMw).\n",
    "\n",
    "> **Unzip this file into the root directory of the development kit, at the same level of the datasets.**\n",
    "\n",
    "Now, a new directory called `siftgeo` should be in your workspace, containing the set of SIFT descriptors for each image of the dataset. These descriptors are stored in binary format and, thus, you are also provided with some tools to load them. To be more precise, you can call the function `load_SIFT_descriptors` to load the descriptors of a list of images:"
   ]
  },
  {
   "cell_type": "code",
   "execution_count": 135,
   "id": "f7e7e1c5",
   "metadata": {
    "deletable": false,
    "editable": false,
    "nbgrader": {
     "cell_type": "code",
     "checksum": "cc1b6e828616c74eecb5bd75ed481bf1",
     "grade": false,
     "grade_id": "cell-b4d6c65646fac5e2",
     "locked": true,
     "schema_version": 3,
     "solution": false,
     "task": false
    }
   },
   "outputs": [
    {
     "name": "stdout",
     "output_type": "stream",
     "text": [
      "500\n",
      "991\n",
      "500\n",
      "991\n",
      "(1000, 128)\n",
      "[[10.  6. 52. ... 15.  4.  0.]\n",
      " [16. 50. 12. ... 15.  4.  0.]\n",
      " [10. 11. 58. ...  7.  4.  4.]\n",
      " ...\n",
      " [27. 15.  0. ... 16.  8. 12.]\n",
      " [51. 47. 14. ... 35. 26.  0.]\n",
      " [ 2. 37. 25. ... 47. 13.  8.]]\n"
     ]
    }
   ],
   "source": [
    "# Loading descriptors\n",
    "query_kps, query_desc = rd.load_SIFT_descriptors(query_names, max_desc=1000)\n",
    "train_kps, train_desc = rd.load_SIFT_descriptors(train_names, max_desc=1000)\n",
    "\n",
    "# Some prints\n",
    "print(len(query_kps))\n",
    "print(len(train_kps))\n",
    "print(len(query_desc))\n",
    "print(len(train_desc))\n",
    "print(query_desc[0].shape)\n",
    "print(query_desc[0])"
   ]
  },
  {
   "cell_type": "code",
   "execution_count": 136,
   "id": "58e23f92",
   "metadata": {},
   "outputs": [],
   "source": [
    "img_dict = {}\n",
    "\n",
    "# Iterate over the training image names and add them to the dictionary\n",
    "for i, name in enumerate(train_names):\n",
    "    img_dict[name] = train_imgs[i]\n",
    "    \n",
    "# Iterate over the query image names and add them to the dictionary\n",
    "for i, name in enumerate(query_names):\n",
    "    img_dict[name] = query_imgs[i]"
   ]
  },
  {
   "attachments": {},
   "cell_type": "markdown",
   "id": "6b8f8d0c",
   "metadata": {
    "deletable": false,
    "editable": false,
    "nbgrader": {
     "cell_type": "markdown",
     "checksum": "def82a2846a9805038575d7a32f876d1",
     "grade": false,
     "grade_id": "cell-ab2d437e9c4904da",
     "locked": true,
     "schema_version": 3,
     "solution": false,
     "task": false
    }
   },
   "source": [
    "For development purposes, we use the parameter `max_desc` to load a maximum number (1000) of the descriptors. This will speed up the execution of the rest of the notebook, while the decrease in performance will be minimum.\n",
    "\n",
    "> **Some images do not have keypoints/descriptors. Take this into account when you develop your solution.**"
   ]
  },
  {
   "attachments": {},
   "cell_type": "markdown",
   "id": "9e2aeee4",
   "metadata": {
    "deletable": false,
    "editable": false,
    "nbgrader": {
     "cell_type": "markdown",
     "checksum": "60adae6f4efbeab4f703dbd5766b886a",
     "grade": false,
     "grade_id": "cell-d1426301b6919ea6",
     "locked": true,
     "schema_version": 3,
     "solution": false,
     "task": false
    }
   },
   "source": [
    "## $k$-d trees and LSH \n",
    "Let's start coding. At this section, you will develop a retrieval system using $k$-d trees and Locality Sensitive Hashing (LSH). "
   ]
  },
  {
   "attachments": {},
   "cell_type": "markdown",
   "id": "9b5ec641",
   "metadata": {
    "deletable": false,
    "editable": false,
    "nbgrader": {
     "cell_type": "markdown",
     "checksum": "f777b4f2f29da5a3b28c0c26ca4e9859",
     "grade": false,
     "grade_id": "cell-06801f1c07fb6919",
     "locked": true,
     "schema_version": 3,
     "solution": false,
     "task": false
    }
   },
   "source": [
    "### General framework\n",
    "As we did in the first assignment, you first will develop some utilities to simplify your work. Write a function called `search_image` to search an image in a generic index (database). You should search each descriptor of the given query image and obtain its two closest SIFT descriptors in the database. Next, the initial set of matches should be filtered using the **NNDR criterion (use 0.8 as ratio)**, as you did in the previous assignment. For each database image, its final score with regard to this query image will be the **number of correct matches** with this image:"
   ]
  },
  {
   "cell_type": "code",
   "execution_count": 49,
   "id": "d9560c34",
   "metadata": {
    "deletable": false,
    "nbgrader": {
     "cell_type": "code",
     "checksum": "83f21825a10b2eff1d2829d308a0fd11",
     "grade": false,
     "grade_id": "cell-0bdc1eecfec1c973",
     "locked": false,
     "schema_version": 3,
     "solution": true,
     "task": false
    }
   },
   "outputs": [],
   "source": [
    "from collections import defaultdict\n",
    "\n",
    "def search_image(descs, index, id_to_name):\n",
    "    \"\"\"\n",
    "    Search an image in the index\n",
    "    \n",
    "    - descs: A numpy array. This is the set descriptors extracted from the query image\n",
    "    - index: OpenCV FLANN index to search for descriptors.\n",
    "    - id_to_name: An associative list to link every image index to its real name\n",
    "        e.g. id_to_name[0] = '100001.jpg', id_to_name[1] = '100002.jpg'\n",
    "  \n",
    "    RETURN: \n",
    "    - An ordered list of similar images, e.g.: ['100101.jpg', '100202.jpg', ...]\n",
    "    \"\"\"\n",
    "  \n",
    "    # YOUR CODE HERE\n",
    "    \n",
    "    # Finding the images that have descriptors, some do not have\n",
    "    has_descs = np.where(np.any(descs, axis=1))[0]\n",
    "    if len(has_descs) == 0:\n",
    "        return []\n",
    "\n",
    "    # Finding the two nearest neighbors for each query descriptor\n",
    "    matches = index.knnMatch(queryDescriptors=descs[has_descs], k=2)\n",
    "\n",
    "    # Filtering the matches using NNDR criterion\n",
    "    good_matches = defaultdict(int)\n",
    "\n",
    "    for i, (m, n) in enumerate(matches):\n",
    "        if m.distance < (0.8 * n.distance):\n",
    "            img_idx = m.imgIdx\n",
    "            good_matches[img_idx] += 1\n",
    "\n",
    "    if not good_matches:\n",
    "        return []\n",
    "    \n",
    "    # Sort images by number of good matches\n",
    "    sorted_matches = sorted(good_matches.items(), key=lambda x: x[1], reverse=True)\n",
    "\n",
    "    # Get the names of the images that match the descriptors\n",
    "    names = []\n",
    "    for idx, score in sorted_matches:\n",
    "        name = id_to_name[idx]\n",
    "        names.append(name)\n",
    "\n",
    "    return names"
   ]
  },
  {
   "attachments": {},
   "cell_type": "markdown",
   "id": "5470e6a8",
   "metadata": {
    "deletable": false,
    "editable": false,
    "nbgrader": {
     "cell_type": "markdown",
     "checksum": "9645cb4e0f90d6437de5fa72c21ef651",
     "grade": false,
     "grade_id": "cell-349a4f0ebb8e378b",
     "locked": true,
     "schema_version": 3,
     "solution": false,
     "task": false
    }
   },
   "source": [
    "Now, write a function called `compute_mAP`. Given a list of query images and a trained index, this function should return a Python dictionary with the ordered results for each query along with the computed mAP:"
   ]
  },
  {
   "cell_type": "code",
   "execution_count": 7,
   "id": "0195c2f4",
   "metadata": {
    "deletable": false,
    "nbgrader": {
     "cell_type": "code",
     "checksum": "5bc12399d04420171b09954818212fde",
     "grade": false,
     "grade_id": "cell-c3ba4bcd35106be8",
     "locked": false,
     "schema_version": 3,
     "solution": true,
     "task": false
    }
   },
   "outputs": [],
   "source": [
    "def compute_mAP(query_names, query_desc, index, id_to_name):\n",
    "    \"\"\"\n",
    "    Perform a search for a list of query images against the database.\n",
    "    \n",
    "    - query_names: An ordered list with the names of the query images\n",
    "    - query_desc: A list containing numpy arrays of size (ndesc_for_this_image, 128)\n",
    "                  Each numpy array i corresponds to the descriptors found at image i\n",
    "    - index: FLANN index\n",
    "    - id_to_name: An associative array to link every image index to its real name\n",
    "                  e.g. id_to_name[0] = '100001.jpg', id_to_name[1] = '100002.jpg'\n",
    "  \n",
    "    RETURN: \n",
    "    - total_results: A dictionary containing, for each query image, an sorted list of the database images\n",
    "    - m_ap: Mean Average Precision averaged over all queries\n",
    "    \"\"\"\n",
    "    total_results = {}\n",
    "    m_ap = 0.0\n",
    "  \n",
    "    # YOUR CODE HERE\n",
    "    for i, qname in enumerate(query_names):\n",
    "        qdesc = query_desc[i]\n",
    "        results = search_image(qdesc, index, id_to_name)\n",
    "        total_results[qname] = results\n",
    "        \n",
    "        # Compute AP for this query\n",
    "        gt = set([name for name in results if name.startswith(qname[:4])])\n",
    "        ap = 0.0\n",
    "        num_correct = 0\n",
    "        if len(gt) == 0:\n",
    "            ap = 0.0\n",
    "        else:\n",
    "            for j, rname in enumerate(results):\n",
    "                if rname.startswith(qname[:4]):\n",
    "                    num_correct += 1\n",
    "                    ap += float(num_correct) / (j+1)\n",
    "\n",
    "            ap /= len(gt)\n",
    "        m_ap += ap\n",
    "    \n",
    "    m_ap /= len(query_names)\n",
    "    \n",
    "    return total_results, m_ap"
   ]
  },
  {
   "attachments": {},
   "cell_type": "markdown",
   "id": "6a7782f8",
   "metadata": {
    "deletable": false,
    "editable": false,
    "nbgrader": {
     "cell_type": "markdown",
     "checksum": "3eda381e7ffcc78a7ec1e7c916eab2a2",
     "grade": false,
     "grade_id": "cell-41b189c4ea538e00",
     "locked": true,
     "schema_version": 3,
     "solution": false,
     "task": false
    }
   },
   "source": [
    "### $k$-d Trees\n",
    "In this section you will use a set of randomized $k$-d trees to index the database of images. Write a function called `build_db_kdtrees` to build a set of randomized $k$-d trees given a set of descriptors:\n",
    "\n",
    "> **Useful links**: [cv2.FlannBasedMatcher](https://docs.opencv.org/4.5.5/dc/de2/classcv_1_1FlannBasedMatcher.html), [Possible algorithms to create an index](https://docs.opencv.org/4.5.5/db/d18/classcv_1_1flann_1_1GenericIndex.html#a8fff14185f9f3d2f2311b528f65b146c), [Algorithms IDs](https://github.com/opencv/opencv/blob/master/modules/flann/include/opencv2/flann/defines.h#L70)"
   ]
  },
  {
   "cell_type": "code",
   "execution_count": 8,
   "id": "3586111e",
   "metadata": {
    "deletable": false,
    "nbgrader": {
     "cell_type": "code",
     "checksum": "7a4f13ccc15c7eb033518fc08fabcfff",
     "grade": false,
     "grade_id": "cell-19e04b97f8d87a86",
     "locked": false,
     "schema_version": 3,
     "solution": true,
     "task": false
    }
   },
   "outputs": [],
   "source": [
    "def build_db_kdtrees(descs, ntrees = 4):\n",
    "    \"\"\"\n",
    "    Build a set of randomized k-d trees.\n",
    "    \n",
    "    - descs: A list of length len(img_names) where each element is a numpy array \n",
    "        of size (ndesc_for_this_image, 128). Each numpy array i corresponds \n",
    "        to the descriptors found on image i\n",
    "    - ntrees: Number of trees to train\n",
    "  \n",
    "    RETURN: \n",
    "    - index: Trained FLANN index\n",
    "    \"\"\"  \n",
    "    index = None\n",
    "  \n",
    "    # YOUR CODE HERE\n",
    "    \n",
    "    # Convert descriptors to float32\n",
    "    descs = [desc.astype(np.float32) for desc in descs]\n",
    "  \n",
    "    # Set up FLANN matcher with KDTreeIndexParams\n",
    "    index_params = dict(algorithm=1, trees=ntrees)\n",
    "    flann = cv2.FlannBasedMatcher(index_params, {})\n",
    "    \n",
    "    # Add descriptors to FLANN index\n",
    "    flann.add(descs)\n",
    "    \n",
    "    # Train the FLANN index\n",
    "    flann.train()\n",
    "    \n",
    "    # Get the trained FLANN index\n",
    "    index = flann\n",
    "    \n",
    "    return index"
   ]
  },
  {
   "cell_type": "code",
   "execution_count": 9,
   "id": "2fe39d9d",
   "metadata": {
    "deletable": false,
    "editable": false,
    "nbgrader": {
     "cell_type": "code",
     "checksum": "eb2220563691ccf61e3d342d9b287da7",
     "grade": true,
     "grade_id": "cell-803ccdc307b881ec",
     "locked": true,
     "points": 0.35,
     "schema_version": 3,
     "solution": false,
     "task": false
    }
   },
   "outputs": [
    {
     "name": "stdout",
     "output_type": "stream",
     "text": [
      "2\n"
     ]
    }
   ],
   "source": [
    "# Simple example of DB construction\n",
    "index = build_db_kdtrees(train_desc[0:2])\n",
    "print(len(index.getTrainDescriptors()))"
   ]
  },
  {
   "cell_type": "code",
   "execution_count": 10,
   "id": "8598581a",
   "metadata": {
    "deletable": false,
    "editable": false,
    "nbgrader": {
     "cell_type": "code",
     "checksum": "78413f286a0c5bc8130c2fc5786a1872",
     "grade": true,
     "grade_id": "cell-207a3f0134254933",
     "locked": true,
     "points": 0.35,
     "schema_version": 3,
     "solution": false,
     "task": false
    }
   },
   "outputs": [
    {
     "name": "stdout",
     "output_type": "stream",
     "text": [
      "['100002.jpg', '100001.jpg']\n"
     ]
    }
   ],
   "source": [
    "# Search an image in the index\n",
    "img_res = search_image(query_desc[0], index, train_names[0:2])\n",
    "print(img_res)"
   ]
  },
  {
   "cell_type": "code",
   "execution_count": 11,
   "id": "0c32c81c",
   "metadata": {
    "deletable": false,
    "editable": false,
    "nbgrader": {
     "cell_type": "code",
     "checksum": "9f8eea34eed5f81d059b93a46ecd69a8",
     "grade": true,
     "grade_id": "cell-bf632685cb412e33",
     "locked": true,
     "points": 0.25,
     "schema_version": 3,
     "solution": false,
     "task": false
    }
   },
   "outputs": [
    {
     "name": "stdout",
     "output_type": "stream",
     "text": [
      "['100002.jpg', '100001.jpg']\n",
      "['100001.jpg', '100002.jpg']\n",
      "0.002\n"
     ]
    }
   ],
   "source": [
    "# Example of computing mAP\n",
    "results, mAP = compute_mAP(query_names, query_desc, index, train_names[0:2])\n",
    "print(results['100000.jpg'])\n",
    "print(results['100100.jpg'])\n",
    "print(mAP) # This should be 0 now, since there is only two images in the database."
   ]
  },
  {
   "attachments": {},
   "cell_type": "markdown",
   "id": "ec669537",
   "metadata": {
    "deletable": false,
    "editable": false,
    "nbgrader": {
     "cell_type": "markdown",
     "checksum": "88ad41437443c287f925e3cf262365ad",
     "grade": false,
     "grade_id": "cell-2ed91024e8f67fdf",
     "locked": true,
     "schema_version": 3,
     "solution": false,
     "task": false
    }
   },
   "source": [
    "**Q1**: Using functions developed so far, in the following cell compute the resulting **mAP** of the system **using 4 trees**:"
   ]
  },
  {
   "cell_type": "code",
   "execution_count": 12,
   "id": "d3d0cfe3",
   "metadata": {
    "deletable": false,
    "nbgrader": {
     "cell_type": "code",
     "checksum": "682488215de47970cc34d71265a92481",
     "grade": false,
     "grade_id": "cell-04f414377f3437e6",
     "locked": false,
     "schema_version": 3,
     "solution": true,
     "task": false
    }
   },
   "outputs": [],
   "source": [
    "# Fill this variable with the resulting mAP\n",
    "mAP_kdtree = 0.0\n",
    "\n",
    "# YOUR CODE HERE\n",
    "\n",
    "index = build_db_kdtrees(train_desc,4) #using kd-tree with 4 trees\n",
    "\n",
    "# Compute mAP\n",
    "results, mAP_kdtree = compute_mAP(query_names, query_desc, index, train_names)"
   ]
  },
  {
   "cell_type": "code",
   "execution_count": 13,
   "id": "f3ef5289",
   "metadata": {
    "deletable": false,
    "editable": false,
    "nbgrader": {
     "cell_type": "code",
     "checksum": "b84112f2224a789def8dcb4f067f9314",
     "grade": true,
     "grade_id": "cell-26ff0e22e3398306",
     "locked": true,
     "points": 0.3,
     "schema_version": 3,
     "solution": false,
     "task": false
    }
   },
   "outputs": [
    {
     "name": "stdout",
     "output_type": "stream",
     "text": [
      "mAP: 0.77856\n"
     ]
    }
   ],
   "source": [
    "print('mAP: %.5f' % mAP_kdtree)"
   ]
  },
  {
   "attachments": {},
   "cell_type": "markdown",
   "id": "57bae631",
   "metadata": {
    "deletable": false,
    "editable": false,
    "nbgrader": {
     "cell_type": "markdown",
     "checksum": "8837b491f312c23d720b289d446df108",
     "grade": false,
     "grade_id": "cell-1beea12d1f8191d8",
     "locked": true,
     "schema_version": 3,
     "solution": false,
     "task": false
    }
   },
   "source": [
    "**Q2**: Are the results stable? Do you obtain always the same mAP? Why?"
   ]
  },
  {
   "attachments": {},
   "cell_type": "markdown",
   "id": "72827768",
   "metadata": {
    "deletable": false,
    "editable": false,
    "nbgrader": {
     "cell_type": "markdown",
     "checksum": "a083d74d09c0478de8347d42afc480e2",
     "grade": false,
     "grade_id": "cell-ec07385de7cc53f8",
     "locked": true,
     "points": 0.1,
     "schema_version": 3,
     "solution": false,
     "task": true
    }
   },
   "source": [
    "Write here the code required to answer the questions stated above. You can add more cells (code / markdown) at this point if you need it."
   ]
  },
  {
   "cell_type": "code",
   "execution_count": 14,
   "id": "53f9a84c",
   "metadata": {},
   "outputs": [
    {
     "name": "stdout",
     "output_type": "stream",
     "text": [
      "Experiment 1: mAP using kd-tree with 4 trees: 0.7702714483561388\n",
      "Experiment 2: mAP using kd-tree with 4 trees: 0.7764661630623666\n",
      "Experiment 3: mAP using kd-tree with 4 trees: 0.7720657975581351\n",
      "Experiment 4: mAP using kd-tree with 4 trees: 0.7844685556823638\n",
      "Experiment 5: mAP using kd-tree with 4 trees: 0.7781878946984672\n",
      "Experiment 6: mAP using kd-tree with 4 trees: 0.7744519540251799\n",
      "Experiment 7: mAP using kd-tree with 4 trees: 0.7832825039563117\n",
      "Experiment 8: mAP using kd-tree with 4 trees: 0.7761060906137679\n",
      "Experiment 9: mAP using kd-tree with 4 trees: 0.7713382749672067\n",
      "Experiment 10: mAP using kd-tree with 4 trees: 0.7760587150850844\n",
      "Average mAP: 0.7762697398005022\n"
     ]
    }
   ],
   "source": [
    "# To check if the results are stable and if we obtain always the same mAP\n",
    "# we can run the code multiple times and compare the results.\n",
    "\n",
    "num_experiments = 10\n",
    "\n",
    "mAPs = []\n",
    "for i in range(num_experiments):\n",
    "    index = build_db_kdtrees(train_desc,4)\n",
    "    results, mAP_kdtree = compute_mAP(query_names, query_desc, index, train_names)\n",
    "    mAPs.append(mAP_kdtree)\n",
    "    print(f\"Experiment {i+1}: mAP using kd-tree with 4 trees:\", mAP_kdtree)\n",
    "\n",
    "print(\"Average mAP:\", np.mean(mAPs))"
   ]
  },
  {
   "attachments": {},
   "cell_type": "markdown",
   "id": "c458e153",
   "metadata": {},
   "source": [
    "The mAP values obtained in each experiment are different. This is because kd-tree is a randomized algorithm that depends on the initial random state and the data distribution. As a result, different runs of the same algorithm on the same data can result in slightly different outcomes."
   ]
  },
  {
   "attachments": {},
   "cell_type": "markdown",
   "id": "8baed384",
   "metadata": {
    "deletable": false,
    "editable": false,
    "nbgrader": {
     "cell_type": "markdown",
     "checksum": "c1c86d138c2c669b41e3a51679ce66bc",
     "grade": false,
     "grade_id": "cell-841e3c52c9507dd9",
     "locked": true,
     "schema_version": 3,
     "solution": false,
     "task": false
    }
   },
   "source": [
    "**Q3:** Analyze the effect of changing the number of trees in terms of mAP and average response time. Some plots here can be useful to justify your answer."
   ]
  },
  {
   "attachments": {},
   "cell_type": "markdown",
   "id": "3e57caf1",
   "metadata": {
    "deletable": false,
    "editable": false,
    "nbgrader": {
     "cell_type": "markdown",
     "checksum": "5db66b397a32190212db1ae492721778",
     "grade": false,
     "grade_id": "cell-d936cbc9cbbff824",
     "locked": true,
     "points": 0.4,
     "schema_version": 3,
     "solution": false,
     "task": true
    }
   },
   "source": [
    "Write here the code required to answer the questions stated above. You can add more cells (code / markdown) at this point if you need it."
   ]
  },
  {
   "cell_type": "code",
   "execution_count": 15,
   "id": "038d5e98",
   "metadata": {},
   "outputs": [
    {
     "name": "stdout",
     "output_type": "stream",
     "text": [
      "mAP using kd-tree with 1 trees: 0.7707092502680138\n",
      "Average response time using kd-tree with 1 trees: 0.0178 seconds per query.\n",
      "mAP using kd-tree with 2 trees: 0.7755359529926559\n",
      "Average response time using kd-tree with 2 trees: 0.0228 seconds per query.\n",
      "mAP using kd-tree with 4 trees: 0.7793499843626158\n",
      "Average response time using kd-tree with 4 trees: 0.0272 seconds per query.\n",
      "mAP using kd-tree with 8 trees: 0.7777872661794019\n",
      "Average response time using kd-tree with 8 trees: 0.0293 seconds per query.\n",
      "mAP using kd-tree with 16 trees: 0.7881833293993585\n",
      "Average response time using kd-tree with 16 trees: 0.0413 seconds per query.\n",
      "mAP using kd-tree with 32 trees: 0.7898629251304252\n",
      "Average response time using kd-tree with 32 trees: 0.0524 seconds per query.\n"
     ]
    }
   ],
   "source": [
    "import time\n",
    "\n",
    "# Defining the number of trees to evaluate\n",
    "num_trees = [1, 2, 4, 8, 16, 32]\n",
    "\n",
    "mAPs = []\n",
    "times = []\n",
    "for t in num_trees:\n",
    "    index = build_db_kdtrees(train_desc, t)\n",
    "    start_time = time.time()\n",
    "    results, mAP_kdtree = compute_mAP(query_names, query_desc, index, train_names)\n",
    "    end_time = time.time()\n",
    "    elapsed_time = end_time - start_time\n",
    "    mAPs.append(mAP_kdtree)\n",
    "    times.append(elapsed_time)\n",
    "    print(f\"mAP using kd-tree with {t} trees:\", mAP_kdtree)\n",
    "    print(f\"Average response time using kd-tree with {t} trees: {elapsed_time/len(query_names):.4f} seconds per query.\")\n"
   ]
  },
  {
   "attachments": {},
   "cell_type": "markdown",
   "id": "fcb3b0be",
   "metadata": {},
   "source": [
    "The results show that as the number of trees increases, the mAP score also increases, which indicates that using more trees in the kd-tree can improve the retrieval performance. However, this comes at a cost of increased average response time per query, as more trees need to be traversed to find the nearest neighbors. Therefore, there is a trade-off between retrieval performance and speed."
   ]
  },
  {
   "cell_type": "code",
   "execution_count": 16,
   "id": "5156056a",
   "metadata": {},
   "outputs": [
    {
     "data": {
      "image/png": "[encoded data removed]",
      "text/plain": [
       "<Figure size 1000x500 with 2 Axes>"
      ]
     },
     "metadata": {},
     "output_type": "display_data"
    }
   ],
   "source": [
    "# Plot the results\n",
    "import matplotlib.pyplot as plt\n",
    "\n",
    "plt.figure(figsize=(10, 5))\n",
    "plt.subplot(1, 2, 1)\n",
    "plt.plot(num_trees, mAPs)\n",
    "plt.title('mAP vs number of trees')\n",
    "plt.xlabel('Number of trees')\n",
    "plt.ylabel('mAP')\n",
    "\n",
    "plt.subplot(1, 2, 2)\n",
    "plt.plot(num_trees, times)\n",
    "plt.title('Average response time vs number of trees')\n",
    "plt.xlabel('Number of trees')\n",
    "plt.ylabel('Time (s)')\n",
    "plt.show()"
   ]
  },
  {
   "attachments": {},
   "cell_type": "markdown",
   "id": "52633ad1",
   "metadata": {
    "deletable": false,
    "editable": false,
    "nbgrader": {
     "cell_type": "markdown",
     "checksum": "8c4200b732e230d6a8a6b768558cdfd9",
     "grade": false,
     "grade_id": "cell-f1f7ebd50bedb10b",
     "locked": true,
     "schema_version": 3,
     "solution": false,
     "task": false
    }
   },
   "source": [
    "### Locality Sensitive Hashing (LSH)\n",
    "In this section, you will use LSH to index the database of images. The LSH implementation included in OpenCV uses **bit sampling** for **Hamming distance** as a hash function and, therefore, binary descriptors must be used. Hence, SIFT descriptors are not valid and we need to describe the images, but using, for instance, ORB.\n",
    "\n",
    "In the following cell, write the code required to generate **roughly 1500 keypoints / descriptors** using ORB for each query / train image:\n",
    "\n",
    "> **Useful links**: [cv2.ORB_create](https://docs.opencv.org/4.5.4/db/d95/classcv_1_1ORB.html#aeff0cbe668659b7ca14bb85ff1c4073b)"
   ]
  },
  {
   "cell_type": "code",
   "execution_count": 17,
   "id": "4b1223cb",
   "metadata": {
    "deletable": false,
    "nbgrader": {
     "cell_type": "code",
     "checksum": "dc9a6073046a70410fc58fcb05637321",
     "grade": false,
     "grade_id": "cell-062e499099d47f25",
     "locked": false,
     "schema_version": 3,
     "solution": true,
     "task": false
    }
   },
   "outputs": [],
   "source": [
    "query_kps_orb  = []\n",
    "query_desc_orb = []\n",
    "train_kps_orb  = []\n",
    "train_desc_orb = []\n",
    "\n",
    "# YOUR CODE HERE\n",
    "orb = cv2.ORB_create(nfeatures=1500)\n",
    "\n",
    "# Loop over query images\n",
    "for img in query_imgs:\n",
    "    # Find keypoints and descriptors\n",
    "    kps, desc = orb.detectAndCompute(img, None)\n",
    "    query_kps_orb.append(kps)\n",
    "    query_desc_orb.append(desc)\n",
    "\n",
    "# Loop over train images\n",
    "for img in train_imgs:\n",
    "    # Find keypoints and descriptors\n",
    "    kps, desc = orb.detectAndCompute(img, None)\n",
    "    train_kps_orb.append(kps)\n",
    "    train_desc_orb.append(desc)"
   ]
  },
  {
   "cell_type": "code",
   "execution_count": 25,
   "id": "03aa9edf",
   "metadata": {
    "deletable": false,
    "editable": false,
    "nbgrader": {
     "cell_type": "code",
     "checksum": "f9a38f6232680ae68df6075ea3ebc06f",
     "grade": true,
     "grade_id": "cell-6d11da6cb5de46b2",
     "locked": true,
     "points": 0.25,
     "schema_version": 3,
     "solution": false,
     "task": false
    }
   },
   "outputs": [
    {
     "name": "stdout",
     "output_type": "stream",
     "text": [
      "1500\n",
      "(1500, 32)\n",
      "[[124  43 176 ... 111 222   3]\n",
      " [ 56 141 104 ...  42 212 234]\n",
      " [227 182 190 ...  68 207 223]\n",
      " ...\n",
      " [ 33 201 205 ... 154 218 140]\n",
      " [ 76  18 140 ...  67 141  83]\n",
      " [199  92 149 ...  89 137  22]]\n"
     ]
    }
   ],
   "source": [
    "# Show some data\n",
    "print(len(query_kps_orb[0]))\n",
    "print(query_desc_orb[0].shape)\n",
    "print(query_desc_orb[0])"
   ]
  },
  {
   "attachments": {},
   "cell_type": "markdown",
   "id": "b3362cc8",
   "metadata": {
    "deletable": false,
    "editable": false,
    "nbgrader": {
     "cell_type": "markdown",
     "checksum": "9a9880eb8c1c99547f3fe1539255e4d6",
     "grade": false,
     "grade_id": "cell-a600dc9ab1f5c001",
     "locked": true,
     "schema_version": 3,
     "solution": false,
     "task": false
    }
   },
   "source": [
    "Next, write a function called `build_db_lsh` to build a **standard** (*no multi-probe*) LSH index from a set of images:"
   ]
  },
  {
   "cell_type": "code",
   "execution_count": 50,
   "id": "7f4e0e3e",
   "metadata": {
    "deletable": false,
    "nbgrader": {
     "cell_type": "code",
     "checksum": "01a750d8c65eeb552ecc7df3d46c5dc4",
     "grade": false,
     "grade_id": "cell-93ee6119edf6b51c",
     "locked": false,
     "schema_version": 3,
     "solution": true,
     "task": false
    }
   },
   "outputs": [],
   "source": [
    "def build_db_lsh(descs, tables = 6, hash_size = 12):\n",
    "    \"\"\"\n",
    "    Index a set of images using LSH.    \n",
    "    \n",
    "    - descs: A list containing numpy arrays of size (~1500, 32). Each numpy array\n",
    "        i corresponds to the ORB descriptors found at image i.\n",
    "    - tables: Number of hash tables to create.\n",
    "    - hash_size: Hash length in bits.\n",
    "  \n",
    "    RETURN: \n",
    "    - index: The trained LSH index.\n",
    "    \"\"\"  \n",
    "    index = None\n",
    "  \n",
    "    # YOUR CODE HERE\n",
    "    \n",
    "    index_params = dict(algorithm=6, table_number=tables, key_size=hash_size, multi_probe_level=0)\n",
    "    search_params = dict(checks=50)\n",
    "    flann = cv2.FlannBasedMatcher(index_params, search_params)\n",
    "    flann.add(descs)\n",
    "    \n",
    "    index = flann\n",
    "    \n",
    "    return index"
   ]
  },
  {
   "cell_type": "code",
   "execution_count": 31,
   "id": "80ccfabe",
   "metadata": {
    "deletable": false,
    "editable": false,
    "nbgrader": {
     "cell_type": "code",
     "checksum": "9fdc504017e8d06899e084c165d74520",
     "grade": true,
     "grade_id": "cell-4cd31f9613416c8c",
     "locked": true,
     "points": 0.25,
     "schema_version": 3,
     "solution": false,
     "task": false
    }
   },
   "outputs": [
    {
     "name": "stdout",
     "output_type": "stream",
     "text": [
      "2\n"
     ]
    }
   ],
   "source": [
    "# Simple example of DB construction\n",
    "index = build_db_lsh(train_desc_orb[0:2])\n",
    "print(len(index.getTrainDescriptors()))"
   ]
  },
  {
   "attachments": {},
   "cell_type": "markdown",
   "id": "e544ed8d",
   "metadata": {
    "deletable": false,
    "editable": false,
    "nbgrader": {
     "cell_type": "markdown",
     "checksum": "38d285da40073176866dd77553724748",
     "grade": false,
     "grade_id": "cell-a1da1133b9232fd9",
     "locked": true,
     "schema_version": 3,
     "solution": false,
     "task": false
    }
   },
   "source": [
    "**Q4**: In the following cell compute the resulting **mAP** of the system **using 6 tables and a hash size of 12**:"
   ]
  },
  {
   "attachments": {},
   "cell_type": "markdown",
   "id": "d5b3c936",
   "metadata": {},
   "source": [
    "Since it takes too long time to calculate all the query dataset, the first 50 images are calculated"
   ]
  },
  {
   "cell_type": "code",
   "execution_count": 52,
   "id": "1a0ebcfb",
   "metadata": {
    "deletable": false,
    "nbgrader": {
     "cell_type": "code",
     "checksum": "2f3191083982b55431eff3415f61b7f1",
     "grade": false,
     "grade_id": "cell-f87580b24fd1f890",
     "locked": false,
     "schema_version": 3,
     "solution": true,
     "task": false
    }
   },
   "outputs": [],
   "source": [
    "# Fill this variable with the resulting mAP\n",
    "mAP_lsh = 0.0\n",
    "\n",
    "# YOUR CODE HERE\n",
    "index = build_db_lsh(train_desc_orb)\n",
    "\n",
    "# Compute mAP\n",
    "results, mAP_lsh = compute_mAP(query_names[0:50], query_desc_orb[0:50], index, train_names)"
   ]
  },
  {
   "cell_type": "code",
   "execution_count": 34,
   "id": "c9716be7",
   "metadata": {
    "deletable": false,
    "editable": false,
    "nbgrader": {
     "cell_type": "code",
     "checksum": "1f17a5c7ff24433ee72fc57309464e1d",
     "grade": true,
     "grade_id": "cell-ec858b0d23c14805",
     "locked": true,
     "points": 0.3,
     "schema_version": 3,
     "solution": false,
     "task": false
    }
   },
   "outputs": [
    {
     "name": "stdout",
     "output_type": "stream",
     "text": [
      "mAP: 0.62774\n"
     ]
    }
   ],
   "source": [
    "print('mAP: %.5f' % mAP_lsh)"
   ]
  },
  {
   "attachments": {},
   "cell_type": "markdown",
   "id": "1e599bd3",
   "metadata": {
    "deletable": false,
    "editable": false,
    "nbgrader": {
     "cell_type": "markdown",
     "checksum": "366c9df3aeae12173192aac1056ff733",
     "grade": false,
     "grade_id": "cell-d8075ffe941e29c7",
     "locked": true,
     "schema_version": 3,
     "solution": false,
     "task": false
    }
   },
   "source": [
    "**Q5**: Are the results stable? Do you obtain always the same mAP? Why?"
   ]
  },
  {
   "attachments": {},
   "cell_type": "markdown",
   "id": "71126dfa",
   "metadata": {
    "deletable": false,
    "editable": false,
    "nbgrader": {
     "cell_type": "markdown",
     "checksum": "c85322c4a8c34cc55f2f7ad98540d84b",
     "grade": false,
     "grade_id": "cell-edcdac402707a587",
     "locked": true,
     "points": 0.1,
     "schema_version": 3,
     "solution": false,
     "task": true
    }
   },
   "source": [
    "Write here the code required to answer the questions stated above. You can add more cells (code / markdown) at this point if you need it."
   ]
  },
  {
   "cell_type": "code",
   "execution_count": 35,
   "id": "9a01db19",
   "metadata": {},
   "outputs": [
    {
     "name": "stdout",
     "output_type": "stream",
     "text": [
      "Experiment 1: mAP using LSH: 0.5886887673729779\n",
      "Experiment 2: mAP using LSH: 0.6410168498168498\n",
      "Experiment 3: mAP using LSH: 0.6350350877192983\n",
      "Average mAP: 0.6215802349697087\n"
     ]
    }
   ],
   "source": [
    "# To check if the results are stable and if we obtain always the same mAP\n",
    "# we can run the code multiple times and compare the results.\n",
    "\n",
    "num_experiments = 3\n",
    "\n",
    "mAPs = []\n",
    "for i in range(num_experiments):\n",
    "    index = build_db_lsh(train_desc_orb)\n",
    "    results, mAP_lsh = compute_mAP(query_names[0:50], query_desc_orb[0:50], index, train_names)\n",
    "    mAPs.append(mAP_lsh)\n",
    "    print(f\"Experiment {i+1}: mAP using LSH:\", mAP_lsh)\n",
    "\n",
    "print(\"Average mAP:\", np.mean(mAPs))"
   ]
  },
  {
   "attachments": {},
   "cell_type": "markdown",
   "id": "582f8c34",
   "metadata": {},
   "source": [
    "The results are not completely stable, as we can see that the mAP values obtained for each experiment are different. However, they are relatively close to each other, with a difference of about 0.05 or less. This suggests that the LSH index is performing consistently across different runs, but there is some random variation in the results due to the probabilistic nature of LSH.\n",
    "\n",
    "LSH is a randomized algorithm that uses random hash functions to partition the data into multiple hash tables. As a result, the exact outcome of LSH can vary between different runs, even if the input data and parameters are the same. However, the overall performance of LSH is expected to be relatively stable.\n",
    "\n"
   ]
  },
  {
   "attachments": {},
   "cell_type": "markdown",
   "id": "64381fca",
   "metadata": {
    "deletable": false,
    "editable": false,
    "nbgrader": {
     "cell_type": "markdown",
     "checksum": "c7f9251c9c2fb58a5c8da91e18ff247f",
     "grade": false,
     "grade_id": "cell-cc45a7e11a9d7418",
     "locked": true,
     "schema_version": 3,
     "solution": false,
     "task": false
    }
   },
   "source": [
    "**Q6**: Analyze the effect of changing the number of tables / hash size in terms of mAP and average response time. Some plots here can be useful to justify your answer."
   ]
  },
  {
   "attachments": {},
   "cell_type": "markdown",
   "id": "7978b7c4",
   "metadata": {
    "deletable": false,
    "editable": false,
    "nbgrader": {
     "cell_type": "markdown",
     "checksum": "8c93526152466646fa030e2f834b3a1d",
     "grade": false,
     "grade_id": "cell-619d74db24e88fa1",
     "locked": true,
     "points": 0.4,
     "schema_version": 3,
     "solution": false,
     "task": true
    }
   },
   "source": [
    "Write here the code required to answer the questions stated above. You can add more cells (code / markdown) at this point if you need it."
   ]
  },
  {
   "cell_type": "code",
   "execution_count": 53,
   "id": "6a17bb11",
   "metadata": {},
   "outputs": [
    {
     "name": "stdout",
     "output_type": "stream",
     "text": [
      "mAP using LSH with 4 tables and 10 hash size: 0.6175992063492064\n",
      "Average response time using LSH with 4 tables and 10 hash size: 0.1489 seconds per query.\n",
      "mAP using LSH with 4 tables and 12 hash size: 0.6224528985507246\n",
      "Average response time using LSH with 4 tables and 12 hash size: 0.0487 seconds per query.\n",
      "mAP using LSH with 4 tables and 16 hash size: 0.6037477253928867\n",
      "Average response time using LSH with 4 tables and 16 hash size: 0.0095 seconds per query.\n",
      "mAP using LSH with 6 tables and 10 hash size: 0.6134494569757729\n",
      "Average response time using LSH with 6 tables and 10 hash size: 0.2492 seconds per query.\n",
      "mAP using LSH with 6 tables and 12 hash size: 0.602502563511638\n",
      "Average response time using LSH with 6 tables and 12 hash size: 0.1095 seconds per query.\n",
      "mAP using LSH with 6 tables and 16 hash size: 0.5711423923923924\n",
      "Average response time using LSH with 6 tables and 16 hash size: 0.0145 seconds per query.\n",
      "mAP using LSH with 8 tables and 10 hash size: 0.6096297313797314\n",
      "Average response time using LSH with 8 tables and 10 hash size: 0.3096 seconds per query.\n",
      "mAP using LSH with 8 tables and 12 hash size: 0.6088192307692308\n",
      "Average response time using LSH with 8 tables and 12 hash size: 0.1080 seconds per query.\n",
      "mAP using LSH with 8 tables and 16 hash size: 0.5686403537638831\n",
      "Average response time using LSH with 8 tables and 16 hash size: 0.0174 seconds per query.\n"
     ]
    }
   ],
   "source": [
    "import time\n",
    "\n",
    "# Defining the number of trees to evaluate\n",
    "num_tables = [4, 6, 8]\n",
    "hash_sizes = [10, 12, 16]\n",
    "\n",
    "mAPs = []\n",
    "times = []\n",
    "for t in num_tables:\n",
    "    mAPs_row = []\n",
    "    for h in hash_sizes:\n",
    "        index = build_db_lsh(train_desc_orb,t, h)\n",
    "        start_time = time.time()\n",
    "        results, mAP_lsh = compute_mAP(query_names[0:50], query_desc_orb[0:50], index, train_names)\n",
    "        end_time = time.time()\n",
    "        elapsed_time = end_time - start_time\n",
    "        mAPs.append(mAP_lsh)\n",
    "        times.append(elapsed_time)\n",
    "        print(f\"mAP using LSH with {t} tables and {h} hash size:\", mAP_lsh)\n",
    "        print(f\"Average response time using LSH with {t} tables and {h} hash size: {elapsed_time/len(query_names):.4f} seconds per query.\")\n",
    "        mAPs_row.append(mAP_lsh)\n",
    "    mAPs.append(mAPs_row)\n"
   ]
  },
  {
   "attachments": {},
   "cell_type": "markdown",
   "id": "9ee3ff3e",
   "metadata": {},
   "source": [
    "The results suggest that increasing the number of tables or hash size has a varying effect on both mAP and average response time.\n",
    "\n",
    "Regarding mAP, it appears that changing the number of tables has a minor impact on the results, while changing the hash size has a more significant impact. In particular, increasing the hash size from 10 to 12 generally leads to an improvement in mAP, while further increasing it to 16 leads to a decrease in mAP in most cases.\n",
    "\n"
   ]
  },
  {
   "attachments": {},
   "cell_type": "markdown",
   "id": "fb6da12a",
   "metadata": {},
   "source": [
    "On the other hand, changing the number of tables has a more significant impact on average response time, with a higher number of tables leading to longer processing times. This is particularly evident when using a small hash size of 10, where increasing the number of tables from 4 to 8 leads to a significant increase in average response time. However, this effect is less pronounced when using larger hash sizes of 12 and 16."
   ]
  },
  {
   "attachments": {},
   "cell_type": "markdown",
   "id": "74726440",
   "metadata": {
    "deletable": false,
    "editable": false,
    "nbgrader": {
     "cell_type": "markdown",
     "checksum": "782f69599ceab03a607af447630838a5",
     "grade": false,
     "grade_id": "cell-188915bcd830f95d",
     "locked": true,
     "schema_version": 3,
     "solution": false,
     "task": false
    }
   },
   "source": [
    "**Q7:** Despite the different descriptors used, compare the performance of the randomized k-d trees and LSH approaches from different points of view (accuracy, training times, querying times, ...). Some plots can be useful here to justify your answer."
   ]
  },
  {
   "attachments": {},
   "cell_type": "markdown",
   "id": "3cf65981",
   "metadata": {
    "deletable": false,
    "editable": false,
    "nbgrader": {
     "cell_type": "markdown",
     "checksum": "a5c50934954a56f23bc0f37e08b7966c",
     "grade": false,
     "grade_id": "cell-4b9be38f6bd33f20",
     "locked": true,
     "points": 0.4,
     "schema_version": 3,
     "solution": false,
     "task": true
    }
   },
   "source": [
    "Write here the code required to answer the questions stated above. You can add more cells (code / markdown) at this point if you need it."
   ]
  },
  {
   "cell_type": "code",
   "execution_count": 111,
   "id": "6c37cadd",
   "metadata": {},
   "outputs": [],
   "source": [
    "# Compute mAP using kd-trees\n",
    "index_kdtree = build_db_kdtrees(train_desc)\n",
    "results_kdtree, mAP_kdtree = compute_mAP(query_names[:50], query_desc[:50], index_kdtree, train_names)\n",
    "\n",
    "# Compute mAP using LSH\n",
    "index_lsh = build_db_lsh(train_desc_orb)\n",
    "results_lsh, mAP_lsh = compute_mAP(query_names[:50], query_desc_orb[:50], index_lsh, train_names)\n"
   ]
  },
  {
   "cell_type": "code",
   "execution_count": 112,
   "id": "ef5198af",
   "metadata": {},
   "outputs": [],
   "source": [
    "# Measure training time for kd-trees\n",
    "start_time = time.time()\n",
    "index_kdtree = build_db_kdtrees(train_desc, ntrees=4)\n",
    "training_time_kdtree = time.time() - start_time\n",
    "\n",
    "# Measure training time for LSH\n",
    "start_time = time.time()\n",
    "index_lsh = build_db_lsh(train_desc_orb, tables=6, hash_size=12)\n",
    "training_time_lsh = time.time() - start_time\n"
   ]
  },
  {
   "cell_type": "code",
   "execution_count": 119,
   "id": "e3b1e553",
   "metadata": {},
   "outputs": [],
   "source": [
    "# Measure querying time for kd-trees\n",
    "start_time = time.time()\n",
    "results_kdtree, mAP_kdtree = compute_mAP(query_names[:50], query_desc[:50], index_kdtree, train_names)\n",
    "querying_time_kdtree = time.time() - start_time\n",
    "\n",
    "# Measure querying time for LSH\n",
    "start_time = time.time()\n",
    "results_lsh, mAP_lsh = compute_mAP(query_names[:50], query_desc_orb[:50], index_lsh, train_names)\n",
    "querying_time_lsh = time.time() - start_time\n"
   ]
  },
  {
   "cell_type": "code",
   "execution_count": 126,
   "id": "1cb2eef0",
   "metadata": {},
   "outputs": [
    {
     "data": {
      "image/png": "[encoded data removed]",
      "text/plain": [
       "<Figure size 1200x400 with 3 Axes>"
      ]
     },
     "metadata": {},
     "output_type": "display_data"
    }
   ],
   "source": [
    "# Create subplots\n",
    "fig, axs = plt.subplots(1, 3, figsize=(12, 4))\n",
    "\n",
    "# Plot mAP\n",
    "axs[0].bar(['k-d tree', 'LSH'], [mAP_kdtree, mAP_lsh])\n",
    "axs[0].set_xlabel('Method')\n",
    "axs[0].set_ylabel('mAP')\n",
    "axs[0].set_title('mAP Comparison')\n",
    "\n",
    "# Plot training time\n",
    "axs[1].bar(['k-d tree', 'LSH'], [training_time_kdtree, training_time_lsh])\n",
    "axs[1].set_xlabel('Method')\n",
    "axs[1].set_ylabel('Training Time (s)')\n",
    "axs[1].set_title('Training Time Comparison')\n",
    "\n",
    "# Plot querying time\n",
    "axs[2].bar(['k-d tree', 'LSH'], [querying_time_kdtree, querying_time_lsh])\n",
    "axs[2].set_xlabel('Method')\n",
    "axs[2].set_ylabel('Querying Time (s)')\n",
    "axs[2].set_title('Querying Time Comparison')\n",
    "\n",
    "plt.show()\n"
   ]
  },
  {
   "attachments": {},
   "cell_type": "markdown",
   "id": "32f84930",
   "metadata": {},
   "source": [
    "The results show that the k-d tree method performs better than the LSH method in terms of mAP, with a higher score of 0.741 compared to 0.603. Also, the k-d tree method is much faster than the k-d tree method in querying time, with tquerying times of 47.09 and 1.58 seconds, respectively. On the other hand, LSH is faster in training time, with the values 0.027 and 5.27 seconds."
   ]
  },
  {
   "attachments": {},
   "cell_type": "markdown",
   "id": "d5d89bb5",
   "metadata": {
    "deletable": false,
    "editable": false,
    "nbgrader": {
     "cell_type": "markdown",
     "checksum": "14f9f77fddd83546aa0e96298ad3d679",
     "grade": false,
     "grade_id": "cell-6c6989014e168fd5",
     "locked": true,
     "schema_version": 3,
     "solution": false,
     "task": false
    }
   },
   "source": [
    "## Bag-of-Words\n",
    "In this section, you will implement the Bag-of-Words (BoW) model for image retrieval. Additionally, you will also implement the TF-IDF scoring scheme."
   ]
  },
  {
   "attachments": {},
   "cell_type": "markdown",
   "id": "9b174ede",
   "metadata": {
    "deletable": false,
    "editable": false,
    "nbgrader": {
     "cell_type": "markdown",
     "checksum": "4c2f0c59d241e9516d31054c2c930590",
     "grade": false,
     "grade_id": "cell-7947a0a3afccdc15",
     "locked": true,
     "schema_version": 3,
     "solution": false,
     "task": false
    }
   },
   "source": [
    "### Download visual dictionaries\n",
    "To use a BoW model, first we need a visual vocabulary. The authors of the INRIA Holidays dataset provide some visual vocabularies, trained using a clustering method (e.g. $k$-means) in a different dataset (Flickr60K).\n",
    "\n",
    "First, download these vocabularies from [here](https://uibes-my.sharepoint.com/:u:/g/personal/egf350_id_uib_es/EY1G011OvfJOnwqWQQzmHmgBkXhLHBaK00wdizsUT252dw).\n",
    "\n",
    "> **Unzip this file into the root directory of the development kit, at the same level of the datasets.**\n",
    "\n",
    "A folder named `clust` is now available in your workspace, containing visual vocabularies of 100, 200, 500, 1K, 2K, 5K, 10K, 20K, 50K, 100K and 200K visual words. Again, these are binary files, and therefore we provide you with functions to load and index them:"
   ]
  },
  {
   "cell_type": "code",
   "execution_count": 4,
   "id": "e26fefdc",
   "metadata": {
    "deletable": false,
    "editable": false,
    "nbgrader": {
     "cell_type": "code",
     "checksum": "260872183e8d586227feb2e0dd63b319",
     "grade": false,
     "grade_id": "cell-99af7beaa1c3d539",
     "locked": true,
     "schema_version": 3,
     "solution": false,
     "task": false
    }
   },
   "outputs": [],
   "source": [
    "voc = rd.load_visual_vocab(\"../clust/clust_flickr60_k200.fvecs\", ntrees=4)"
   ]
  },
  {
   "attachments": {},
   "cell_type": "markdown",
   "id": "97d05851",
   "metadata": {
    "deletable": false,
    "editable": false,
    "nbgrader": {
     "cell_type": "markdown",
     "checksum": "ea4b06e011018dbe3d7bf80de465099f",
     "grade": false,
     "grade_id": "cell-80d1363425120021",
     "locked": true,
     "schema_version": 3,
     "solution": false,
     "task": false
    }
   },
   "source": [
    "With this function, the corresponding vocabulary is read. Additionally, a FLANN index structure based on kd-trees is built and returned using the centroids. This is to allow a fast access when searching for the closest visual words in the vocabulary. More precisely, in this example, 4 trees are constructed using the vocabulary of 200 centroids. Now, given a query descriptor(s), you can use `match` or `knnMatch` methods as usual to search for the closest (approximate) visual word(s) in the vocabulary."
   ]
  },
  {
   "attachments": {},
   "cell_type": "markdown",
   "id": "95ccb141",
   "metadata": {
    "deletable": false,
    "editable": false,
    "nbgrader": {
     "cell_type": "markdown",
     "checksum": "7d2acd3a78267653f70223cc6c6148fe",
     "grade": false,
     "grade_id": "cell-fe94465177ae4be8",
     "locked": true,
     "schema_version": 3,
     "solution": false,
     "task": false
    }
   },
   "source": [
    "### BoW and Inverted File\n",
    "Now, write a class called `BoW` to manage the indexing procedure. This class should make use, in addition to the visual vocabulary, an inverted file to compute similarity scores between images. Apart from the class constructor, write three methods: `build_db`, `search_image` and `compute_mAP`:"
   ]
  },
  {
   "cell_type": "code",
   "execution_count": 72,
   "id": "802ae103",
   "metadata": {
    "deletable": false,
    "nbgrader": {
     "cell_type": "code",
     "checksum": "3705eff4ede554054ae49d94217c495c",
     "grade": false,
     "grade_id": "cell-aeb911c85fbfcee0",
     "locked": false,
     "schema_version": 3,
     "solution": true,
     "task": false
    }
   },
   "outputs": [],
   "source": [
    "from sklearn.metrics import average_precision_score\n",
    "\n",
    "class BoW:\n",
    "    \"\"\"\n",
    "    Class to implement the BoW model + Inverted File.\n",
    "    \"\"\"\n",
    "  \n",
    "    def __init__(self, vocab_file):\n",
    "        \"\"\"\n",
    "        Class constructor. It loads the vocabulary and initializes other stuff\n",
    "        required for the CBIR system, such as the inverted file structure.\n",
    "        \"\"\"\n",
    "        self.vocab = rd.load_visual_vocab(vocab_file)\n",
    "        self.nwords = self.vocab.getTrainDescriptors()[0].shape[0]\n",
    "        self.train_names = []\n",
    "        self.inv_list = {word_id: {} for word_id in range(self.nwords)}\n",
    "\n",
    "    def build_db(self, img_names, img_descs):\n",
    "        \"\"\"\n",
    "        Build an index from a set of images. Essentially, for each image, you should\n",
    "        search its descriptors in the index in order to find the closest visual words\n",
    "        and fill the inverted file structure consequently.\n",
    "    \n",
    "        - img_names: An ordered list with the names of the train images\n",
    "        - img_descs: A list containing numpy arrays. Each numpy array i corresponds \n",
    "          to the descriptors found at image i\n",
    "        \"\"\"\n",
    "        # YOUR CODE HERE                  \n",
    "        for i, img_desc in enumerate(img_descs):\n",
    "            visual_words = self.vocab.knnMatch(img_desc, k=1)\n",
    "            bow_hist = np.zeros(self.nwords)\n",
    "\n",
    "            for vw in visual_words:\n",
    "                word_id = vw[0].trainIdx\n",
    "                bow_hist[word_id] += 1\n",
    "            \n",
    "            if len(img_desc) != 0:\n",
    "                bow_hist /= len(img_desc)\n",
    "\n",
    "            for word_id, word_count in enumerate(bow_hist):\n",
    "                if word_count > 0:\n",
    "                    if img_names[i] not in self.inv_list[word_id]:\n",
    "                        self.inv_list[word_id][img_names[i]] = []\n",
    "                    self.inv_list[word_id][img_names[i]].append(word_count)\n",
    "\n",
    "    def search_image(self, descs):\n",
    "        \"\"\"\n",
    "        Search an image in the index.\n",
    "      \n",
    "        - descs: A numpy array. It is the set descriptors extracted from the query image.\n",
    "    \n",
    "        RETURN:\n",
    "        - An ordered list of similar images, e.g.: ['100101.jpg', '100202.jpg', ...]\n",
    "        \"\"\"\n",
    "        # YOUR CODE HERE\n",
    "        visual_words = self.vocab.knnMatch(descs, k=1)\n",
    "        bow_hist = np.zeros(self.nwords)\n",
    "\n",
    "        for vw in visual_words:\n",
    "            word_id = vw[0].trainIdx\n",
    "            bow_hist[word_id] += 1\n",
    "        \n",
    "        if len(descs) != 0:\n",
    "            bow_hist /= len(descs)\n",
    "\n",
    "        # Compute the scores for each image in the index\n",
    "        scores = {}\n",
    "        for word_id, word_count in enumerate(bow_hist):\n",
    "            if word_count == 0:\n",
    "                continue\n",
    "            for image_id, counts in self.inv_list[word_id].items():\n",
    "                if image_id not in scores:\n",
    "                    scores[image_id] = 0\n",
    "                scores[image_id] += word_count * sum(counts) / len(counts)\n",
    "\n",
    "        sorted_images = sorted(scores, key=scores.get, reverse=True)\n",
    "        return sorted_images  \n",
    "     \n",
    "    def compute_mAP(self, query_names, query_descs, gt_file='../holidays/holidays_images.dat'):\n",
    "        \"\"\"\n",
    "        Perform a search for a list of query images against the database and evaluates\n",
    "        the performance of the system.\n",
    "        \n",
    "        - query_names: An ordered list with the names of query images\n",
    "        - query_descs: A list containing numpy arrays of size (ndesc_for_this_image, 128). \n",
    "              Each numpy array i corresponds to the descriptors found at image i.\n",
    "\n",
    "        RETURN:\n",
    "        - total_results: A dictionary containing, for each query image, an ordered list of the retrieved images.\n",
    "        - m_ap: Mean Average Precision averaged over all queries.\n",
    "        \"\"\"\n",
    "        total_results = {}\n",
    "        m_ap = 0.0\n",
    "\n",
    "        # YOUR CODE HERE\n",
    "        for qname, qdesc in zip(query_names, query_descs):\n",
    "            # Search for similar images\n",
    "            results = self.search_image(qdesc)\n",
    "            total_results[qname] = results\n",
    "\n",
    "        m_ap = ev.compute_mAP(total_results, gt_file)\n",
    "        \n",
    "        return total_results, m_ap"
   ]
  },
  {
   "cell_type": "code",
   "execution_count": 73,
   "id": "efd007f2",
   "metadata": {
    "deletable": false,
    "editable": false,
    "nbgrader": {
     "cell_type": "code",
     "checksum": "8cdbbd209adde95163e67301a02db290",
     "grade": true,
     "grade_id": "cell-f6be571325c7ade3",
     "locked": true,
     "points": 0.3,
     "schema_version": 3,
     "solution": false,
     "task": false
    }
   },
   "outputs": [],
   "source": [
    "# Example of use\n",
    "index = BoW('../clust/clust_flickr60_k200.fvecs')\n",
    "index.build_db(train_names[0:2], train_desc[0:2])"
   ]
  },
  {
   "cell_type": "code",
   "execution_count": 74,
   "id": "b12b2730",
   "metadata": {
    "deletable": false,
    "editable": false,
    "nbgrader": {
     "cell_type": "code",
     "checksum": "444e59917aacd3108acb0d640bf30462",
     "grade": true,
     "grade_id": "cell-df1c6aaa914fbec3",
     "locked": true,
     "points": 0.4,
     "schema_version": 3,
     "solution": false,
     "task": false
    }
   },
   "outputs": [
    {
     "name": "stdout",
     "output_type": "stream",
     "text": [
      "['100001.jpg', '100002.jpg']\n"
     ]
    }
   ],
   "source": [
    "res = index.search_image(query_desc[0])\n",
    "print(res)"
   ]
  },
  {
   "cell_type": "code",
   "execution_count": 75,
   "id": "1661e449",
   "metadata": {
    "deletable": false,
    "editable": false,
    "nbgrader": {
     "cell_type": "code",
     "checksum": "b31bdb24f4274ae7866295e1a76c17c1",
     "grade": true,
     "grade_id": "cell-3cab945e87903d31",
     "locked": true,
     "points": 0.3,
     "schema_version": 3,
     "solution": false,
     "task": false
    }
   },
   "outputs": [
    {
     "name": "stdout",
     "output_type": "stream",
     "text": [
      "{'100000.jpg': ['100001.jpg', '100002.jpg'], '100100.jpg': ['100002.jpg', '100001.jpg'], '100200.jpg': ['100001.jpg', '100002.jpg'], '100300.jpg': ['100001.jpg', '100002.jpg'], '100400.jpg': ['100001.jpg', '100002.jpg'], '100500.jpg': ['100001.jpg', '100002.jpg'], '100600.jpg': ['100002.jpg', '100001.jpg'], '100700.jpg': ['100002.jpg', '100001.jpg'], '100800.jpg': ['100001.jpg', '100002.jpg'], '100900.jpg': ['100002.jpg', '100001.jpg'], '101000.jpg': ['100002.jpg', '100001.jpg'], '101100.jpg': ['100002.jpg', '100001.jpg'], '101200.jpg': ['100002.jpg', '100001.jpg'], '101300.jpg': ['100002.jpg', '100001.jpg'], '101400.jpg': ['100002.jpg', '100001.jpg'], '101500.jpg': ['100002.jpg', '100001.jpg'], '101600.jpg': ['100001.jpg', '100002.jpg'], '101700.jpg': ['100002.jpg', '100001.jpg'], '101800.jpg': ['100002.jpg', '100001.jpg'], '101900.jpg': ['100002.jpg', '100001.jpg'], '102000.jpg': ['100002.jpg', '100001.jpg'], '102100.jpg': ['100002.jpg', '100001.jpg'], '102200.jpg': ['100002.jpg', '100001.jpg'], '102300.jpg': ['100002.jpg', '100001.jpg'], '102400.jpg': ['100002.jpg', '100001.jpg'], '102500.jpg': ['100002.jpg', '100001.jpg'], '102600.jpg': ['100002.jpg', '100001.jpg'], '102700.jpg': ['100001.jpg', '100002.jpg'], '102800.jpg': ['100002.jpg', '100001.jpg'], '102900.jpg': ['100002.jpg', '100001.jpg'], '103000.jpg': ['100001.jpg', '100002.jpg'], '103100.jpg': ['100002.jpg', '100001.jpg'], '103200.jpg': ['100002.jpg', '100001.jpg'], '103300.jpg': ['100001.jpg', '100002.jpg'], '103400.jpg': ['100001.jpg', '100002.jpg'], '103500.jpg': ['100001.jpg', '100002.jpg'], '103600.jpg': ['100002.jpg', '100001.jpg'], '103700.jpg': ['100002.jpg', '100001.jpg'], '103800.jpg': ['100002.jpg', '100001.jpg'], '103900.jpg': ['100002.jpg', '100001.jpg'], '104000.jpg': ['100002.jpg', '100001.jpg'], '104100.jpg': ['100002.jpg', '100001.jpg'], '104200.jpg': ['100002.jpg', '100001.jpg'], '104300.jpg': ['100002.jpg', '100001.jpg'], '104400.jpg': ['100001.jpg', '100002.jpg'], '104500.jpg': ['100002.jpg', '100001.jpg'], '104600.jpg': ['100001.jpg', '100002.jpg'], '104700.jpg': ['100002.jpg', '100001.jpg'], '104800.jpg': ['100001.jpg', '100002.jpg'], '104900.jpg': ['100001.jpg', '100002.jpg'], '105000.jpg': ['100002.jpg', '100001.jpg'], '105100.jpg': ['100002.jpg', '100001.jpg'], '105200.jpg': ['100001.jpg', '100002.jpg'], '105300.jpg': ['100002.jpg', '100001.jpg'], '105400.jpg': ['100002.jpg', '100001.jpg'], '105500.jpg': ['100002.jpg', '100001.jpg'], '105600.jpg': ['100002.jpg', '100001.jpg'], '105700.jpg': ['100002.jpg', '100001.jpg'], '105800.jpg': ['100001.jpg', '100002.jpg'], '105900.jpg': ['100001.jpg', '100002.jpg'], '106000.jpg': ['100002.jpg', '100001.jpg'], '106100.jpg': ['100001.jpg', '100002.jpg'], '106200.jpg': ['100002.jpg', '100001.jpg'], '106300.jpg': ['100001.jpg', '100002.jpg'], '106400.jpg': ['100002.jpg', '100001.jpg'], '106500.jpg': ['100002.jpg', '100001.jpg'], '106600.jpg': ['100002.jpg', '100001.jpg'], '106700.jpg': ['100002.jpg', '100001.jpg'], '106800.jpg': ['100001.jpg', '100002.jpg'], '106900.jpg': ['100002.jpg', '100001.jpg'], '107000.jpg': ['100002.jpg', '100001.jpg'], '107100.jpg': ['100002.jpg', '100001.jpg'], '107200.jpg': ['100002.jpg', '100001.jpg'], '107300.jpg': ['100002.jpg', '100001.jpg'], '107400.jpg': ['100002.jpg', '100001.jpg'], '107500.jpg': ['100002.jpg', '100001.jpg'], '107600.jpg': ['100002.jpg', '100001.jpg'], '107700.jpg': ['100001.jpg', '100002.jpg'], '107800.jpg': ['100002.jpg', '100001.jpg'], '107900.jpg': ['100001.jpg', '100002.jpg'], '108000.jpg': ['100002.jpg', '100001.jpg'], '108100.jpg': ['100001.jpg', '100002.jpg'], '108200.jpg': ['100001.jpg', '100002.jpg'], '108300.jpg': ['100002.jpg', '100001.jpg'], '108400.jpg': ['100002.jpg', '100001.jpg'], '108500.jpg': ['100002.jpg', '100001.jpg'], '108600.jpg': ['100002.jpg', '100001.jpg'], '108700.jpg': ['100002.jpg', '100001.jpg'], '108800.jpg': ['100002.jpg', '100001.jpg'], '108900.jpg': ['100002.jpg', '100001.jpg'], '109000.jpg': ['100002.jpg', '100001.jpg'], '109100.jpg': ['100002.jpg', '100001.jpg'], '109200.jpg': ['100002.jpg', '100001.jpg'], '109300.jpg': ['100002.jpg', '100001.jpg'], '109400.jpg': ['100001.jpg', '100002.jpg'], '109500.jpg': ['100001.jpg', '100002.jpg'], '109600.jpg': ['100002.jpg', '100001.jpg'], '109700.jpg': ['100002.jpg', '100001.jpg'], '109800.jpg': ['100002.jpg', '100001.jpg'], '109900.jpg': ['100002.jpg', '100001.jpg'], '110000.jpg': ['100002.jpg', '100001.jpg'], '110100.jpg': ['100001.jpg', '100002.jpg'], '110200.jpg': ['100002.jpg', '100001.jpg'], '110300.jpg': ['100002.jpg', '100001.jpg'], '110400.jpg': ['100002.jpg', '100001.jpg'], '110500.jpg': ['100002.jpg', '100001.jpg'], '110600.jpg': ['100001.jpg', '100002.jpg'], '110700.jpg': ['100001.jpg', '100002.jpg'], '110800.jpg': ['100002.jpg', '100001.jpg'], '110900.jpg': ['100002.jpg', '100001.jpg'], '111000.jpg': ['100001.jpg', '100002.jpg'], '111100.jpg': ['100002.jpg', '100001.jpg'], '111200.jpg': ['100001.jpg', '100002.jpg'], '111300.jpg': ['100001.jpg', '100002.jpg'], '111400.jpg': ['100001.jpg', '100002.jpg'], '111500.jpg': ['100001.jpg', '100002.jpg'], '111600.jpg': ['100002.jpg', '100001.jpg'], '111700.jpg': ['100002.jpg', '100001.jpg'], '111800.jpg': ['100001.jpg', '100002.jpg'], '111900.jpg': ['100001.jpg', '100002.jpg'], '112000.jpg': ['100002.jpg', '100001.jpg'], '112100.jpg': ['100002.jpg', '100001.jpg'], '112200.jpg': ['100002.jpg', '100001.jpg'], '112300.jpg': ['100002.jpg', '100001.jpg'], '112400.jpg': ['100002.jpg', '100001.jpg'], '112500.jpg': ['100002.jpg', '100001.jpg'], '112600.jpg': ['100002.jpg', '100001.jpg'], '112700.jpg': ['100002.jpg', '100001.jpg'], '112800.jpg': ['100002.jpg', '100001.jpg'], '112900.jpg': ['100002.jpg', '100001.jpg'], '113000.jpg': ['100002.jpg', '100001.jpg'], '113100.jpg': ['100002.jpg', '100001.jpg'], '113200.jpg': ['100001.jpg', '100002.jpg'], '113300.jpg': ['100002.jpg', '100001.jpg'], '113400.jpg': ['100002.jpg', '100001.jpg'], '113500.jpg': ['100002.jpg', '100001.jpg'], '113600.jpg': ['100002.jpg', '100001.jpg'], '113700.jpg': ['100001.jpg', '100002.jpg'], '113800.jpg': ['100002.jpg', '100001.jpg'], '113900.jpg': ['100001.jpg', '100002.jpg'], '114000.jpg': ['100002.jpg', '100001.jpg'], '114100.jpg': ['100002.jpg', '100001.jpg'], '114200.jpg': ['100002.jpg', '100001.jpg'], '114300.jpg': ['100002.jpg', '100001.jpg'], '114400.jpg': ['100002.jpg', '100001.jpg'], '114500.jpg': ['100002.jpg', '100001.jpg'], '114600.jpg': ['100001.jpg', '100002.jpg'], '114700.jpg': ['100001.jpg', '100002.jpg'], '114800.jpg': ['100001.jpg', '100002.jpg'], '114900.jpg': ['100001.jpg', '100002.jpg'], '115000.jpg': ['100001.jpg', '100002.jpg'], '115100.jpg': ['100001.jpg', '100002.jpg'], '115200.jpg': ['100001.jpg', '100002.jpg'], '115300.jpg': ['100001.jpg', '100002.jpg'], '115400.jpg': ['100001.jpg', '100002.jpg'], '115500.jpg': ['100002.jpg', '100001.jpg'], '115600.jpg': ['100001.jpg', '100002.jpg'], '115700.jpg': ['100001.jpg', '100002.jpg'], '115800.jpg': ['100002.jpg', '100001.jpg'], '115900.jpg': ['100002.jpg', '100001.jpg'], '116000.jpg': ['100001.jpg', '100002.jpg'], '116100.jpg': ['100001.jpg', '100002.jpg'], '116200.jpg': ['100001.jpg', '100002.jpg'], '116300.jpg': ['100001.jpg', '100002.jpg'], '116400.jpg': ['100001.jpg', '100002.jpg'], '116500.jpg': ['100002.jpg', '100001.jpg'], '116600.jpg': ['100001.jpg', '100002.jpg'], '116700.jpg': ['100001.jpg', '100002.jpg'], '116800.jpg': ['100001.jpg', '100002.jpg'], '116900.jpg': ['100002.jpg', '100001.jpg'], '117000.jpg': ['100001.jpg', '100002.jpg'], '117100.jpg': ['100002.jpg', '100001.jpg'], '117200.jpg': ['100001.jpg', '100002.jpg'], '117300.jpg': ['100001.jpg', '100002.jpg'], '117400.jpg': ['100002.jpg', '100001.jpg'], '117500.jpg': ['100002.jpg', '100001.jpg'], '117600.jpg': ['100002.jpg', '100001.jpg'], '117700.jpg': ['100001.jpg', '100002.jpg'], '117800.jpg': ['100002.jpg', '100001.jpg'], '117900.jpg': ['100001.jpg', '100002.jpg'], '118000.jpg': ['100002.jpg', '100001.jpg'], '118100.jpg': ['100002.jpg', '100001.jpg'], '118200.jpg': ['100001.jpg', '100002.jpg'], '118300.jpg': ['100002.jpg', '100001.jpg'], '118400.jpg': ['100002.jpg', '100001.jpg'], '118500.jpg': ['100001.jpg', '100002.jpg'], '118600.jpg': ['100001.jpg', '100002.jpg'], '118700.jpg': ['100001.jpg', '100002.jpg'], '118800.jpg': ['100002.jpg', '100001.jpg'], '118900.jpg': ['100002.jpg', '100001.jpg'], '119000.jpg': ['100001.jpg', '100002.jpg'], '119100.jpg': ['100001.jpg', '100002.jpg'], '119200.jpg': ['100001.jpg', '100002.jpg'], '119300.jpg': ['100001.jpg', '100002.jpg'], '119400.jpg': ['100001.jpg', '100002.jpg'], '119500.jpg': ['100001.jpg', '100002.jpg'], '119600.jpg': ['100001.jpg', '100002.jpg'], '119700.jpg': ['100001.jpg', '100002.jpg'], '119800.jpg': ['100001.jpg', '100002.jpg'], '119900.jpg': ['100002.jpg', '100001.jpg'], '120000.jpg': ['100002.jpg', '100001.jpg'], '120100.jpg': ['100001.jpg', '100002.jpg'], '120200.jpg': ['100001.jpg', '100002.jpg'], '120300.jpg': ['100002.jpg', '100001.jpg'], '120400.jpg': ['100002.jpg', '100001.jpg'], '120500.jpg': ['100002.jpg', '100001.jpg'], '120600.jpg': ['100002.jpg', '100001.jpg'], '120700.jpg': ['100001.jpg', '100002.jpg'], '120800.jpg': ['100002.jpg', '100001.jpg'], '120900.jpg': ['100001.jpg', '100002.jpg'], '121000.jpg': ['100002.jpg', '100001.jpg'], '121100.jpg': ['100002.jpg', '100001.jpg'], '121200.jpg': ['100002.jpg', '100001.jpg'], '121300.jpg': ['100001.jpg', '100002.jpg'], '121400.jpg': ['100002.jpg', '100001.jpg'], '121500.jpg': ['100001.jpg', '100002.jpg'], '121600.jpg': ['100001.jpg', '100002.jpg'], '121700.jpg': ['100002.jpg', '100001.jpg'], '121800.jpg': ['100002.jpg', '100001.jpg'], '121900.jpg': ['100002.jpg', '100001.jpg'], '122000.jpg': ['100002.jpg', '100001.jpg'], '122100.jpg': ['100001.jpg', '100002.jpg'], '122200.jpg': ['100002.jpg', '100001.jpg'], '122300.jpg': ['100002.jpg', '100001.jpg'], '122400.jpg': ['100002.jpg', '100001.jpg'], '122500.jpg': ['100002.jpg', '100001.jpg'], '122600.jpg': ['100002.jpg', '100001.jpg'], '122700.jpg': ['100001.jpg', '100002.jpg'], '122800.jpg': ['100002.jpg', '100001.jpg'], '122900.jpg': ['100001.jpg', '100002.jpg'], '123000.jpg': ['100002.jpg', '100001.jpg'], '123100.jpg': ['100001.jpg', '100002.jpg'], '123200.jpg': ['100001.jpg', '100002.jpg'], '123300.jpg': ['100001.jpg', '100002.jpg'], '123400.jpg': ['100002.jpg', '100001.jpg'], '123500.jpg': ['100002.jpg', '100001.jpg'], '123600.jpg': ['100001.jpg', '100002.jpg'], '123700.jpg': ['100002.jpg', '100001.jpg'], '123800.jpg': ['100002.jpg', '100001.jpg'], '123900.jpg': ['100002.jpg', '100001.jpg'], '124000.jpg': ['100002.jpg', '100001.jpg'], '124100.jpg': ['100001.jpg', '100002.jpg'], '124200.jpg': ['100001.jpg', '100002.jpg'], '124300.jpg': ['100001.jpg', '100002.jpg'], '124400.jpg': ['100002.jpg', '100001.jpg'], '124500.jpg': ['100002.jpg', '100001.jpg'], '124600.jpg': ['100002.jpg', '100001.jpg'], '124700.jpg': ['100002.jpg', '100001.jpg'], '124800.jpg': ['100002.jpg', '100001.jpg'], '124900.jpg': ['100002.jpg', '100001.jpg'], '125000.jpg': ['100002.jpg', '100001.jpg'], '125100.jpg': ['100002.jpg', '100001.jpg'], '125200.jpg': ['100002.jpg', '100001.jpg'], '125300.jpg': ['100002.jpg', '100001.jpg'], '125400.jpg': ['100001.jpg', '100002.jpg'], '125500.jpg': ['100001.jpg', '100002.jpg'], '125600.jpg': ['100001.jpg', '100002.jpg'], '125700.jpg': ['100002.jpg', '100001.jpg'], '125800.jpg': [], '125900.jpg': ['100002.jpg', '100001.jpg'], '126000.jpg': ['100001.jpg', '100002.jpg'], '126100.jpg': ['100002.jpg', '100001.jpg'], '126200.jpg': ['100002.jpg', '100001.jpg'], '126300.jpg': ['100001.jpg', '100002.jpg'], '126400.jpg': ['100002.jpg', '100001.jpg'], '126500.jpg': ['100002.jpg', '100001.jpg'], '126600.jpg': ['100002.jpg', '100001.jpg'], '126700.jpg': ['100002.jpg', '100001.jpg'], '126800.jpg': ['100001.jpg', '100002.jpg'], '126900.jpg': ['100002.jpg', '100001.jpg'], '127000.jpg': ['100001.jpg', '100002.jpg'], '127100.jpg': ['100002.jpg', '100001.jpg'], '127200.jpg': ['100002.jpg', '100001.jpg'], '127300.jpg': ['100002.jpg', '100001.jpg'], '127400.jpg': ['100002.jpg', '100001.jpg'], '127500.jpg': ['100002.jpg', '100001.jpg'], '127600.jpg': ['100002.jpg', '100001.jpg'], '127700.jpg': ['100002.jpg', '100001.jpg'], '127800.jpg': ['100002.jpg', '100001.jpg'], '127900.jpg': ['100002.jpg', '100001.jpg'], '128000.jpg': ['100002.jpg', '100001.jpg'], '128100.jpg': ['100001.jpg', '100002.jpg'], '128200.jpg': ['100002.jpg', '100001.jpg'], '128300.jpg': ['100001.jpg', '100002.jpg'], '128400.jpg': ['100002.jpg', '100001.jpg'], '128500.jpg': ['100002.jpg', '100001.jpg'], '128600.jpg': ['100002.jpg', '100001.jpg'], '128700.jpg': ['100002.jpg', '100001.jpg'], '128800.jpg': ['100001.jpg', '100002.jpg'], '128900.jpg': ['100002.jpg', '100001.jpg'], '129000.jpg': ['100001.jpg', '100002.jpg'], '129100.jpg': ['100001.jpg', '100002.jpg'], '129200.jpg': ['100001.jpg', '100002.jpg'], '129300.jpg': ['100002.jpg', '100001.jpg'], '129400.jpg': ['100002.jpg', '100001.jpg'], '129500.jpg': ['100002.jpg', '100001.jpg'], '129600.jpg': ['100001.jpg', '100002.jpg'], '129700.jpg': ['100002.jpg', '100001.jpg'], '129800.jpg': ['100001.jpg', '100002.jpg'], '129900.jpg': ['100001.jpg', '100002.jpg'], '130000.jpg': ['100001.jpg', '100002.jpg'], '130100.jpg': ['100001.jpg', '100002.jpg'], '130200.jpg': ['100002.jpg', '100001.jpg'], '130300.jpg': ['100002.jpg', '100001.jpg'], '130400.jpg': ['100001.jpg', '100002.jpg'], '130500.jpg': ['100002.jpg', '100001.jpg'], '130600.jpg': ['100002.jpg', '100001.jpg'], '130700.jpg': ['100001.jpg', '100002.jpg'], '130800.jpg': ['100001.jpg', '100002.jpg'], '130900.jpg': ['100002.jpg', '100001.jpg'], '131000.jpg': ['100002.jpg', '100001.jpg'], '131100.jpg': ['100002.jpg', '100001.jpg'], '131200.jpg': ['100002.jpg', '100001.jpg'], '131300.jpg': ['100001.jpg', '100002.jpg'], '131400.jpg': ['100002.jpg', '100001.jpg'], '131500.jpg': ['100002.jpg', '100001.jpg'], '131600.jpg': ['100002.jpg', '100001.jpg'], '131700.jpg': ['100002.jpg', '100001.jpg'], '131800.jpg': ['100001.jpg', '100002.jpg'], '131900.jpg': ['100002.jpg', '100001.jpg'], '132000.jpg': ['100002.jpg', '100001.jpg'], '132100.jpg': ['100002.jpg', '100001.jpg'], '132200.jpg': ['100001.jpg', '100002.jpg'], '132300.jpg': ['100002.jpg', '100001.jpg'], '132400.jpg': ['100001.jpg', '100002.jpg'], '132500.jpg': ['100001.jpg', '100002.jpg'], '132600.jpg': ['100002.jpg', '100001.jpg'], '132700.jpg': ['100002.jpg', '100001.jpg'], '132800.jpg': ['100002.jpg', '100001.jpg'], '132900.jpg': ['100001.jpg', '100002.jpg'], '133000.jpg': ['100002.jpg', '100001.jpg'], '133100.jpg': ['100002.jpg', '100001.jpg'], '133200.jpg': ['100001.jpg', '100002.jpg'], '133300.jpg': ['100002.jpg', '100001.jpg'], '133400.jpg': ['100001.jpg', '100002.jpg'], '133500.jpg': ['100001.jpg', '100002.jpg'], '133600.jpg': ['100001.jpg', '100002.jpg'], '133700.jpg': ['100002.jpg', '100001.jpg'], '133800.jpg': ['100002.jpg', '100001.jpg'], '133900.jpg': ['100002.jpg', '100001.jpg'], '134000.jpg': ['100002.jpg', '100001.jpg'], '134100.jpg': ['100002.jpg', '100001.jpg'], '134200.jpg': ['100002.jpg', '100001.jpg'], '134300.jpg': ['100002.jpg', '100001.jpg'], '134400.jpg': ['100002.jpg', '100001.jpg'], '134500.jpg': ['100002.jpg', '100001.jpg'], '134600.jpg': ['100002.jpg', '100001.jpg'], '134700.jpg': ['100002.jpg', '100001.jpg'], '134800.jpg': ['100002.jpg', '100001.jpg'], '134900.jpg': ['100001.jpg', '100002.jpg'], '135000.jpg': ['100002.jpg', '100001.jpg'], '135100.jpg': ['100002.jpg', '100001.jpg'], '135200.jpg': ['100002.jpg', '100001.jpg'], '135300.jpg': ['100001.jpg', '100002.jpg'], '135400.jpg': ['100001.jpg', '100002.jpg'], '135500.jpg': ['100001.jpg', '100002.jpg'], '135600.jpg': ['100002.jpg', '100001.jpg'], '135700.jpg': ['100002.jpg', '100001.jpg'], '135800.jpg': ['100001.jpg', '100002.jpg'], '135900.jpg': ['100002.jpg', '100001.jpg'], '136000.jpg': ['100002.jpg', '100001.jpg'], '136100.jpg': ['100002.jpg', '100001.jpg'], '136200.jpg': ['100002.jpg', '100001.jpg'], '136300.jpg': ['100002.jpg', '100001.jpg'], '136400.jpg': ['100002.jpg', '100001.jpg'], '136500.jpg': ['100001.jpg', '100002.jpg'], '136600.jpg': ['100001.jpg', '100002.jpg'], '136700.jpg': ['100001.jpg', '100002.jpg'], '136800.jpg': ['100002.jpg', '100001.jpg'], '136900.jpg': ['100001.jpg', '100002.jpg'], '137000.jpg': ['100002.jpg', '100001.jpg'], '137100.jpg': ['100001.jpg', '100002.jpg'], '137200.jpg': ['100002.jpg', '100001.jpg'], '137300.jpg': ['100002.jpg', '100001.jpg'], '137400.jpg': ['100001.jpg', '100002.jpg'], '137500.jpg': ['100002.jpg', '100001.jpg'], '137600.jpg': ['100002.jpg', '100001.jpg'], '137700.jpg': ['100002.jpg', '100001.jpg'], '137800.jpg': ['100002.jpg', '100001.jpg'], '137900.jpg': ['100002.jpg', '100001.jpg'], '138000.jpg': ['100002.jpg', '100001.jpg'], '138100.jpg': ['100002.jpg', '100001.jpg'], '138200.jpg': ['100002.jpg', '100001.jpg'], '138300.jpg': ['100002.jpg', '100001.jpg'], '138400.jpg': ['100001.jpg', '100002.jpg'], '138500.jpg': ['100002.jpg', '100001.jpg'], '138600.jpg': ['100002.jpg', '100001.jpg'], '138700.jpg': ['100002.jpg', '100001.jpg'], '138800.jpg': ['100002.jpg', '100001.jpg'], '138900.jpg': ['100002.jpg', '100001.jpg'], '139000.jpg': ['100002.jpg', '100001.jpg'], '139100.jpg': ['100002.jpg', '100001.jpg'], '139200.jpg': ['100002.jpg', '100001.jpg'], '139300.jpg': ['100001.jpg', '100002.jpg'], '139400.jpg': ['100001.jpg', '100002.jpg'], '139500.jpg': ['100002.jpg', '100001.jpg'], '139600.jpg': ['100002.jpg', '100001.jpg'], '139700.jpg': ['100002.jpg', '100001.jpg'], '139800.jpg': ['100002.jpg', '100001.jpg'], '139900.jpg': ['100001.jpg', '100002.jpg'], '140000.jpg': ['100002.jpg', '100001.jpg'], '140100.jpg': ['100002.jpg', '100001.jpg'], '140200.jpg': ['100001.jpg', '100002.jpg'], '140300.jpg': ['100002.jpg', '100001.jpg'], '140400.jpg': ['100002.jpg', '100001.jpg'], '140500.jpg': ['100002.jpg', '100001.jpg'], '140600.jpg': ['100002.jpg', '100001.jpg'], '140700.jpg': ['100002.jpg', '100001.jpg'], '140800.jpg': ['100002.jpg', '100001.jpg'], '140900.jpg': ['100001.jpg', '100002.jpg'], '141000.jpg': ['100002.jpg', '100001.jpg'], '141100.jpg': ['100002.jpg', '100001.jpg'], '141200.jpg': ['100001.jpg', '100002.jpg'], '141300.jpg': ['100001.jpg', '100002.jpg'], '141400.jpg': ['100002.jpg', '100001.jpg'], '141500.jpg': ['100002.jpg', '100001.jpg'], '141600.jpg': ['100001.jpg', '100002.jpg'], '141700.jpg': ['100002.jpg', '100001.jpg'], '141800.jpg': ['100002.jpg', '100001.jpg'], '141900.jpg': ['100002.jpg', '100001.jpg'], '142000.jpg': ['100002.jpg', '100001.jpg'], '142100.jpg': ['100002.jpg', '100001.jpg'], '142200.jpg': ['100002.jpg', '100001.jpg'], '142300.jpg': ['100001.jpg', '100002.jpg'], '142400.jpg': ['100001.jpg', '100002.jpg'], '142500.jpg': ['100002.jpg', '100001.jpg'], '142600.jpg': ['100002.jpg', '100001.jpg'], '142700.jpg': ['100002.jpg', '100001.jpg'], '142800.jpg': ['100002.jpg', '100001.jpg'], '142900.jpg': ['100002.jpg', '100001.jpg'], '143000.jpg': ['100001.jpg', '100002.jpg'], '143100.jpg': ['100002.jpg', '100001.jpg'], '143200.jpg': ['100001.jpg', '100002.jpg'], '143300.jpg': ['100001.jpg', '100002.jpg'], '143400.jpg': ['100001.jpg', '100002.jpg'], '143500.jpg': ['100002.jpg', '100001.jpg'], '143600.jpg': ['100002.jpg', '100001.jpg'], '143700.jpg': ['100002.jpg', '100001.jpg'], '143800.jpg': ['100002.jpg', '100001.jpg'], '143900.jpg': ['100002.jpg', '100001.jpg'], '144000.jpg': ['100001.jpg', '100002.jpg'], '144100.jpg': ['100002.jpg', '100001.jpg'], '144200.jpg': ['100002.jpg', '100001.jpg'], '144300.jpg': ['100002.jpg', '100001.jpg'], '144400.jpg': ['100002.jpg', '100001.jpg'], '144500.jpg': ['100002.jpg', '100001.jpg'], '144600.jpg': ['100002.jpg', '100001.jpg'], '144700.jpg': ['100002.jpg', '100001.jpg'], '144800.jpg': ['100001.jpg', '100002.jpg'], '144900.jpg': ['100002.jpg', '100001.jpg'], '145000.jpg': ['100002.jpg', '100001.jpg'], '145100.jpg': ['100002.jpg', '100001.jpg'], '145200.jpg': ['100002.jpg', '100001.jpg'], '145300.jpg': ['100002.jpg', '100001.jpg'], '145400.jpg': ['100002.jpg', '100001.jpg'], '145500.jpg': ['100002.jpg', '100001.jpg'], '145600.jpg': ['100002.jpg', '100001.jpg'], '145700.jpg': ['100002.jpg', '100001.jpg'], '145800.jpg': ['100002.jpg', '100001.jpg'], '145900.jpg': ['100002.jpg', '100001.jpg'], '146000.jpg': ['100001.jpg', '100002.jpg'], '146100.jpg': ['100001.jpg', '100002.jpg'], '146200.jpg': ['100002.jpg', '100001.jpg'], '146300.jpg': ['100001.jpg', '100002.jpg'], '146400.jpg': ['100002.jpg', '100001.jpg'], '146500.jpg': ['100001.jpg', '100002.jpg'], '146600.jpg': ['100002.jpg', '100001.jpg'], '146700.jpg': ['100002.jpg', '100001.jpg'], '146800.jpg': ['100002.jpg', '100001.jpg'], '146900.jpg': ['100002.jpg', '100001.jpg'], '147000.jpg': ['100002.jpg', '100001.jpg'], '147100.jpg': ['100002.jpg', '100001.jpg'], '147200.jpg': ['100002.jpg', '100001.jpg'], '147300.jpg': ['100001.jpg', '100002.jpg'], '147400.jpg': ['100001.jpg', '100002.jpg'], '147500.jpg': ['100001.jpg', '100002.jpg'], '147600.jpg': ['100001.jpg', '100002.jpg'], '147700.jpg': ['100002.jpg', '100001.jpg'], '147800.jpg': ['100002.jpg', '100001.jpg'], '147900.jpg': ['100001.jpg', '100002.jpg'], '148000.jpg': ['100002.jpg', '100001.jpg'], '148100.jpg': ['100002.jpg', '100001.jpg'], '148200.jpg': ['100002.jpg', '100001.jpg'], '148300.jpg': ['100002.jpg', '100001.jpg'], '148400.jpg': ['100002.jpg', '100001.jpg'], '148500.jpg': ['100001.jpg', '100002.jpg'], '148600.jpg': ['100001.jpg', '100002.jpg'], '148700.jpg': ['100001.jpg', '100002.jpg'], '148800.jpg': ['100001.jpg', '100002.jpg'], '148900.jpg': ['100002.jpg', '100001.jpg'], '149000.jpg': ['100002.jpg', '100001.jpg'], '149100.jpg': ['100001.jpg', '100002.jpg'], '149200.jpg': ['100002.jpg', '100001.jpg'], '149300.jpg': ['100002.jpg', '100001.jpg'], '149400.jpg': ['100002.jpg', '100001.jpg'], '149500.jpg': ['100001.jpg', '100002.jpg'], '149600.jpg': ['100002.jpg', '100001.jpg'], '149700.jpg': ['100002.jpg', '100001.jpg'], '149800.jpg': ['100002.jpg', '100001.jpg'], '149900.jpg': ['100002.jpg', '100001.jpg']}\n",
      "0.002\n"
     ]
    }
   ],
   "source": [
    "results, mAP = index.compute_mAP(query_names, query_desc)\n",
    "print(results)\n",
    "print(mAP)"
   ]
  },
  {
   "cell_type": "code",
   "execution_count": 78,
   "id": "5ae75369",
   "metadata": {},
   "outputs": [
    {
     "name": "stdout",
     "output_type": "stream",
     "text": [
      "0.06487850415287062\n"
     ]
    }
   ],
   "source": [
    "index.build_db(train_names, train_desc)\n",
    "results, mAP = index.compute_mAP(query_names, query_desc)\n",
    "print(mAP)"
   ]
  },
  {
   "attachments": {},
   "cell_type": "markdown",
   "id": "a5046a9c",
   "metadata": {
    "deletable": false,
    "editable": false,
    "nbgrader": {
     "cell_type": "markdown",
     "checksum": "763e74c102202322912c057bc8327544",
     "grade": false,
     "grade_id": "cell-fdf71f42f5f298ce",
     "locked": true,
     "schema_version": 3,
     "solution": false,
     "task": false
    }
   },
   "source": [
    "**Q8**: In the following cell compute the resulting mAP of the system **using the vocabularies of 200, 2K, 20K and 200K visual words**:"
   ]
  },
  {
   "cell_type": "code",
   "execution_count": 82,
   "id": "c8901aab",
   "metadata": {
    "deletable": false,
    "nbgrader": {
     "cell_type": "code",
     "checksum": "70f60d56a1270671470b02ff879a740d",
     "grade": false,
     "grade_id": "cell-4176faf951e0cc65",
     "locked": false,
     "schema_version": 3,
     "solution": true,
     "task": false
    }
   },
   "outputs": [
    {
     "name": "stdout",
     "output_type": "stream",
     "text": [
      "train_time_200 %s seconds:  8.122374057769775\n",
      "train_time_2K %s seconds:  8.685343980789185\n",
      "train_time_20K %s seconds:  15.343914985656738\n",
      "train_time_200K %s seconds:  37.37079381942749\n"
     ]
    }
   ],
   "source": [
    "# Fill these variables with the resulting mAP\n",
    "mAP_200  = 0.0\n",
    "mAP_2K   = 0.0\n",
    "mAP_20K  = 0.0\n",
    "mAP_200K = 0.0\n",
    "\n",
    "import time\n",
    "\n",
    "# YOUR CODE HERE\n",
    "start_time = time.time()\n",
    "index_200 = BoW('../clust/clust_flickr60_k200.fvecs')\n",
    "index_200.build_db(train_names, train_desc)\n",
    "train_time_200 = time.time() - start_time\n",
    "print(\"train_time_200 %s seconds: \", train_time_200)\n",
    "results_200, mAP_200 = index_200.compute_mAP(query_names, query_desc)\n",
    "\n",
    "start_time = time.time()\n",
    "index_2K = BoW('../clust/clust_flickr60_k2000.fvecs')\n",
    "index_2K.build_db(train_names, train_desc)\n",
    "train_time_2K = time.time() - start_time\n",
    "print(\"train_time_2K %s seconds: \", train_time_2K)\n",
    "results_2K, mAP_2K = index_2K.compute_mAP(query_names, query_desc)\n",
    "\n",
    "start_time = time.time()\n",
    "index_20K = BoW('../clust/clust_flickr60_k20000.fvecs')\n",
    "index_20K.build_db(train_names, train_desc)\n",
    "train_time_20K = time.time() - start_time\n",
    "print(\"train_time_20K %s seconds: \", train_time_20K)\n",
    "results_20K, mAP_20K = index_20K.compute_mAP(query_names, query_desc)\n",
    "\n",
    "start_time = time.time()\n",
    "index_200K = BoW('../clust/clust_flickr60_k200000.fvecs')\n",
    "index_200K.build_db(train_names, train_desc)\n",
    "train_time_200K = time.time() - start_time\n",
    "print(\"train_time_200K %s seconds: \", train_time_200K)\n",
    "results_200K, mAP_200K = index_200K.compute_mAP(query_names, query_desc)"
   ]
  },
  {
   "cell_type": "code",
   "execution_count": 83,
   "id": "9c1ed565",
   "metadata": {
    "deletable": false,
    "editable": false,
    "nbgrader": {
     "cell_type": "code",
     "checksum": "fcea21868d957c7425e74ae4a5032825",
     "grade": true,
     "grade_id": "cell-f4374afc6ecce161",
     "locked": true,
     "points": 0.3,
     "schema_version": 3,
     "solution": false,
     "task": false
    }
   },
   "outputs": [
    {
     "name": "stdout",
     "output_type": "stream",
     "text": [
      "mAP 200: 0.06577\n",
      "mAP 2K: 0.13785\n",
      "mAP 20K: 0.25445\n",
      "mAP 200K: 0.38384\n"
     ]
    }
   ],
   "source": [
    "print('mAP 200: %.5f' % mAP_200)\n",
    "print('mAP 2K: %.5f' % mAP_2K)\n",
    "print('mAP 20K: %.5f' % mAP_20K)\n",
    "print('mAP 200K: %.5f' % mAP_200K)"
   ]
  },
  {
   "attachments": {},
   "cell_type": "markdown",
   "id": "5e818e7c",
   "metadata": {
    "deletable": false,
    "editable": false,
    "nbgrader": {
     "cell_type": "markdown",
     "checksum": "07f57bc9d9bd78d99b403602f8a90e44",
     "grade": false,
     "grade_id": "cell-e5a519c51fa0069b",
     "locked": true,
     "schema_version": 3,
     "solution": false,
     "task": false
    }
   },
   "source": [
    "**Q9**: Compare the performances obtained on each case. Is a larger vocabulary size always better? Why or why not?"
   ]
  },
  {
   "attachments": {},
   "cell_type": "markdown",
   "id": "f6015870",
   "metadata": {
    "deletable": false,
    "editable": false,
    "nbgrader": {
     "cell_type": "markdown",
     "checksum": "564ebe7c40dcffe1c50dfe735098e350",
     "grade": false,
     "grade_id": "cell-9429db3024616a16",
     "locked": true,
     "points": 0.2,
     "schema_version": 3,
     "solution": false,
     "task": true
    }
   },
   "source": [
    "Write here the code required to answer the questions stated above. You can add more cells (code / markdown) at this point if you need it."
   ]
  },
  {
   "attachments": {},
   "cell_type": "markdown",
   "id": "8a951376",
   "metadata": {},
   "source": [
    "We can observe that the mAP increases as the size of the vocabulary increases. However, a larger vocabulary size does not always guarantee better performance. Increasing the size of the vocabulary leads to a higher level of granularity in the description of the visual content, which can be useful in distinguishing between similar images. However, too much granularity can also result in overfitting, where the system becomes too specialized to the training dataset and fails to generalize well to unseen data.\n",
    "\n",
    "Additionally, a larger vocabulary size requires more computational resources, both for building the index and for performing the retrieval. Therefore, there is a trade-off between accuracy and efficiency, and the optimal vocabulary size depends on the specific application and hardware constraints."
   ]
  },
  {
   "attachments": {},
   "cell_type": "markdown",
   "id": "7b582757",
   "metadata": {
    "deletable": false,
    "editable": false,
    "nbgrader": {
     "cell_type": "markdown",
     "checksum": "8b81f882f6c67715a70baf6a6e3e38d1",
     "grade": false,
     "grade_id": "cell-971d658462e12e6e",
     "locked": true,
     "schema_version": 3,
     "solution": false,
     "task": false
    }
   },
   "source": [
    "**Q10**: Analyze the effect of the vocabulary size in terms of mAP and average response time (train and query times). Are these times constant for each vocabulary? Some plots here can be useful to justify your answer."
   ]
  },
  {
   "attachments": {},
   "cell_type": "markdown",
   "id": "a7695e01",
   "metadata": {
    "deletable": false,
    "editable": false,
    "nbgrader": {
     "cell_type": "markdown",
     "checksum": "193e620c3bf540dd97e40ee42b830638",
     "grade": false,
     "grade_id": "cell-1e355e0c5cb28de0",
     "locked": true,
     "points": 0.1,
     "schema_version": 3,
     "solution": false,
     "task": true
    }
   },
   "source": [
    "Write here the code required to answer the questions stated above. You can add more cells (code / markdown) at this point if you need it."
   ]
  },
  {
   "cell_type": "code",
   "execution_count": 84,
   "id": "805ff582",
   "metadata": {},
   "outputs": [
    {
     "data": {
      "image/png": "[encoded data removed]",
      "text/plain": [
       "<Figure size 640x480 with 1 Axes>"
      ]
     },
     "metadata": {},
     "output_type": "display_data"
    },
    {
     "data": {
      "image/png": "[encoded data removed]",
      "text/plain": [
       "<Figure size 640x480 with 1 Axes>"
      ]
     },
     "metadata": {},
     "output_type": "display_data"
    },
    {
     "data": {
      "image/png": "[encoded data removed]",
      "text/plain": [
       "<Figure size 640x480 with 1 Axes>"
      ]
     },
     "metadata": {},
     "output_type": "display_data"
    }
   ],
   "source": [
    "import matplotlib.pyplot as plt\n",
    "\n",
    "# vocabulary sizes\n",
    "vocab_sizes = [200, 2000, 20000, 200000]\n",
    "\n",
    "# lists to store results\n",
    "mAPs = []\n",
    "train_times = []\n",
    "query_times = []\n",
    "\n",
    "# loop through vocabulary sizes\n",
    "for size in vocab_sizes:\n",
    "    # create BoW object\n",
    "    index = BoW('../clust/clust_flickr60_k{}.fvecs'.format(size))\n",
    "    \n",
    "    # build database\n",
    "    start_time = time.time()\n",
    "    index.build_db(train_names, train_desc)\n",
    "    train_time = time.time() - start_time\n",
    "    \n",
    "    # compute mAP\n",
    "    start_time = time.time()\n",
    "    results, mAP = index.compute_mAP(query_names, query_desc)\n",
    "    query_time = time.time() - start_time\n",
    "    \n",
    "    # append results to lists\n",
    "    mAPs.append(mAP)\n",
    "    train_times.append(train_time)\n",
    "    query_times.append(query_time)\n",
    "\n",
    "# plot mAP vs vocabulary size\n",
    "plt.plot(vocab_sizes, mAPs)\n",
    "plt.title('mAP vs Vocabulary Size')\n",
    "plt.xlabel('Vocabulary Size')\n",
    "plt.ylabel('mAP')\n",
    "plt.show()\n",
    "\n",
    "# plot train time vs vocabulary size\n",
    "plt.plot(vocab_sizes, train_times)\n",
    "plt.title('Train Time vs Vocabulary Size')\n",
    "plt.xlabel('Vocabulary Size')\n",
    "plt.ylabel('Train Time (s)')\n",
    "plt.show()\n",
    "\n",
    "# plot query time vs vocabulary size\n",
    "plt.plot(vocab_sizes, query_times)\n",
    "plt.title('Query Time vs Vocabulary Size')\n",
    "plt.xlabel('Vocabulary Size')\n",
    "plt.ylabel('Query Time (s)')\n",
    "plt.show()\n"
   ]
  },
  {
   "attachments": {},
   "cell_type": "markdown",
   "id": "4c0540b5",
   "metadata": {},
   "source": [
    "mAP and training time increases when vocabulary size increases. However, query time first increase from 200 to 2000 words but after that it decreases when vocabulary size increases. Times are not constant for each vocabulary."
   ]
  },
  {
   "attachments": {},
   "cell_type": "markdown",
   "id": "b98f5416",
   "metadata": {
    "deletable": false,
    "editable": false,
    "nbgrader": {
     "cell_type": "markdown",
     "checksum": "cb7b5be6b81db0380ab35f49a6552a21",
     "grade": false,
     "grade_id": "cell-219866d30da6310f",
     "locked": true,
     "schema_version": 3,
     "solution": false,
     "task": false
    }
   },
   "source": [
    "**Q11**: Do the results obtained depend on the set of images used to generate the vocabulary? How can we improve the retrieval performance?"
   ]
  },
  {
   "attachments": {},
   "cell_type": "markdown",
   "id": "a7345924",
   "metadata": {
    "deletable": false,
    "editable": false,
    "nbgrader": {
     "cell_type": "markdown",
     "checksum": "4e5d90633e2fc5b72aa613279c228f6c",
     "grade": false,
     "grade_id": "cell-96569c702b5b7198",
     "locked": true,
     "points": 0.1,
     "schema_version": 3,
     "solution": false,
     "task": true
    }
   },
   "source": [
    "Write here the code required to answer the questions stated above. You can add more cells (code / markdown) at this point if you need it."
   ]
  },
  {
   "attachments": {},
   "cell_type": "markdown",
   "id": "9f3eb67f",
   "metadata": {},
   "source": [
    "The results obtained can depend on the set of images used to generate the vocabulary. If the vocabulary is generated from a set of images that is not representative of the images we want to retrieve, then the performance can be poor.\n",
    "\n",
    "One way to improve the retrieval performance is to use a larger and more diverse set of images to generate the vocabulary. Another approach is to use a more sophisticated feature extraction technique that captures more information about the images. Additionally, one could use more advanced techniques such as deep learning to learn feature representations that are more discriminative and robust to variations in the images."
   ]
  },
  {
   "attachments": {},
   "cell_type": "markdown",
   "id": "28efbead",
   "metadata": {
    "deletable": false,
    "editable": false,
    "nbgrader": {
     "cell_type": "markdown",
     "checksum": "fe4a6d363c03ec519f228f1c2fcb8a22",
     "grade": false,
     "grade_id": "cell-4795f460941688a9",
     "locked": true,
     "schema_version": 3,
     "solution": false,
     "task": false
    }
   },
   "source": [
    "### TF-IDF\n",
    "As a final task of this assignment, let's implement the TF-IDF scoring scheme. Modify the `BoW` class you wrote before to include the TF-IDF weighting scheme:"
   ]
  },
  {
   "cell_type": "code",
   "execution_count": 144,
   "id": "593cafcc",
   "metadata": {
    "deletable": false,
    "nbgrader": {
     "cell_type": "code",
     "checksum": "7a5bbebd21d49ef285373e0436c7e36c",
     "grade": false,
     "grade_id": "cell-a65f0d83a4e6326d",
     "locked": false,
     "schema_version": 3,
     "solution": true,
     "task": false
    }
   },
   "outputs": [],
   "source": [
    "from sklearn.feature_extraction.text import TfidfTransformer\n",
    "\n",
    "class BoW_TFIDF:\n",
    "    \"\"\"\n",
    "    Class to implement the BoW model + Inverted File + TF-IDF Scoring scheme\n",
    "    \"\"\"\n",
    "  \n",
    "    def __init__(self, vocab_file):\n",
    "        \"\"\"\n",
    "        Class constructor. It loads the vocabulary and initializes other stuff\n",
    "        required for the CBIR system, such as the inverted file structure.\n",
    "        \"\"\"\n",
    "        self.vocab = rd.load_visual_vocab(vocab_file)\n",
    "        self.nwords = self.vocab.getTrainDescriptors()[0].shape[0]\n",
    "        self.train_names = []\n",
    "        self.inv_list = {word_id: {} for word_id in range(self.nwords)}        \n",
    "        self.tfidf = {}\n",
    "\n",
    "    def build_db(self, img_names, img_descs):\n",
    "        \"\"\"\n",
    "        Build an index from a set of images. Essentially, for each image, you should\n",
    "        search its descriptors in the index in order to find the closest visual words\n",
    "        and fill the inverted file structure consequently. Additionally, TF and IDF terms\n",
    "        should be computed here.\n",
    "    \n",
    "        - img_names: An ordered list with the names of the train images\n",
    "        - img_descs: A list containing numpy arrays. Each numpy array i corresponds \n",
    "          to the descriptors found at image i\n",
    "        \"\"\"\n",
    "        # YOUR CODE HERE\n",
    "        for i, img_desc in enumerate(img_descs):\n",
    "            visual_words = self.vocab.knnMatch(img_desc, k=1)\n",
    "            bow_hist = np.zeros(self.nwords)\n",
    "\n",
    "            for vw in visual_words:\n",
    "                word_id = vw[0].trainIdx\n",
    "                bow_hist[word_id] += 1\n",
    "\n",
    "            desc_len = len(img_desc)\n",
    "            if desc_len != 0:\n",
    "                bow_hist /= desc_len\n",
    "\n",
    "            img_name = img_names[i]\n",
    "            self.tfidf[img_name] = bow_hist\n",
    "\n",
    "            for word_id, word_count in enumerate(bow_hist):\n",
    "                if word_count > 0:\n",
    "                    img_dict = self.inv_list[word_id]\n",
    "                    img_dict[img_name] = img_dict.get(img_name, 0) + 1\n",
    "\n",
    "\n",
    "    def search_image(self, descs):\n",
    "        \"\"\"\n",
    "        Search an image in the index. Use the TF-IDF here when scoring the images.\n",
    "      \n",
    "        - descs: A numpy array. It is the set descriptors extracted from the query image.\n",
    "    \n",
    "        RETURN:\n",
    "        - An ordered list of similar images, e.g.: ['100101.jpg', '100202.jpg', ...]\n",
    "        \"\"\"\n",
    "        # YOUR CODE HERE\n",
    "        visual_words = self.vocab.knnMatch(descs, k=1)\n",
    "        bow_hist = np.zeros(self.nwords)\n",
    "\n",
    "        for vw in visual_words:\n",
    "            word_id = vw[0].trainIdx\n",
    "            bow_hist[word_id] += 1\n",
    "            \n",
    "        if len(descs) != 0:\n",
    "            bow_hist /= len(descs)\n",
    "\n",
    "        # Compute the TF-IDF score for each image in the index\n",
    "        scores = {}\n",
    "        for word_id, word_count in enumerate(bow_hist):\n",
    "            if word_count == 0:\n",
    "                continue\n",
    "            for image_id, idf in self.inv_list[word_id].items():\n",
    "                if image_id not in scores:\n",
    "                    scores[image_id] = 0\n",
    "                scores[image_id] += word_count * idf\n",
    "\n",
    "        sorted_images = sorted(scores, key=scores.get, reverse=True)\n",
    "        return sorted_images\n",
    "        \n",
    "    def compute_mAP(self, query_names, query_descs, gt_file='../holidays/holidays_images.dat'):\n",
    "        \"\"\"\n",
    "        Perform a search for a list of query images against the database and evaluates\n",
    "        the performance of the system.\n",
    "        \n",
    "        - query_names: An ordered list with the names of query images\n",
    "        - query_descs: A list containing numpy arrays of size (ndesc_for_this_image, 128). \n",
    "              Each numpy array i corresponds to the descriptors found at image i.\n",
    "\n",
    "        RETURN:\n",
    "        - total_results: A dictionary containing, for each query image, an ordered list of the retrieved images.\n",
    "        - m_ap: Mean Average Precision averaged over all queries.\n",
    "        \"\"\"\n",
    "        total_results = {}\n",
    "        m_ap = 0.0\n",
    "        \n",
    "        # YOUR CODE HERE\n",
    "        for qname, qdesc in zip(query_names, query_descs):\n",
    "            # Search for similar images\n",
    "            results = self.search_image(qdesc)\n",
    "            total_results[qname] = results\n",
    "\n",
    "        m_ap = ev.compute_mAP(total_results, gt_file)\n",
    "        \n",
    "        return total_results, m_ap"
   ]
  },
  {
   "cell_type": "code",
   "execution_count": 145,
   "id": "b50bb6a4",
   "metadata": {
    "deletable": false,
    "editable": false,
    "nbgrader": {
     "cell_type": "code",
     "checksum": "2a7f9e72db766bbb46a9351d79c32153",
     "grade": true,
     "grade_id": "cell-5852069de28f4013",
     "locked": true,
     "points": 0.5,
     "schema_version": 3,
     "solution": false,
     "task": false
    }
   },
   "outputs": [],
   "source": [
    "# Example of use\n",
    "index = BoW_TFIDF('../clust/clust_flickr60_k200.fvecs')\n",
    "index.build_db(train_names[0:2], train_desc[0:2])"
   ]
  },
  {
   "cell_type": "code",
   "execution_count": 146,
   "id": "6de5068e",
   "metadata": {
    "deletable": false,
    "editable": false,
    "nbgrader": {
     "cell_type": "code",
     "checksum": "0becf97cffc51eee9453ec7f73d0b7bf",
     "grade": true,
     "grade_id": "cell-96c066a07526d05c",
     "locked": true,
     "points": 0.45,
     "schema_version": 3,
     "solution": false,
     "task": false
    }
   },
   "outputs": [
    {
     "name": "stdout",
     "output_type": "stream",
     "text": [
      "['100001.jpg', '100002.jpg']\n"
     ]
    }
   ],
   "source": [
    "res = index.search_image(query_desc[0])\n",
    "print(res)"
   ]
  },
  {
   "attachments": {},
   "cell_type": "markdown",
   "id": "a554f0a8",
   "metadata": {
    "deletable": false,
    "editable": false,
    "nbgrader": {
     "cell_type": "markdown",
     "checksum": "82c28d6c0fdd0e7ad5f379588c605055",
     "grade": false,
     "grade_id": "cell-575949824f2de049",
     "locked": true,
     "schema_version": 3,
     "solution": false,
     "task": false
    }
   },
   "source": [
    "**Q12**: In the following cell compute the resulting mAP of the system **using the vocabularies of 200, 2K, 20K and 200K visual words**:"
   ]
  },
  {
   "cell_type": "code",
   "execution_count": 147,
   "id": "6307706a",
   "metadata": {
    "deletable": false,
    "nbgrader": {
     "cell_type": "code",
     "checksum": "8c95346b797b2cca41bcecdc3662a524",
     "grade": false,
     "grade_id": "cell-0d04839ddb813322",
     "locked": false,
     "schema_version": 3,
     "solution": true,
     "task": false
    }
   },
   "outputs": [
    {
     "name": "stdout",
     "output_type": "stream",
     "text": [
      "Training time for 200 words:  7.585897207260132\n",
      "Training time for 2K words:  7.91837477684021\n",
      "Training time for 20K words:  14.129463911056519\n",
      "Training time for 200K words:  37.93819189071655\n"
     ]
    }
   ],
   "source": [
    "# Fill these variables with the resulting mAP\n",
    "mAP_200  = 0.0\n",
    "mAP_2K   = 0.0\n",
    "mAP_20K  = 0.0\n",
    "mAP_200K = 0.0\n",
    "\n",
    "import time\n",
    "\n",
    "# YOUR CODE HERE\n",
    "def build_index_and_compute_map(clust_file, train_names, train_desc, query_names, query_desc):\n",
    "    start_time = time.time()\n",
    "    index = BoW_TFIDF(clust_file)\n",
    "    index.build_db(train_names, train_desc)\n",
    "    train_time = time.time() - start_time\n",
    "    results, mAP = index.compute_mAP(query_names, query_desc)\n",
    "    return results, mAP, train_time\n",
    "\n",
    "clust_files = ['../clust/clust_flickr60_k200.fvecs', \n",
    "               '../clust/clust_flickr60_k2000.fvecs', \n",
    "               '../clust/clust_flickr60_k20000.fvecs', \n",
    "               '../clust/clust_flickr60_k200000.fvecs']\n",
    "\n",
    "results_200, mAP_200, train_time_200 = build_index_and_compute_map(clust_files[0], train_names, train_desc, query_names, query_desc)\n",
    "print(\"Training time for 200 words: \", train_time_200)\n",
    "\n",
    "results_2K, mAP_2K, train_time_2K = build_index_and_compute_map(clust_files[1], train_names, train_desc, query_names, query_desc)\n",
    "print(\"Training time for 2K words: \", train_time_2K)\n",
    "\n",
    "results_20K, mAP_20K, train_time_20K = build_index_and_compute_map(clust_files[2], train_names, train_desc, query_names, query_desc)\n",
    "print(\"Training time for 20K words: \", train_time_20K)\n",
    "\n",
    "results_200K, mAP_200K, train_time_200K = build_index_and_compute_map(clust_files[3], train_names, train_desc, query_names, query_desc)\n",
    "print(\"Training time for 200K words: \", train_time_200K)"
   ]
  },
  {
   "cell_type": "code",
   "execution_count": 148,
   "id": "ba4761f6",
   "metadata": {
    "deletable": false,
    "editable": false,
    "nbgrader": {
     "cell_type": "code",
     "checksum": "6875afc6dfca2a616f133288c78f80b8",
     "grade": true,
     "grade_id": "cell-376a7cc3cc44f953",
     "locked": true,
     "points": 0.3,
     "schema_version": 3,
     "solution": false,
     "task": false
    }
   },
   "outputs": [
    {
     "name": "stdout",
     "output_type": "stream",
     "text": [
      "mAP 200: 0.05085\n",
      "mAP 2K: 0.41678\n",
      "mAP 20K: 0.45866\n",
      "mAP 200K: 0.51423\n"
     ]
    }
   ],
   "source": [
    "print('mAP 200: %.5f' % mAP_200)\n",
    "print('mAP 2K: %.5f' % mAP_2K)\n",
    "print('mAP 20K: %.5f' % mAP_20K)\n",
    "print('mAP 200K: %.5f' % mAP_200K)"
   ]
  },
  {
   "attachments": {},
   "cell_type": "markdown",
   "id": "1aa3cf87",
   "metadata": {
    "deletable": false,
    "editable": false,
    "nbgrader": {
     "cell_type": "markdown",
     "checksum": "58e36b7d12f7a1862ee69a275c488e78",
     "grade": false,
     "grade_id": "cell-72b92aeae5e2af5e",
     "locked": true,
     "schema_version": 3,
     "solution": false,
     "task": false
    }
   },
   "source": [
    "**Q13:** Compare the performances obtained on each case. Is a larger vocabulary size always better? Why or why not?"
   ]
  },
  {
   "attachments": {},
   "cell_type": "markdown",
   "id": "65d6852c",
   "metadata": {
    "deletable": false,
    "editable": false,
    "nbgrader": {
     "cell_type": "markdown",
     "checksum": "a3f86e368c5ab58b8438a3e3f04f4ecb",
     "grade": false,
     "grade_id": "cell-cb30e6754f8a5982",
     "locked": true,
     "points": 0.2,
     "schema_version": 3,
     "solution": false,
     "task": true
    }
   },
   "source": [
    "Write here the code required to answer the questions stated above. You can add more cells (code / markdown) at this point if you need it."
   ]
  },
  {
   "attachments": {},
   "cell_type": "markdown",
   "id": "3091e4bf",
   "metadata": {},
   "source": [
    "Similar to the initial implementation, there is a positive correlation between the vocabulary size and performance, which comes at the cost of increased computational time. Larger vocabulary size does not always guarantee better performance. Increasing the size of the vocabulary leads to a higher level of granularity in the description of the visual content, which can be useful in distinguishing between similar images. However, too much granularity can also result in overfitting, where the system becomes too specialized to the training dataset and fails to generalize well to unseen data.\n",
    "\n",
    "Additionally, a larger vocabulary size requires more computational resources, both for building the index and for performing the retrieval. Therefore, there is a trade-off between accuracy and efficiency, and the optimal vocabulary size depends on the specific application.\n",
    "\n"
   ]
  },
  {
   "attachments": {},
   "cell_type": "markdown",
   "id": "752ac143",
   "metadata": {
    "deletable": false,
    "editable": false,
    "nbgrader": {
     "cell_type": "markdown",
     "checksum": "1323fe25eb88898f8692a84bce80fd7d",
     "grade": false,
     "grade_id": "cell-48a4fa20de0d9cb3",
     "locked": true,
     "schema_version": 3,
     "solution": false,
     "task": false
    }
   },
   "source": [
    "**Q14**: Analyze the effect of the vocabulary size in terms of mAP and average response time (train and query times). Are these times constant for each vocabulary? Some plots here can be useful to justify your answer."
   ]
  },
  {
   "attachments": {},
   "cell_type": "markdown",
   "id": "c07db06d",
   "metadata": {
    "deletable": false,
    "editable": false,
    "nbgrader": {
     "cell_type": "markdown",
     "checksum": "893995c02d8723df87a01fb6358c0444",
     "grade": false,
     "grade_id": "cell-2ee84889d64d2b77",
     "locked": true,
     "points": 0.1,
     "schema_version": 3,
     "solution": false,
     "task": true
    }
   },
   "source": [
    "Write here the code required to answer the questions stated above. You can add more cells (code / markdown) at this point if you need it."
   ]
  },
  {
   "cell_type": "code",
   "execution_count": 149,
   "id": "4c45c3e6",
   "metadata": {},
   "outputs": [
    {
     "data": {
      "image/png": "[encoded data removed]",
      "text/plain": [
       "<Figure size 640x480 with 1 Axes>"
      ]
     },
     "metadata": {},
     "output_type": "display_data"
    },
    {
     "data": {
      "image/png": "[encoded data removed]",
      "text/plain": [
       "<Figure size 640x480 with 1 Axes>"
      ]
     },
     "metadata": {},
     "output_type": "display_data"
    },
    {
     "data": {
      "image/png": "[encoded data removed]",
      "text/plain": [
       "<Figure size 640x480 with 1 Axes>"
      ]
     },
     "metadata": {},
     "output_type": "display_data"
    }
   ],
   "source": [
    "import matplotlib.pyplot as plt\n",
    "\n",
    "# vocabulary sizes\n",
    "vocab_sizes = [200, 2000, 20000, 200000]\n",
    "\n",
    "# lists to store results\n",
    "mAPs = []\n",
    "train_times = []\n",
    "query_times = []\n",
    "\n",
    "# loop through vocabulary sizes\n",
    "for size in vocab_sizes:\n",
    "    # create BoW object\n",
    "    index = BoW_TFIDF('../clust/clust_flickr60_k{}.fvecs'.format(size))\n",
    "    \n",
    "    # build database\n",
    "    start_time = time.time()\n",
    "    index.build_db(train_names, train_desc)\n",
    "    train_time = time.time() - start_time\n",
    "    \n",
    "    # compute mAP\n",
    "    start_time = time.time()\n",
    "    results, mAP = index.compute_mAP(query_names, query_desc)\n",
    "    query_time = time.time() - start_time\n",
    "    \n",
    "    # append results to lists\n",
    "    mAPs.append(mAP)\n",
    "    train_times.append(train_time)\n",
    "    query_times.append(query_time)\n",
    "\n",
    "# plot mAP vs vocabulary size\n",
    "plt.plot(vocab_sizes, mAPs)\n",
    "plt.title('mAP vs Vocabulary Size')\n",
    "plt.xlabel('Vocabulary Size')\n",
    "plt.ylabel('mAP')\n",
    "plt.show()\n",
    "\n",
    "# plot train time vs vocabulary size\n",
    "plt.plot(vocab_sizes, train_times)\n",
    "plt.title('Train Time vs Vocabulary Size')\n",
    "plt.xlabel('Vocabulary Size')\n",
    "plt.ylabel('Train Time (s)')\n",
    "plt.show()\n",
    "\n",
    "# plot query time vs vocabulary size\n",
    "plt.plot(vocab_sizes, query_times)\n",
    "plt.title('Query Time vs Vocabulary Size')\n",
    "plt.xlabel('Vocabulary Size')\n",
    "plt.ylabel('Query Time (s)')\n",
    "plt.show()\n"
   ]
  },
  {
   "attachments": {},
   "cell_type": "markdown",
   "id": "1ec234c9",
   "metadata": {},
   "source": [
    "mAP value and training time increases when the vocabulary size increases but query time has a different relation. The one with vocabulary size 20K has the lowest guerying time. So the times are not constant."
   ]
  },
  {
   "attachments": {},
   "cell_type": "markdown",
   "id": "efc83c87",
   "metadata": {
    "deletable": false,
    "editable": false,
    "nbgrader": {
     "cell_type": "markdown",
     "checksum": "47620cd7566940588cc996e91d08d89a",
     "grade": false,
     "grade_id": "cell-732533d28be0d7f8",
     "locked": true,
     "schema_version": 3,
     "solution": false,
     "task": false
    }
   },
   "source": [
    "**Q15**: Do the results obtained depend on the set of images used to generate the vocabulary? How can we improve the retrieval performance?"
   ]
  },
  {
   "attachments": {},
   "cell_type": "markdown",
   "id": "61429d22",
   "metadata": {
    "deletable": false,
    "editable": false,
    "nbgrader": {
     "cell_type": "markdown",
     "checksum": "579ffa1118fbc2f4afcf2e41cfed997e",
     "grade": false,
     "grade_id": "cell-d18ed77c92a81b75",
     "locked": true,
     "points": 0.1,
     "schema_version": 3,
     "solution": false,
     "task": true
    }
   },
   "source": [
    "Write here the code required to answer the questions stated above. You can add more cells (code / markdown) at this point if you need it."
   ]
  },
  {
   "attachments": {},
   "cell_type": "markdown",
   "id": "124450e1",
   "metadata": {},
   "source": [
    "Yes, the results obtained can depend on the set of images used to generate the vocabulary. If the vocabulary is generated using a limited or biased set of images, it may not capture the visual characteristics of the images in the test set, leading to poor retrieval performance. To address this, it is important to generate the vocabulary using a diverse and representative set of images that captures the visual characteristics of the images in the test set.\n",
    "\n",
    "To improve the retrieval performance, one approach is to use more advanced techniques such as deep learning-based feature extraction and indexing. Another approach is to use more sophisticated matching algorithms such as spatial verification, which takes into account the spatial relationships between the query image and the database images. Additionally, using a larger training set and applying data augmentation techniques can improve the robustness and generalization of the system. Finally, incorporating semantic information such as object detection and scene understanding can further improve the retrieval performance by incorporating high-level information into the matching process."
   ]
  },
  {
   "attachments": {},
   "cell_type": "markdown",
   "id": "6465cfb0",
   "metadata": {
    "deletable": false,
    "editable": false,
    "nbgrader": {
     "cell_type": "markdown",
     "checksum": "19391fa0b37d795714ed3302f0847a36",
     "grade": false,
     "grade_id": "cell-e611dd64897c293c",
     "locked": true,
     "schema_version": 3,
     "solution": false,
     "task": false
    }
   },
   "source": [
    "**Q16:** How does TF-IDF affect the performance? Better or worse? Does this make sense?"
   ]
  },
  {
   "attachments": {},
   "cell_type": "markdown",
   "id": "4b193d85",
   "metadata": {
    "deletable": false,
    "editable": false,
    "nbgrader": {
     "cell_type": "markdown",
     "checksum": "ee1bf086bcde24459725d8df028eed97",
     "grade": false,
     "grade_id": "cell-00341a8c321999b8",
     "locked": true,
     "points": 0.2,
     "schema_version": 3,
     "solution": false,
     "task": true
    }
   },
   "source": [
    "Write here the code required to answer the questions stated above. You can add more cells (code / markdown) at this point if you need it."
   ]
  },
  {
   "attachments": {},
   "cell_type": "markdown",
   "id": "d55c20d9",
   "metadata": {},
   "source": [
    "TF-IDF improves the performance of a Bag-of-Words model by assigning higher weights to the more discriminative visual words that appear frequently in some images but not in others. This helps to reduce the impact of common words that occur frequently in all images but are not informative for distinguishing between them.\n",
    "\n",
    "In the case of the smallest vocabulary size of 200, the mAP decreased from 0.06577 to 0.05085 with the addition of TF-IDF. However, for the larger vocabulary sizes of 2K, 20K, and 200K, TF-IDF led to significant improvements in performance, with mAP values of 0.41678, 0.45866, and 0.51423 respectively, compared to mAP values of 0.13785, 0.25445, and 0.38384 obtained without TF-IDF.\n",
    "\n",
    "Therefore, we can conclude that the effect of TF-IDF on the retrieval performance depends on the vocabulary size. For larger vocabulary sizes, TF-IDF seems to improve the retrieval performance, while for smaller vocabulary sizes, it can lead to a decrease in performance. This makes sense since TF-IDF aims to downweight common terms that are unlikely to be discriminative, and when the vocabulary size is small, some of the informative terms might be wrongly downweighted, leading to a decrease in performance."
   ]
  },
  {
   "attachments": {},
   "cell_type": "markdown",
   "id": "55cb8ca9",
   "metadata": {
    "deletable": false,
    "editable": false,
    "nbgrader": {
     "cell_type": "markdown",
     "checksum": "a3e5f552b4935747a0f94ab360623ea5",
     "grade": false,
     "grade_id": "cell_foot_1",
     "locked": true,
     "schema_version": 3,
     "solution": false,
     "task": false
    }
   },
   "source": [
    "---\n",
    "\n",
    "&copy; Emilio Garcia-Fidalgo, University of the Balearic Islands"
   ]
  }
 ],
 "metadata": {
  "kernelspec": {
   "display_name": "Python 3 (ipykernel)",
   "language": "python",
   "name": "python3"
  },
  "language_info": {
   "codemirror_mode": {
    "name": "ipython",
    "version": 3
   },
   "file_extension": ".py",
   "mimetype": "text/x-python",
   "name": "python",
   "nbconvert_exporter": "python",
   "pygments_lexer": "ipython3",
   "version": "3.9.13"
  }
 },
 "nbformat": 4,
 "nbformat_minor": 5
}
