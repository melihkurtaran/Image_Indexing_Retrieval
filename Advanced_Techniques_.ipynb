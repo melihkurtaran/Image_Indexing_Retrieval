{
 "cells": [
  {
   "attachments": {},
   "cell_type": "markdown",
   "id": "c1b4876a",
   "metadata": {
    "deletable": false,
    "editable": false,
    "nbgrader": {
     "cell_type": "markdown",
     "checksum": "b361c569619c5777091368813c9298fb",
     "grade": false,
     "grade_id": "cell_head_1",
     "locked": true,
     "schema_version": 3,
     "solution": false,
     "task": false
    }
   },
   "source": [
    "# 11762 Content-Based Image Retrieval\n",
    "## Master's Degree in Intelligent Systems\n",
    "### University of the Balearic Islands\n",
    "\n",
    "---"
   ]
  },
  {
   "cell_type": "code",
   "execution_count": 2,
   "id": "05c0ec04",
   "metadata": {
    "deletable": false,
    "editable": false,
    "nbgrader": {
     "cell_type": "code",
     "checksum": "20a5c47f6bb9d8cd5e66d23e3c5e7ef4",
     "grade": false,
     "grade_id": "cell-c3d4cadbc41f26fb",
     "locked": true,
     "schema_version": 3,
     "solution": false,
     "task": false
    }
   },
   "outputs": [],
   "source": [
    "# Setup code for this assignment\n",
    "import cv2\n",
    "import math\n",
    "import numpy as np\n",
    "import os\n",
    "import scipy.cluster.vq as vq\n",
    "import tqdm\n",
    "import zipfile\n",
    "\n",
    "## Adding parent folder to find other libs\n",
    "import sys\n",
    "if \"..\" not in sys.path:\n",
    "    sys.path.insert(0,\"..\")\n",
    "    \n",
    "import iric_utils.eval_holidays as ev\n",
    "import iric_utils.read_descriptors as rd\n",
    "\n",
    "# Configuring Matplotlib\n",
    "from matplotlib import pyplot as plt\n",
    "%matplotlib inline"
   ]
  },
  {
   "cell_type": "markdown",
   "id": "089c7f13",
   "metadata": {
    "deletable": false,
    "editable": false,
    "nbgrader": {
     "cell_type": "markdown",
     "checksum": "c5e211b475b088e5bbf4e9341e5c56ab",
     "grade": false,
     "grade_id": "cell-d55ea684dc7f6d83",
     "locked": true,
     "schema_version": 3,
     "solution": false,
     "task": false
    }
   },
   "source": [
    "## Introduction\n",
    "---\n",
    "The main goal of this assigment is to implement a complete CBIR system using VLAD, as image descriptor, in combination with Product Quantization (PQ), as indexing method. You will also experiment with a simple search reranking method.\n",
    "\n",
    "In this assigment, images will be described using the following steps:\n",
    "- Load a set of SIFT features for each image.\n",
    "- Aggregate these features into a VLAD vector.\n",
    "- (Optionally) Apply dimensionality reduction using PCA.\n",
    "\n",
    "Next, using the computed VLAD vectors, an index of images will be built by using PQ:\n",
    "- Build a set of quantizers (small vocabularies).\n",
    "- Encode database images using these quantizers.\n",
    "- Search query images in the index using the Asymmetric Distance Computation (ADC) approach to measure the system performance.\n",
    "\n",
    "As usual during this course, we will use the [INRIA Holidays](http://lear.inrialpes.fr/people/jegou/data.php) dataset. **Check previous assignments to further information about this dataset.**\n",
    "\n",
    "We also need the provided script to evaluate a CBIR system on this dataset. Remember that the performance is measured computing the **mean average precision** (mAP) over all queries. **Check also previous assignments to remember how to use this script and the different functions it offers.**"
   ]
  },
  {
   "cell_type": "markdown",
   "id": "d119c73f",
   "metadata": {
    "deletable": false,
    "editable": false,
    "nbgrader": {
     "cell_type": "markdown",
     "checksum": "328a5d81a7c47d9e2ca31dd1f97b0ddc",
     "grade": false,
     "grade_id": "cell-404d56f0636d62ac",
     "locked": true,
     "schema_version": 3,
     "solution": false,
     "task": false
    }
   },
   "source": [
    "### Loading images\n",
    "As we did in previous assignments, for managing images, we will create four lists:\n",
    "- **`query_names`**: File names of the *query* images\n",
    "- **`query_imgs`**: *Query* images loaded using OpenCV\n",
    "- **`train_names`**: File names of the *train* (database) images\n",
    "- **`train_imgs`**: *Train* images loaded using OpenCV\n",
    "\n",
    "In this assignment, we will use the original INRIA Holidays dataset:"
   ]
  },
  {
   "cell_type": "code",
   "execution_count": 3,
   "id": "efb60a66",
   "metadata": {
    "deletable": false,
    "editable": false,
    "nbgrader": {
     "cell_type": "code",
     "checksum": "9c638a8490d3e44502d8f4faee4e8916",
     "grade": false,
     "grade_id": "cell-56d379a70cbf33d7",
     "locked": true,
     "schema_version": 3,
     "solution": false,
     "task": false
    }
   },
   "outputs": [
    {
     "name": "stdout",
     "output_type": "stream",
     "text": [
      "500\n",
      "991\n"
     ]
    }
   ],
   "source": [
    "# Separating the dataset into query and train images\n",
    "query_names = []\n",
    "query_imgs = []\n",
    "train_names = []\n",
    "train_imgs = []\n",
    "\n",
    "with open('../holidays/holidays_images.dat') as f:\n",
    "    for line in f:\n",
    "        imname = line.strip()\n",
    "        imno = int(imname[:-len(\".jpg\")])\n",
    "        img = cv2.imread('../holidays/images/' + imname)\n",
    "        # Resize the images for a faster operation in this assignment\n",
    "        img = cv2.resize(img, None, fx=0.25, fy=0.25, interpolation = cv2.INTER_CUBIC)\n",
    "    \n",
    "        # Checking if this is a query image\n",
    "        if imno % 100 == 0:\n",
    "            query_names.append(imname)\n",
    "            query_imgs.append(img)\n",
    "        else:\n",
    "            train_names.append(imname)\n",
    "            train_imgs.append(img)\n",
    "\n",
    "print(len(query_names))\n",
    "print(len(train_names))"
   ]
  },
  {
   "cell_type": "markdown",
   "id": "c7c7c152",
   "metadata": {
    "deletable": false,
    "editable": false,
    "nbgrader": {
     "cell_type": "markdown",
     "checksum": "ef0bee1eeb76015511fba82bafff8f0e",
     "grade": false,
     "grade_id": "cell-72ea50ea05235cc5",
     "locked": true,
     "schema_version": 3,
     "solution": false,
     "task": false
    }
   },
   "source": [
    "## Loading SIFT descriptors\n",
    "In this assignment we will create four additional lists:\n",
    "- **`query_kps`**: A list of lists of keypoints (cv2.KeyPoint) extracted from the *query* images\n",
    "- **`query_desc`**: A list of numpy arrays including, for each set of keypoints, the SIFT descriptors extracted from the *query* images\n",
    "- **`train_kps`**: A list of lists of keypoints (cv2.KeyPoint) extracted from the *train* (database) images\n",
    "- **`train_desc`**: A list of numpy arrays including, for each set of keypoints, the SIFT descriptors extracted from the *train* images\n",
    "\n",
    "As we did in Assigment 2, you are provided with a set of SIFT descriptors for each image, and, therefore, you do not need to create these lists from scratch. If you do no have these descriptors in your computer, first, download them from [here](https://uibes-my.sharepoint.com/:u:/g/personal/egf350_id_uib_es/Eam8Ld8YDaJAhNr91YVdAZIB_wVZJ8kzzKD7BR6R3LziMw).\n",
    "\n",
    "> **Unzip this file into the root directory of the development kit, at the same level of the datasets.**\n",
    "\n",
    "Remember that these descriptors are in a directory called `siftgeo` that should be in your workspace, containing the set of SIFT descriptors for each image of the dataset. These descriptors are stored in binary format and, thus, you are also provided with some tools to load them. To be more precise, you can call the function `load_SIFT_descriptors` to load the descriptors of a list of images:"
   ]
  },
  {
   "cell_type": "code",
   "execution_count": 4,
   "id": "403e0d0b",
   "metadata": {
    "deletable": false,
    "editable": false,
    "nbgrader": {
     "cell_type": "code",
     "checksum": "7c25a280008771e9cab1f70cea889489",
     "grade": false,
     "grade_id": "cell-7ae7555b1b4ef435",
     "locked": true,
     "schema_version": 3,
     "solution": false,
     "task": false
    }
   },
   "outputs": [
    {
     "name": "stdout",
     "output_type": "stream",
     "text": [
      "500\n",
      "991\n",
      "500\n",
      "991\n",
      "(1000, 128)\n",
      "[[10.  6. 52. ... 15.  4.  0.]\n",
      " [16. 50. 12. ... 15.  4.  0.]\n",
      " [10. 11. 58. ...  7.  4.  4.]\n",
      " ...\n",
      " [27. 15.  0. ... 16.  8. 12.]\n",
      " [51. 47. 14. ... 35. 26.  0.]\n",
      " [ 2. 37. 25. ... 47. 13.  8.]]\n"
     ]
    }
   ],
   "source": [
    "# Loading descriptors\n",
    "query_kps, query_desc = rd.load_SIFT_descriptors(query_names, max_desc=1000)\n",
    "train_kps, train_desc = rd.load_SIFT_descriptors(train_names, max_desc=1000)\n",
    "\n",
    "# Some prints\n",
    "print(len(query_kps))\n",
    "print(len(train_kps))\n",
    "print(len(query_desc))\n",
    "print(len(train_desc))\n",
    "print(query_desc[0].shape)\n",
    "print(query_desc[0])"
   ]
  },
  {
   "cell_type": "markdown",
   "id": "df66ea08",
   "metadata": {
    "deletable": false,
    "editable": false,
    "nbgrader": {
     "cell_type": "markdown",
     "checksum": "5f3d9bf3742ba758e024519279fb77a0",
     "grade": false,
     "grade_id": "cell-40b24f326ba0393a",
     "locked": true,
     "schema_version": 3,
     "solution": false,
     "task": false
    }
   },
   "source": [
    "For development purposes, we use the parameter `max_desc` to load a maximum number (1000) of the descriptors. This will speed up the execution of the rest of the notebook, while the decrease in performance will be minimum.\n",
    "\n",
    "> **Some images do not have keypoints/descriptors. Take this into account when you develop your solution.**"
   ]
  },
  {
   "cell_type": "markdown",
   "id": "2c5142c1",
   "metadata": {
    "deletable": false,
    "editable": false,
    "nbgrader": {
     "cell_type": "markdown",
     "checksum": "1e1667ffc981315c5e820ab5e12662a6",
     "grade": false,
     "grade_id": "cell-ced3194580cf26a7",
     "locked": true,
     "schema_version": 3,
     "solution": false,
     "task": false
    }
   },
   "source": [
    "## VLAD\n",
    "---\n",
    "Next step is to generate a VLAD vector for each image, aggregating its SIFT descriptors according to a visual vocabulary. You are provided with several small pretrained vocabularies to this end. Now, to develop the assignment, let's load one of these vocabularies:"
   ]
  },
  {
   "cell_type": "code",
   "execution_count": 5,
   "id": "f6164f78",
   "metadata": {
    "deletable": false,
    "editable": false,
    "nbgrader": {
     "cell_type": "code",
     "checksum": "1bad411012229bb3f7f11beef5edab0a",
     "grade": false,
     "grade_id": "cell-56b63f7574abcfe1",
     "locked": true,
     "schema_version": 3,
     "solution": false,
     "task": false
    }
   },
   "outputs": [
    {
     "name": "stdout",
     "output_type": "stream",
     "text": [
      "(32, 128)\n"
     ]
    }
   ],
   "source": [
    "# Loading a vocabulary files to be used in the VLAD approach.\n",
    "vocab = np.load('../vocabs/sift_32c.npy')\n",
    "print(vocab.shape)"
   ]
  },
  {
   "cell_type": "markdown",
   "id": "4e75c4a4",
   "metadata": {
    "deletable": false,
    "editable": false,
    "nbgrader": {
     "cell_type": "markdown",
     "checksum": "5078fdc20927f67b759ec36ef1503e28",
     "grade": false,
     "grade_id": "cell-1eb0db1df8c37523",
     "locked": true,
     "schema_version": 3,
     "solution": false,
     "task": false
    }
   },
   "source": [
    "Now it is your turn. Write a function called `compute_vlad` to compute the VLAD representation of an image. Additionally, perform a L2 normalization of the VLAD vector $V$:\n",
    "$$\n",
    "v_i = \\frac{v_i}{\\left\\lVert V\\right\\rVert_2}\n",
    "$$\n",
    "which means dividing each component $v_i$ by the L2 norm of $V$:\n",
    "\n",
    "> **Useful functions**: [numpy.linalg.norm](https://docs.scipy.org/doc/numpy/reference/generated/numpy.linalg.norm.html), [scipy.cluster.vq.vq](https://docs.scipy.org/doc/scipy/reference/generated/scipy.cluster.vq.vq.html)"
   ]
  },
  {
   "cell_type": "code",
   "execution_count": 6,
   "id": "8a4d87c9",
   "metadata": {
    "deletable": false,
    "nbgrader": {
     "cell_type": "code",
     "checksum": "1506255c0723c378dc2de3e3f4e3f223",
     "grade": false,
     "grade_id": "cell-d414bd746061eca0",
     "locked": false,
     "schema_version": 3,
     "solution": true,
     "task": false
    }
   },
   "outputs": [],
   "source": [
    "def compute_vlad(descs, vocab):\n",
    "    '''\n",
    "    Compute VLAD representation of an image.\n",
    "    \n",
    "    - descs: A numpy array. It is the set descriptors extracted from the image.\n",
    "        e.g. using SIFT, the size will be (N, 128), being N the number of features.\n",
    "    - vocab: A numpy array representing the vocabulary.\n",
    "        Using SIFT, the size will be (k, 128), where k is the number of visual\n",
    "        words of the vocabulary.\n",
    "  \n",
    "    RETURN: \n",
    "    - VLAD l2-normalized vector of the image, represented as a numpy vector. \n",
    "        The size will be, using SIFT, (k * 128, ), being k the number of visual \n",
    "        words of 'vocab'.\n",
    "    '''  \n",
    "    # Assign each descriptor to its nearest visual word in the vocabulary\n",
    "    codes, _ = vq.vq(descs, vocab)\n",
    "\n",
    "    # Initialize an empty VLAD vector\n",
    "    vlad = np.zeros_like(vocab)\n",
    "\n",
    "    # Accumulate the differences between descriptors and corresponding visual words\n",
    "    for i in range(vocab.shape[0]):\n",
    "        # Get the descriptors belonging to the i-th visual word\n",
    "        descriptors_i = descs[codes == i]\n",
    "        # Calculate the difference between each descriptor and the i-th visual word\n",
    "        diff = descriptors_i - vocab[i]\n",
    "        # Accumulate the differences\n",
    "        vlad[i] = np.sum(diff, axis=0)\n",
    "\n",
    "    # Calculate the L2 norm of the VLAD vector\n",
    "    vlad_norm = np.linalg.norm(vlad)\n",
    "\n",
    "    # Check if the norm is non-zero to avoid division by zero\n",
    "    if vlad_norm != 0:\n",
    "        # L2 normalization of the VLAD vector\n",
    "        vlad /= vlad_norm\n",
    "\n",
    "    # Flatten the VLAD vector\n",
    "    vlad = vlad.flatten()\n",
    "\n",
    "    return vlad"
   ]
  },
  {
   "cell_type": "code",
   "execution_count": 7,
   "id": "a9f1c83c",
   "metadata": {
    "deletable": false,
    "editable": false,
    "nbgrader": {
     "cell_type": "code",
     "checksum": "4703d184ec9181ec938257221b35b0ef",
     "grade": true,
     "grade_id": "cell-ac86c9135d6313ba",
     "locked": true,
     "points": 0.4,
     "schema_version": 3,
     "solution": false,
     "task": false
    }
   },
   "outputs": [
    {
     "name": "stdout",
     "output_type": "stream",
     "text": [
      "[-0.01708985 -0.00229319  0.00131438 ... -0.00762179 -0.0083055\n",
      "  0.01966916]\n"
     ]
    }
   ],
   "source": [
    "vlad_desc = compute_vlad(query_desc[0], vocab)\n",
    "print(vlad_desc)"
   ]
  },
  {
   "cell_type": "markdown",
   "id": "48d913e1",
   "metadata": {
    "deletable": false,
    "editable": false,
    "nbgrader": {
     "cell_type": "markdown",
     "checksum": "228ab7eb5348444029947c1445296ab2",
     "grade": false,
     "grade_id": "cell-fd14629de5a27675",
     "locked": true,
     "schema_version": 3,
     "solution": false,
     "task": false
    }
   },
   "source": [
    "Now write a function called `describe_images_VLAD` to compute VLAD descriptors of a list of images:"
   ]
  },
  {
   "cell_type": "code",
   "execution_count": 8,
   "id": "a3df7234",
   "metadata": {
    "deletable": false,
    "nbgrader": {
     "cell_type": "code",
     "checksum": "16316b7a450896d0fb6201add034a5f4",
     "grade": false,
     "grade_id": "cell-cca16107c0706b5b",
     "locked": false,
     "schema_version": 3,
     "solution": true,
     "task": false
    }
   },
   "outputs": [],
   "source": [
    "def describe_images_VLAD(imgs_desc, vocab):  \n",
    "    '''\n",
    "    Compute the VLAD representation of a list of images.\n",
    "    \n",
    "    - img_descs: A list containing numpy arrays of size (N, 128), using SIFT and\n",
    "        being N the number of features. Each numpy array i corresponds to the \n",
    "        descriptors found at image i.\n",
    "    - vocab: A numpy array representing the vocabulary.\n",
    "        Using SIFT, the size will be (k, 128), where k is the number of visual\n",
    "        words of the vocabulary.\n",
    "  \n",
    "    RETURN: \n",
    "    - A list where each item i is the l2-norm VLAD vector of image img_descs[i].\n",
    "    ''' \n",
    "  \n",
    "    imgs_vlad = []\n",
    "    \n",
    "    for desc in imgs_desc:\n",
    "        imgs_vlad.append(compute_vlad(desc, vocab))\n",
    "\n",
    "    return imgs_vlad"
   ]
  },
  {
   "cell_type": "code",
   "execution_count": 9,
   "id": "f9756041",
   "metadata": {
    "deletable": false,
    "editable": false,
    "nbgrader": {
     "cell_type": "code",
     "checksum": "b5a3f318087fffde21568855e4f06668",
     "grade": true,
     "grade_id": "cell-5a06cecfe05fbd40",
     "locked": true,
     "points": 0.15,
     "schema_version": 3,
     "solution": false,
     "task": false
    }
   },
   "outputs": [
    {
     "name": "stdout",
     "output_type": "stream",
     "text": [
      "991\n",
      "500\n",
      "(4096,)\n",
      "(4096,)\n",
      "[-0.0166616   0.01173472  0.00454088 ...  0.00689059  0.00051252\n",
      "  0.00820919]\n",
      "[-0.01708985 -0.00229319  0.00131438 ... -0.00762179 -0.0083055\n",
      "  0.01966916]\n"
     ]
    }
   ],
   "source": [
    "query_vlad = describe_images_VLAD(query_desc, vocab)\n",
    "train_vlad = describe_images_VLAD(train_desc, vocab)\n",
    "print(len(train_vlad))\n",
    "print(len(query_vlad))\n",
    "print(train_vlad[0].shape)\n",
    "print(query_vlad[0].shape)\n",
    "print(train_vlad[0])\n",
    "print(query_vlad[0])"
   ]
  },
  {
   "cell_type": "markdown",
   "id": "f7186287",
   "metadata": {
    "deletable": false,
    "editable": false,
    "nbgrader": {
     "cell_type": "markdown",
     "checksum": "ad44faa034da29155ef380f5766fcf15",
     "grade": false,
     "grade_id": "cell-d8e35daf18fb336a",
     "locked": true,
     "schema_version": 3,
     "solution": false,
     "task": false
    }
   },
   "source": [
    "## Product Quantization\n",
    "---\n",
    "In this section you'll build a set of functions to implement Product Quantization (PQ) for indexing VLAD descriptors. In PQ, each vector $x$ of size $D$ is split into $m$ distinct subvectors of dimension $D^∗ = D / m$, where $D$ is a multiple of $m$. Subvectors are quantized separately using $m$ distinct quantizers (small vocabularies) each one with $k$ centroids (visual words).\n",
    "\n",
    "**Example**: \n",
    "- Using SIFT descriptors (128 dimensions) and a vocabulary with 32 visual words, the final VLAD vector will have 128 $\\times$ 32 = 4096 dimensions without applying any dimensionality reduction method.\n",
    "- We can split these vectors into 8 parts ($m$ = 8) corresponding each part to a subvector of $D / m = 4096 / 8 = 512$ components.\n",
    "- Given a training set of descriptors, a quantizer can be learnt for each of these parts using, for instance, 256 centroids ($k$ = 256), which can be encoded using 8 bits per quantizer.\n",
    "- The dimensions of each of the $m$ quantizers will then be (256, 512).\n",
    "- As a result of this process, a VLAD vector of 4096 dimensions can be encoded using 8 integers, where each integer is encoded using 8 bits (0, ..., 255), corresponding to the index of the closest centroid on this quantizer.\n",
    "\n",
    "First step is to train a set of quantizers from some given VLAD vectors. Write a function called `pq_build_quantizers` to this end:\n",
    "\n",
    "> **Useful functions**: [scipy.cluster.vq.kmeans2](https://docs.scipy.org/doc/scipy/reference/generated/scipy.cluster.vq.kmeans2.html)"
   ]
  },
  {
   "cell_type": "code",
   "execution_count": 10,
   "id": "07525388",
   "metadata": {
    "deletable": false,
    "nbgrader": {
     "cell_type": "code",
     "checksum": "3484c9411f95772a62c9adeede08c370",
     "grade": false,
     "grade_id": "cell-c9d19caaabd57de4",
     "locked": false,
     "schema_version": 3,
     "solution": true,
     "task": false
    }
   },
   "outputs": [],
   "source": [
    "def pq_build_quantizers(descs, m = 8, k = 256):\n",
    "    '''\n",
    "    Create a list of m quantizers with k centroids each one.\n",
    "    \n",
    "    - descs: A list containing VLAD vectors of size (D, ).\n",
    "        Each element i is a numpy array extracted from the set of descriptors \n",
    "        of image i.\n",
    "    - m: Number of quantizers to train. Each quantizer will be trained using\n",
    "        vectors of length D / m.\n",
    "    - k: Number of centroids (visual words) to compute for each of the m quantizers.\n",
    "  \n",
    "    RETURN: \n",
    "    - A list of m quantizers. Each quantizer is a numpy array of size (k, D / m) \n",
    "        containing the centroids obtained after a clustering procedure.\n",
    "    '''\n",
    "    quantizers = []\n",
    "\n",
    "    # Compute the length of the vectors to be used in each quantizer\n",
    "    D = descs[0].shape[0]\n",
    "    d = int(D / m)\n",
    "\n",
    "    # Train each quantizer\n",
    "    for i in range(m):\n",
    "        sub_vecs = np.array([desc[i * d:(i + 1) * d] for desc in descs])\n",
    "        centroids, _ = vq.kmeans2(sub_vecs, k, minit='random')\n",
    "      \n",
    "        # Checking empty clusters\n",
    "        while np.isnan(centroids).any() or np.isinf(centroids).any() or (centroids == 0).all():\n",
    "            centroids, _ = vq.kmeans2(sub_vecs, k, minit='random')\n",
    "      \n",
    "        quantizers.append(centroids)\n",
    "        \n",
    "    return quantizers"
   ]
  },
  {
   "cell_type": "code",
   "execution_count": 11,
   "id": "e8e775dd",
   "metadata": {
    "deletable": false,
    "editable": false,
    "nbgrader": {
     "cell_type": "code",
     "checksum": "0f940360a6f2f35f4876c1c8581d0191",
     "grade": true,
     "grade_id": "cell-d761f1f74df549fa",
     "locked": true,
     "points": 0.2,
     "schema_version": 3,
     "solution": false,
     "task": false
    }
   },
   "outputs": [
    {
     "name": "stderr",
     "output_type": "stream",
     "text": [
      "/Users/melih/micromamba/lib/python3.9/site-packages/scipy/cluster/vq.py:603: UserWarning: One of the clusters is empty. Re-run kmeans with a different initialization.\n",
      "  warnings.warn(\"One of the clusters is empty. \"\n"
     ]
    },
    {
     "name": "stdout",
     "output_type": "stream",
     "text": [
      "8\n",
      "(256, 512)\n",
      "(256, 512)\n",
      "(256, 512)\n",
      "(256, 512)\n",
      "(256, 512)\n",
      "(256, 512)\n",
      "(256, 512)\n",
      "(256, 512)\n"
     ]
    }
   ],
   "source": [
    "# Check the previous function with the following code\n",
    "quantizers = pq_build_quantizers(train_vlad, m = 8, k = 256)\n",
    "print(len(quantizers))\n",
    "for q in quantizers:\n",
    "    print(q.shape)    "
   ]
  },
  {
   "cell_type": "markdown",
   "id": "96571964",
   "metadata": {
    "deletable": false,
    "editable": false,
    "nbgrader": {
     "cell_type": "markdown",
     "checksum": "530cc5c6fe34e2a0026158d9044c90ad",
     "grade": false,
     "grade_id": "cell-505fb462b578309e",
     "locked": true,
     "schema_version": 3,
     "solution": false,
     "task": false
    }
   },
   "source": [
    "Now write a function to encode a VLAD vector using a set of quantizers:\n",
    "\n",
    "> **Useful functions**: [scipy.cluster.vq.vq](https://docs.scipy.org/doc/scipy/reference/generated/scipy.cluster.vq.vq.html)"
   ]
  },
  {
   "cell_type": "code",
   "execution_count": 12,
   "id": "67e099be",
   "metadata": {
    "deletable": false,
    "nbgrader": {
     "cell_type": "code",
     "checksum": "7153f9049c60e3f732f1835f80f71796",
     "grade": false,
     "grade_id": "cell-b8a26eb701b53745",
     "locked": false,
     "schema_version": 3,
     "solution": true,
     "task": false
    }
   },
   "outputs": [],
   "source": [
    "def pq_encode_vector(v, quantizers):\n",
    "    '''\n",
    "    Encode a VLAD vector v using a set of pre-trained set of quantizers.\n",
    "    \n",
    "    - v: VLAD vector to encode, represented as a numpy array of size (D, ).  \n",
    "    - quantizers: A list of m quantizers. \n",
    "        Each one is a numpy array of size (k, D / m), where k and m where\n",
    "        defined during the vocabulary construction.\n",
    "  \n",
    "    RETURN: \n",
    "    - VLAD vector encoded using m values.\n",
    "    '''\n",
    "    # Inferring m from 'quantizers'\n",
    "    m = len(quantizers)\n",
    "    code = np.zeros((m, 1))\n",
    "    \n",
    "    # Compute the length of the vectors to be used in each quantizer\n",
    "    D = v.shape[0]\n",
    "    d = int(D / m)\n",
    "    \n",
    "    # Encode each part of the VLAD vector using the corresponding quantizer\n",
    "    for i in range(m):\n",
    "        # Get the part of the VLAD vector to be encoded by the i-th quantizer Should be of size (, 512)\n",
    "        v_i = v[i * d : (i + 1) * d].reshape(1, -1)\n",
    "        \n",
    "        # Compute tche distances between the i-th part of the VLAD vector and the centroids of the i-th quantizer\n",
    "        code[i] = vq.vq(v_i, quantizers[i])[0]\n",
    "    \n",
    "\n",
    "    return code.astype(int)\n"
   ]
  },
  {
   "cell_type": "code",
   "execution_count": 13,
   "id": "58e87552",
   "metadata": {
    "deletable": false,
    "editable": false,
    "nbgrader": {
     "cell_type": "code",
     "checksum": "277d7300066b120f4925e99b871a8efe",
     "grade": true,
     "grade_id": "cell-df898c917eba295e",
     "locked": true,
     "points": 0.3,
     "schema_version": 3,
     "solution": false,
     "task": false
    }
   },
   "outputs": [
    {
     "name": "stdout",
     "output_type": "stream",
     "text": [
      "[[138]\n",
      " [242]\n",
      " [165]\n",
      " [ 40]\n",
      " [ 73]\n",
      " [ 10]\n",
      " [153]\n",
      " [ 10]]\n"
     ]
    }
   ],
   "source": [
    "code = pq_encode_vector(train_vlad[2], quantizers)\n",
    "print(code)"
   ]
  },
  {
   "cell_type": "markdown",
   "id": "e7c039d7",
   "metadata": {
    "deletable": false,
    "editable": false,
    "nbgrader": {
     "cell_type": "markdown",
     "checksum": "652b218ea35a8f34e6df98a488efb776",
     "grade": false,
     "grade_id": "cell-63637ed9196118c4",
     "locked": true,
     "schema_version": 3,
     "solution": false,
     "task": false
    }
   },
   "source": [
    "Now it's time to write a function for building an index of images using PQ. This function must encode each VLAD descriptor of the images that we want to index using a set of pre-trained quantizers. The function must return these codes as a list."
   ]
  },
  {
   "cell_type": "code",
   "execution_count": 14,
   "id": "eabbde27",
   "metadata": {
    "deletable": false,
    "nbgrader": {
     "cell_type": "code",
     "checksum": "f41219464129749fc7d59b92efd8aee4",
     "grade": false,
     "grade_id": "cell-5ba2dfdfe377ee1e",
     "locked": false,
     "schema_version": 3,
     "solution": true,
     "task": false
    }
   },
   "outputs": [],
   "source": [
    "def pq_build_index(descs, quantizers):\n",
    "    '''\n",
    "    Build a PQ index from a set of descriptors and quantizers.\n",
    "    \n",
    "    - descs: A list containing VLAD vectors of size (D, ) that we want to index.\n",
    "        Each element i is a numpy array extracted from the image i.\n",
    "    - quantizers: A list of m quantizers.\n",
    "        Each one is a numpy array of size (k, D / m), where k and m where\n",
    "        defined during the vocabulary construction.\n",
    "  \n",
    "    RETURN:\n",
    "    - A list where each element i is the encoded version of descs[i] using the\n",
    "        quantizers to compute the code.\n",
    "    '''\n",
    "      \n",
    "    index = []\n",
    "    \n",
    "    for desc in descs:\n",
    "        index.append(pq_encode_vector(desc, quantizers))\n",
    "\n",
    "    return index"
   ]
  },
  {
   "cell_type": "code",
   "execution_count": 15,
   "id": "3526d21c",
   "metadata": {
    "deletable": false,
    "editable": false,
    "nbgrader": {
     "cell_type": "code",
     "checksum": "ef486798c4393c10037fd997a9558685",
     "grade": true,
     "grade_id": "cell-6fa7a4d6dc563b65",
     "locked": true,
     "points": 0.15,
     "schema_version": 3,
     "solution": false,
     "task": false
    }
   },
   "outputs": [
    {
     "name": "stdout",
     "output_type": "stream",
     "text": [
      "2\n",
      "8\n",
      "[[195]\n",
      " [186]\n",
      " [207]\n",
      " [150]\n",
      " [252]\n",
      " [ 94]\n",
      " [ 37]\n",
      " [255]]\n"
     ]
    }
   ],
   "source": [
    "# Check your implementation\n",
    "index = pq_build_index(train_vlad[0:2], quantizers)\n",
    "print(len(index))\n",
    "print(len(index[0]))\n",
    "print(index[0])"
   ]
  },
  {
   "cell_type": "markdown",
   "id": "0422d74f",
   "metadata": {
    "deletable": false,
    "editable": false,
    "nbgrader": {
     "cell_type": "markdown",
     "checksum": "e462c68836c5536ed6c57e8001b92b83",
     "grade": false,
     "grade_id": "cell-d228da8ef6b74ed2",
     "locked": true,
     "schema_version": 3,
     "solution": false,
     "task": false
    }
   },
   "source": [
    "Once we have encoded a set of VLAD vectors to create our PQ index, it is time to search images on it. This requires to write a function to compute the L2 distance between a query vector $x$ and a database vector $y$. In this assignment, you'll implement the *Asymmetric Distance Computation* (ADC) method, where the database vector $y$ is represented by its encoded version but the query $x$ is not encoded (raw VLAD vector). The distance is then approximated as:\n",
    "\n",
    "$$\n",
    "d(x, y)^2 \\approx \\sum_{i=1}^{m} d(x_i, q_i(y_i))^2\n",
    "$$\n",
    "\n",
    "Note that $q_i(y_i)$ for a vector $y$ is what we have stored in our index. Now write a function called `pq_distance` to compute this approximation:"
   ]
  },
  {
   "cell_type": "code",
   "execution_count": 16,
   "id": "2c450607",
   "metadata": {
    "deletable": false,
    "nbgrader": {
     "cell_type": "code",
     "checksum": "d4e9fc135490e28f1121910bd20f1277",
     "grade": false,
     "grade_id": "cell-85787c85e17adb75",
     "locked": false,
     "schema_version": 3,
     "solution": true,
     "task": false
    }
   },
   "outputs": [],
   "source": [
    "def pq_distance(x, y, quantizers):\n",
    "    '''\n",
    "    Compute an approximated L2 distance between x and y using the ADC method.\n",
    "    \n",
    "    - x: Query VLAD vector represented as a numpy array of size (D, ).\n",
    "    - y: Database vector encoded using PQ with length = m.\n",
    "    - quantizers: A list of m quantizers.\n",
    "        Each one is a numpy array of size (k, D / m), where k and m where\n",
    "        defined during the vocabulary construction.\n",
    "  \n",
    "    RETURNS:\n",
    "    - Approximated L2 distance between x and y\n",
    "    '''\n",
    "    dist = 0.0\n",
    "  \n",
    "    # Number of quantizers\n",
    "    m = len(quantizers)    \n",
    "    \n",
    "    # Centrois for each quantizer\n",
    "    k = quantizers[0].shape[0]\n",
    "    \n",
    "    # Compute the length of the vectors to be used in each quantizer\n",
    "    D = x.shape[0]\n",
    "    d = int(D / m)\n",
    "\n",
    "    # Compute the distance between x and y\n",
    "    for i in range(m):\n",
    "        # Get the part of the VLAD vector to be encoded by the i-th quantizer\n",
    "        x_i = x[i * d : (i + 1) * d].reshape(1, -1)\n",
    "        # Compute the distance between x_i and the centroids of the i-th quantizer\n",
    "        dist += np.linalg.norm(x_i - quantizers[i][y[i]][np.newaxis, :])\n",
    "\n",
    "    return dist"
   ]
  },
  {
   "cell_type": "code",
   "execution_count": 17,
   "id": "03b00f5f",
   "metadata": {
    "deletable": false,
    "editable": false,
    "nbgrader": {
     "cell_type": "code",
     "checksum": "16b7f31d04b05831606b777688db0c9b",
     "grade": true,
     "grade_id": "cell-f4447e1bda362c1e",
     "locked": true,
     "points": 0.3,
     "schema_version": 3,
     "solution": false,
     "task": false
    }
   },
   "outputs": [
    {
     "name": "stdout",
     "output_type": "stream",
     "text": [
      "Query image:  100000.jpg\n",
      "Distances:\n",
      "100001.jpg 2.3625973761081696\n",
      "100002.jpg 3.0250824987888336\n",
      "100101.jpg 3.295232266187668\n",
      "100201.jpg 3.1518564224243164\n",
      "100301.jpg 2.5262057781219482\n",
      "100302.jpg 2.4130211025476456\n",
      "100401.jpg 2.4356082379817963\n",
      "100501.jpg 2.400426223874092\n",
      "100502.jpg 3.0236500203609467\n",
      "100503.jpg 2.449901834130287\n",
      "100601.jpg 3.6764239966869354\n",
      "100701.jpg 3.505732923746109\n",
      "100801.jpg 3.1023896634578705\n",
      "100901.jpg 3.810127377510071\n",
      "100902.jpg 3.8366769552230835\n",
      "101001.jpg 3.652365952730179\n",
      "101101.jpg 3.276282787322998\n",
      "101201.jpg 3.0326527059078217\n",
      "101301.jpg 3.394917994737625\n",
      "101401.jpg 3.5896322429180145\n"
     ]
    }
   ],
   "source": [
    "# Computing the VLAD description of a query image.\n",
    "print('Query image: ', query_names[0])\n",
    "\n",
    "# Computing L2 distance to the first 20 images.\n",
    "print('Distances:')\n",
    "for i in range(20):\n",
    "    train = pq_encode_vector(train_vlad[i], quantizers)\n",
    "    d = pq_distance(query_vlad[0], train, quantizers)\n",
    "    print(train_names[i], str(d))"
   ]
  },
  {
   "cell_type": "markdown",
   "id": "0fd6e7b5",
   "metadata": {
    "deletable": false,
    "editable": false,
    "nbgrader": {
     "cell_type": "markdown",
     "checksum": "5a6793f2b548295a211d960be07eb182",
     "grade": false,
     "grade_id": "cell-64306d0dd7663807",
     "locked": true,
     "schema_version": 3,
     "solution": false,
     "task": false
    }
   },
   "source": [
    "Next, as in other assignmnets, write a function called `search_image` to search a query image in the index:\n",
    "- You have to implement the standard PQ method which computes *sequentially* the L2 distance between the query vector $x$ and all database vectors $y$  and then results are sorted according to their distances.\n",
    "- Remember that to speed up the search process, you can precompute all distances between query subvectors and centroids $d(x_i, c_{i, j})^2$ and stored them in look-up tables, computed for each query descriptor $x$. You are not required to implement this functionality given the small size of our image database, but feel free to implement it if you want and adapt the PQ functions for these purposes."
   ]
  },
  {
   "cell_type": "code",
   "execution_count": 36,
   "id": "7f0c48e7",
   "metadata": {
    "deletable": false,
    "nbgrader": {
     "cell_type": "code",
     "checksum": "23cc808d80cfd282602f25953bcbf935",
     "grade": false,
     "grade_id": "cell-caa776c2069c5a2c",
     "locked": false,
     "schema_version": 3,
     "solution": true,
     "task": false
    }
   },
   "outputs": [],
   "source": [
    "def search_image(desc, index, quantizers, img_names):\n",
    "    '''\n",
    "    Search an image in the index\n",
    "    \n",
    "    - descs: Query VLAD vector represented as a numpy array of size (D, ).\n",
    "    - index: A list where each element i is the encoded version of an image of the database.\n",
    "    - quantizers: A list of m quantizers.\n",
    "        Each one is a numpy array of size (k, D / m), where k and m where\n",
    "        defined during the vocabulary construction.\n",
    "    - img_names: A list of image names to associate each code in 'index' with \n",
    "        its string name in the dataset.\n",
    "  \n",
    "    RETURN:\n",
    "      - An ordered list of similar images, e.g.: ['100101.jpg', '100202.jpg', ...]\n",
    "    '''\n",
    "    # Calculate the distances between the query vector and all images in the index\n",
    "    distances = []\n",
    "    for encoded_img in index:\n",
    "        # Compute the similarity score between the query and the encoded image\n",
    "        distance = pq_distance(desc, encoded_img, quantizers)\n",
    "        distances.append(distance)\n",
    "\n",
    "    # Sort the distances and get the corresponding indices\n",
    "    sorted_indices = np.argsort(distances)\n",
    "\n",
    "    # Retrieve the image names based on the sorted indices\n",
    "    similar_images = []\n",
    "    for i in sorted_indices:\n",
    "        if i < len(img_names):\n",
    "            similar_images.append(img_names[i])\n",
    "\n",
    "    return similar_images"
   ]
  },
  {
   "cell_type": "code",
   "execution_count": 37,
   "id": "1ed3682f",
   "metadata": {
    "deletable": false,
    "editable": false,
    "nbgrader": {
     "cell_type": "code",
     "checksum": "c7a7c6d481bd4d937b597a81615d8546",
     "grade": true,
     "grade_id": "cell-7e98cb52848742ee",
     "locked": true,
     "points": 0.25,
     "schema_version": 3,
     "solution": false,
     "task": false
    }
   },
   "outputs": [
    {
     "name": "stdout",
     "output_type": "stream",
     "text": [
      "['100001.jpg', '100002.jpg']\n"
     ]
    }
   ],
   "source": [
    "# Search an image in the index\n",
    "img_res = search_image(query_vlad[0], index, quantizers, train_names[0:2])\n",
    "print(img_res)"
   ]
  },
  {
   "cell_type": "markdown",
   "id": "1a002f86",
   "metadata": {
    "deletable": false,
    "editable": false,
    "nbgrader": {
     "cell_type": "markdown",
     "checksum": "980c137a75c121919a6bf469c3ee1a43",
     "grade": false,
     "grade_id": "cell-d54a7ad8b26b9409",
     "locked": true,
     "schema_version": 3,
     "solution": false,
     "task": false
    }
   },
   "source": [
    "Finally, as usual, write a function called `compute_mAP` to compute the performance of the system, given a list of query images. This function should return a Python dictionary with the ordered results for each query along with the computed mAP:"
   ]
  },
  {
   "cell_type": "code",
   "execution_count": 38,
   "id": "6eb648dd",
   "metadata": {
    "deletable": false,
    "nbgrader": {
     "cell_type": "code",
     "checksum": "65e99676e1e982ab521f55e355bf9e39",
     "grade": false,
     "grade_id": "cell-691078192e4858d6",
     "locked": false,
     "schema_version": 3,
     "solution": true,
     "task": false
    }
   },
   "outputs": [],
   "source": [
    "def compute_mAP(query_names, query_descs, index, train_names, quantizers):\n",
    "    '''\n",
    "    Perform a search for a list of query images against the database.\n",
    "    \n",
    "    - query_names: An ordered list with the names of query images.\n",
    "    - query_descs: A list containing VLAD vectors of size (D, ) we want to search.\n",
    "        Each element i is a numpy array extracted from the image i.\n",
    "    - index: Index of images to search query descriptors.\n",
    "    - train_names: A list of image names to associate each code in 'index' with \n",
    "        its name in the dataset.    \n",
    "    - quantizers: A list of m quantizers.\n",
    "        Each one is a numpy array of size (k, D / m), where k and m where\n",
    "        defined during the vocabulary construction.\n",
    "  \n",
    "    RETURN:\n",
    "    - total_results: A dictionary containing, for each query image,\n",
    "        an ordered list of the retrieved images.\n",
    "    - m_ap: Mean Average Precision averaged over all queries.\n",
    "    '''\n",
    "    total_results = {}\n",
    "    m_ap = 0.0  \n",
    "    \n",
    "    # Number of quantizers\n",
    "    m = len(quantizers)    \n",
    "    \n",
    "    # Centrois for each quantizer\n",
    "    k = quantizers[0].shape[0]\n",
    "\n",
    "    # Compute the distance between x and y\n",
    "    for i in range(len(query_descs)):\n",
    "        # Get the part of the VLAD vector to be encoded by the i-th quantizer\n",
    "        query_i = query_descs[i]\n",
    "        # Compute the distance between x_i and the centroids of the i-th quantizer\n",
    "        img_res = search_image(query_i, index, quantizers, train_names)\n",
    "        total_results[query_names[i]] = img_res\n",
    "    \n",
    "    m_ap = ev.compute_mAP(total_results, gt_file='../holidays/holidays_images.dat')\n",
    "\n",
    "    return total_results, m_ap "
   ]
  },
  {
   "cell_type": "code",
   "execution_count": 39,
   "id": "5b33ef09",
   "metadata": {
    "deletable": false,
    "editable": false,
    "nbgrader": {
     "cell_type": "code",
     "checksum": "a18349071c795ecffbc8401689be11c2",
     "grade": true,
     "grade_id": "cell-33af834e8f213922",
     "locked": true,
     "points": 0.15,
     "schema_version": 3,
     "solution": false,
     "task": false
    }
   },
   "outputs": [
    {
     "name": "stdout",
     "output_type": "stream",
     "text": [
      "['100001.jpg', '100002.jpg']\n",
      "['100001.jpg', '100002.jpg']\n",
      "0.002\n"
     ]
    }
   ],
   "source": [
    "# Example of computing mAP\n",
    "results, mAP = compute_mAP(query_names, query_vlad, index, train_names[0:2], quantizers)\n",
    "print(results['100000.jpg'])\n",
    "print(results['100100.jpg'])\n",
    "print(mAP) # This should be close to 0 now, since there is only two images in the database."
   ]
  },
  {
   "cell_type": "markdown",
   "id": "b9faaadc",
   "metadata": {
    "deletable": false,
    "editable": false,
    "nbgrader": {
     "cell_type": "markdown",
     "checksum": "3bfdc23166645dba75eada4dde824930",
     "grade": false,
     "grade_id": "cell-307ceb07e3b7ecdf",
     "locked": true,
     "schema_version": 3,
     "solution": false,
     "task": false
    }
   },
   "source": [
    "**Q1**: In the following cell compute the resulting mAP of the system **for each of the three vocabularies provided (16c, 32c, 64c),** using $m$ = 8 and $k$ = 256. Train the quantizers using VLAD descriptors of the train images. Note that an independent and larger dataset here will be better, but for simplicity, we use the same images we want to index."
   ]
  },
  {
   "cell_type": "code",
   "execution_count": 40,
   "id": "431222d4",
   "metadata": {},
   "outputs": [],
   "source": [
    "import time\n",
    "\n",
    "# Fill these variables with the resulting mAP\n",
    "mAP_16c = 0.0\n",
    "mAP_32c = 0.0\n",
    "mAP_64c = 0.0\n",
    "\n",
    "# YOUR CODE HERE\n",
    "vocab_16c = np.load('../vocabs/sift_16c.npy')\n",
    "vocab_32c = np.load('../vocabs/sift_32c.npy')\n",
    "vocab_64c = np.load('../vocabs/sift_64c.npy')\n",
    "\n",
    "# Measure training times\n",
    "start_time = time.time()\n",
    "query_vlad_16c = describe_images_VLAD(query_desc, vocab_16c)\n",
    "train_vlad_16c = describe_images_VLAD(train_desc, vocab_16c)\n",
    "quantizers_16c = pq_build_quantizers(train_vlad_16c, m=8, k=256)\n",
    "index_16c = pq_build_index(train_vlad_16c, quantizers_16c)\n",
    "training_time_16c = time.time() - start_time\n",
    "\n",
    "start_time = time.time()\n",
    "query_vlad_32c = describe_images_VLAD(query_desc, vocab_32c)\n",
    "train_vlad_32c = describe_images_VLAD(train_desc, vocab_32c)\n",
    "quantizers_32c = pq_build_quantizers(train_vlad_32c, m=8, k=256)\n",
    "index_32c = pq_build_index(train_vlad_32c, quantizers_32c)\n",
    "training_time_32c = time.time() - start_time\n",
    "\n",
    "start_time = time.time()\n",
    "query_vlad_64c = describe_images_VLAD(query_desc, vocab_64c)\n",
    "train_vlad_64c = describe_images_VLAD(train_desc, vocab_64c)\n",
    "quantizers_64c = pq_build_quantizers(train_vlad_64c, m=8, k=256)\n",
    "index_64c = pq_build_index(train_vlad_64c, quantizers_64c)\n",
    "training_time_64c = time.time() - start_time"
   ]
  },
  {
   "cell_type": "code",
   "execution_count": 41,
   "id": "817563b4",
   "metadata": {},
   "outputs": [],
   "source": [
    "# Measure query times and mAP\n",
    "start_time = time.time()\n",
    "results_16c, mAP_16c = compute_mAP(query_names, query_vlad_16c, index_16c, train_names, quantizers_16c)\n",
    "query_time_16c = time.time() - start_time\n",
    "\n",
    "start_time = time.time()\n",
    "results_32c, mAP_32c = compute_mAP(query_names, query_vlad_32c, index_32c, train_names, quantizers_32c)\n",
    "query_time_32c = time.time() - start_time\n",
    "\n",
    "start_time = time.time()\n",
    "results_64c, mAP_64c = compute_mAP(query_names, query_vlad_64c, index_64c, train_names, quantizers_64c)\n",
    "query_time_64c = time.time() - start_time"
   ]
  },
  {
   "cell_type": "code",
   "execution_count": 42,
   "id": "604f78dd",
   "metadata": {
    "deletable": false,
    "nbgrader": {
     "cell_type": "code",
     "checksum": "21d8fc82c59355ed16c03ee068577e11",
     "grade": false,
     "grade_id": "cell-85a7e3a3a8e6a73d",
     "locked": false,
     "schema_version": 3,
     "solution": true,
     "task": false
    }
   },
   "outputs": [
    {
     "name": "stdout",
     "output_type": "stream",
     "text": [
      "Training time for 16 clusters: 2.7640769481658936 seconds\n",
      "Training time for 32 clusters: 4.377439022064209 seconds\n",
      "Training time for 64 clusters: 10.030165910720825 seconds\n",
      "Query time for 16 clusters: 40.18039107322693 seconds\n",
      "Query time for 32 clusters: 40.704360008239746 seconds\n",
      "Query time for 64 clusters: 43.33084797859192 seconds\n"
     ]
    }
   ],
   "source": [
    "# Compare training times\n",
    "print(f\"Training time for 16 clusters: {training_time_16c} seconds\")\n",
    "print(f\"Training time for 32 clusters: {training_time_32c} seconds\")\n",
    "print(f\"Training time for 64 clusters: {training_time_64c} seconds\")\n",
    "\n",
    "# Compare query times\n",
    "print(f\"Query time for 16 clusters: {query_time_16c} seconds\")\n",
    "print(f\"Query time for 32 clusters: {query_time_32c} seconds\")\n",
    "print(f\"Query time for 64 clusters: {query_time_64c} seconds\")"
   ]
  },
  {
   "cell_type": "code",
   "execution_count": 43,
   "id": "0eceab37",
   "metadata": {
    "deletable": false,
    "editable": false,
    "nbgrader": {
     "cell_type": "code",
     "checksum": "dcdf97a1ef1d47299181c23bb0f4ab59",
     "grade": true,
     "grade_id": "cell-70e62b6812f4f3b4",
     "locked": true,
     "points": 1,
     "schema_version": 3,
     "solution": false,
     "task": false
    }
   },
   "outputs": [
    {
     "name": "stdout",
     "output_type": "stream",
     "text": [
      "mAP 16c: 0.37118\n",
      "mAP 32c: 0.36184\n",
      "mAP 64c: 0.33106\n"
     ]
    }
   ],
   "source": [
    "print('mAP 16c: %.5f' % mAP_16c)\n",
    "print('mAP 32c: %.5f' % mAP_32c)\n",
    "print('mAP 64c: %.5f' % mAP_64c)"
   ]
  },
  {
   "cell_type": "markdown",
   "id": "92d502d6",
   "metadata": {
    "deletable": false,
    "editable": false,
    "nbgrader": {
     "cell_type": "markdown",
     "checksum": "5a767f4db5eeda93007fdd7d05f82b75",
     "grade": false,
     "grade_id": "cell-0f3403464b36441c",
     "locked": true,
     "schema_version": 3,
     "solution": false,
     "task": false
    }
   },
   "source": [
    "**Q2**: Compare the performances obtained on each case. Is a larger vocabulary size always better? Why or why not?"
   ]
  },
  {
   "cell_type": "markdown",
   "id": "6ef2c22a",
   "metadata": {
    "deletable": false,
    "editable": false,
    "nbgrader": {
     "cell_type": "markdown",
     "checksum": "b14bee47354fc5eeb4d8956df246f42c",
     "grade": false,
     "grade_id": "cell-d810cafd17e8be3c",
     "locked": true,
     "points": 0.75,
     "schema_version": 3,
     "solution": false,
     "task": true
    }
   },
   "source": [
    "Write here the code required to answer the questions stated above. You can add more cells (code / markdown) at this point if you need it."
   ]
  },
  {
   "cell_type": "markdown",
   "id": "d9a2e08d",
   "metadata": {},
   "source": [
    "When comparing the performances obtained for each case, we can see that a larger vocabulary size does not always guarantee better performance. In this specific scenario, the mAP decreases as the vocabulary size increases.\n",
    "\n",
    "The reason behind this is that a larger vocabulary size can lead to overfitting. With a larger number of visual words, the model becomes more specific and less generalizable. It can capture more intricate details of the training data, which may not be present in the test or query data. As a result, the model's ability to match and retrieve relevant images decreases, leading to a lower mAP."
   ]
  },
  {
   "cell_type": "markdown",
   "id": "6494b291",
   "metadata": {},
   "source": [
    "A smaller vocabulary size reduces the dimensionality of the feature space. By using fewer clusters, the resulting VLAD vectors have lower dimensionality, which can help alleviate the curse of dimensionality. The reduced dimensionality may have improved the discriminative power of the descriptors and made them more suitable for retrieval tasks. Another reasson why smaller vocab is better is Noise Reduction. With a smaller vocabulary size, each cluster represents a larger region of the feature space. This increased spatial coverage can help in reducing the impact of noise or outliers in the descriptors. The smaller vocabulary size may have filtered out some irrelevant or noisy descriptors, leading to improved performance. Also for Computational Efficiency, smaller vocabulary sizes require less computational resources during both training and querying. The reduced computational complexity may have allowed for more accurate and precise computations, leading to better performance."
   ]
  },
  {
   "cell_type": "code",
   "execution_count": 26,
   "id": "ad3e73f5",
   "metadata": {},
   "outputs": [
    {
     "data": {
      "image/png": "[encoded data removed]",
      "text/plain": [
       "<Figure size 1200x400 with 2 Axes>"
      ]
     },
     "metadata": {},
     "output_type": "display_data"
    }
   ],
   "source": [
    "# Compare training times\n",
    "training_times = [training_time_16c, training_time_32c, training_time_64c]\n",
    "vocabulary_sizes = [16, 32, 64]\n",
    "\n",
    "# Customize the bar chart for training times\n",
    "plt.figure(figsize=(12, 4))  # Adjust the figure size\n",
    "\n",
    "# Subplot for training times\n",
    "plt.subplot(1, 2, 1)  # Create a subplot for training times\n",
    "plt.bar(vocabulary_sizes, training_times, color='skyblue', edgecolor='black')\n",
    "plt.xlabel('Vocabulary Size', fontsize=12)  # Customize x-axis label and fontsize\n",
    "plt.ylabel('Training Time (seconds)', fontsize=12)  # Customize y-axis label and fontsize\n",
    "plt.title('Training Times', fontsize=14)  # Customize title and fontsize\n",
    "plt.xticks(vocabulary_sizes, fontsize=10)  # Customize x-axis tick labels fontsize\n",
    "plt.yticks(fontsize=10)  # Customize y-axis tick labels fontsize\n",
    "plt.grid(axis='y', linestyle='--')  # Add grid lines\n",
    "\n",
    "# Compare query times\n",
    "query_times = [query_time_16c, query_time_32c, query_time_64c]\n",
    "\n",
    "# Subplot for query times\n",
    "plt.subplot(1, 2, 2)  # Create a subplot for query times\n",
    "plt.bar(vocabulary_sizes, query_times, color='lightgreen', edgecolor='black')\n",
    "plt.xlabel('Vocabulary Size', fontsize=12)  # Customize x-axis label and fontsize\n",
    "plt.ylabel('Query Time (seconds)', fontsize=12)  # Customize y-axis label and fontsize\n",
    "plt.title('Query Times', fontsize=14)  # Customize title and fontsize\n",
    "plt.xticks(vocabulary_sizes, fontsize=10)  # Customize x-axis tick labels fontsize\n",
    "plt.yticks(fontsize=10)  # Customize y-axis tick labels fontsize\n",
    "plt.grid(axis='y', linestyle='--')  # Add grid lines\n",
    "\n",
    "# Adjust the spacing between subplots\n",
    "plt.tight_layout()\n",
    "\n",
    "# Show the plots\n",
    "plt.show()\n"
   ]
  },
  {
   "cell_type": "markdown",
   "id": "d740ef5f",
   "metadata": {
    "deletable": false,
    "editable": false,
    "nbgrader": {
     "cell_type": "markdown",
     "checksum": "f2abcbba2c734ac68474b1a9d07135dd",
     "grade": false,
     "grade_id": "cell-32d94270b9a99f2c",
     "locked": true,
     "schema_version": 3,
     "solution": false,
     "task": false
    }
   },
   "source": [
    "**Q3**: Using the vocabulary which achieves the best performance in the previous point, analyze the effects of changing the parameters $m$ and $k$ in terms of mAP (always use multiples of 8). Some plots here can be useful to justify your answer. What about times (training and testing)? Do they vary?"
   ]
  },
  {
   "cell_type": "markdown",
   "id": "88e63187",
   "metadata": {
    "deletable": false,
    "editable": false,
    "nbgrader": {
     "cell_type": "markdown",
     "checksum": "08843a567938c1d6852147e2506bce79",
     "grade": false,
     "grade_id": "cell-396f1cf0f08478bc",
     "locked": true,
     "points": 1.5,
     "schema_version": 3,
     "solution": false,
     "task": true
    }
   },
   "source": [
    "Write here the code required to answer the questions stated above. You can add more cells (code / markdown) at this point if you need it."
   ]
  },
  {
   "cell_type": "markdown",
   "id": "219073be",
   "metadata": {},
   "source": [
    "**Effect of m value on training time:**\n",
    "The parameter m represents the number of quantizers used in the training process, with each quantizer being trained using vectors of length D / m. As we increase the value of m, the training time generally increases. This is because a higher number of quantizers requires training each quantizer separately. Training each quantizer involves performing computations such as clustering and centroid calculation. With more quantizers, the overall training process becomes more time-consuming as each quantizer needs to be trained sequentially. However, the relationship between m and training time is not strictly proportional."
   ]
  },
  {
   "cell_type": "markdown",
   "id": "cd3862c1",
   "metadata": {},
   "source": [
    "**Effect of k value on training time:**\n",
    "The parameter k represents the number of centroids (visual words) computed for each of the m quantizers. Similar to the effect of m, increasing the value of k generally leads to an increase in training time. With a larger number of centroids, the clustering algorithm needs to process more data points and perform more computations. The training process involves assigning data points to their nearest centroids and updating the centroids iteratively. As the number of centroids increases, the algorithm needs to process and update more centroids, resulting in increased training time."
   ]
  },
  {
   "cell_type": "markdown",
   "id": "fd0c8c9d",
   "metadata": {},
   "source": [
    "**Trade-off between m, k, and training time:**\n",
    "It is important to consider the trade-off between the parameter values (m and k) and the associated training time. Increasing both m and k generally improves the performance in terms of mAP by providing a more expressive vocabulary. However, this improvement in performance comes at the cost of increased training time. As the number of quantizers and centroids increases, the training process becomes more computationally intensive. "
   ]
  },
  {
   "cell_type": "markdown",
   "id": "c93c461d",
   "metadata": {},
   "source": [
    "**Effect of m value on mAP:**\n",
    "When we increase the value of m, we are essentially increasing the granularity of the quantization. This can potentially improve the discriminative power of the resulting visual words, leading to better performance in terms of mAP. With a higher number of quantizers, the vocabulary becomes more expressive, allowing for finer distinctions between visual patterns. As a result, the retrieval system may be able to better capture the semantic similarities between images, leading to higher mAP values."
   ]
  },
  {
   "cell_type": "markdown",
   "id": "4bf52a8c",
   "metadata": {},
   "source": [
    "**Effect of k value on mAP:**\n",
    "Increasing the value of k essentially increases the size of the vocabulary. A larger vocabulary provides more diverse visual words, allowing for a richer representation of image features. This increased diversity can lead to improved discrimination and a better ability to differentiate between images during retrieval. Consequently, increasing the value of k can positively impact mAP values by providing a more comprehensive representation of the visual patterns in the dataset."
   ]
  },
  {
   "cell_type": "markdown",
   "id": "24b62e80",
   "metadata": {},
   "source": [
    "**Trade-off between m, k, and mAP:**\n",
    "There is a trade-off between the parameter values m and ) and their impact on mAP. As mentioned earlier, increasing both m and k generally improves mAP by enhancing the expressiveness and discriminative power of the vocabulary. However, this improvement comes at the cost of increased computational complexity and potentially longer retrieval times."
   ]
  },
  {
   "cell_type": "markdown",
   "id": "8688335c",
   "metadata": {},
   "source": [
    "m value effect"
   ]
  },
  {
   "cell_type": "code",
   "execution_count": 27,
   "id": "2b9b737b",
   "metadata": {},
   "outputs": [
    {
     "name": "stdout",
     "output_type": "stream",
     "text": [
      "mAP 16c: 0.37725\n",
      "Training time for 8 clusters: 0.298 seconds\n",
      "Query time for 8 clusters: 1.747 seconds\n",
      "\n",
      "mAP 16c: 0.39723\n",
      "Training time for 16 clusters: 0.317 seconds\n",
      "Query time for 16 clusters: 1.421 seconds\n",
      "\n",
      "mAP 16c: 0.40595\n",
      "Training time for 24 clusters: 0.427 seconds\n",
      "Query time for 24 clusters: 1.612 seconds\n",
      "\n"
     ]
    }
   ],
   "source": [
    "# Variables to store results\n",
    "m_values = [8, 16, 24]\n",
    "mAP_values = []\n",
    "training_times = []\n",
    "query_times = []\n",
    "\n",
    "# Fix k to a constant value\n",
    "k = 256\n",
    "\n",
    "# Load the fixed vocabulary\n",
    "vocab = np.load('../vocabs/sift_16c.npy')\n",
    "\n",
    "for m in m_values:\n",
    "    # Describe images using VLAD with fixed vocabulary\n",
    "    query_vlad = describe_images_VLAD(query_desc, vocab)\n",
    "    train_vlad = describe_images_VLAD(train_desc, vocab)\n",
    "\n",
    "    # Measure training time\n",
    "    start_time = time.time()\n",
    "    quantizers = pq_build_quantizers(train_vlad, m=m, k=k)\n",
    "    training_time = time.time() - start_time\n",
    "\n",
    "    # Measure query time\n",
    "    start_time = time.time()\n",
    "    index = pq_build_index(train_vlad, quantizers)\n",
    "    query_time = time.time() - start_time\n",
    "\n",
    "    # Measure mAP\n",
    "    _, mAP = compute_mAP(query_names, query_vlad, index, train_names, quantizers)\n",
    "\n",
    "    # Store results\n",
    "    mAP_values.append(mAP)\n",
    "    training_times.append(training_time)\n",
    "    query_times.append(query_time)\n",
    "    \n",
    "    # Print the results\n",
    "    print(f\"mAP 16c: {mAP:.5f}\")\n",
    "    print(f\"Training time for {m} clusters: {training_time:.3f} seconds\")\n",
    "    print(f\"Query time for {m} clusters: {query_time:.3f} seconds\")\n",
    "    print()\n"
   ]
  },
  {
   "cell_type": "code",
   "execution_count": 28,
   "id": "45299e79",
   "metadata": {},
   "outputs": [
    {
     "data": {
      "image/png": "[encoded data removed]",
      "text/plain": [
       "<Figure size 1200x400 with 3 Axes>"
      ]
     },
     "metadata": {},
     "output_type": "display_data"
    }
   ],
   "source": [
    "# Create subplots for mAP, training times, and query times\n",
    "fig, axs = plt.subplots(1, 3, figsize=(12, 4))\n",
    "\n",
    "# Plot mAP values\n",
    "axs[0].plot(m_values, mAP_values, marker='o')\n",
    "axs[0].set_xlabel('m Values')\n",
    "axs[0].set_ylabel('mAP')\n",
    "axs[0].set_title('Effect of m Values on mAP')\n",
    "\n",
    "# Plot training times\n",
    "axs[1].plot(m_values, training_times, marker='o')\n",
    "axs[1].set_xlabel('m Values')\n",
    "axs[1].set_ylabel('Training Time (seconds)')\n",
    "axs[1].set_title('Effect of m Values on Training Time')\n",
    "\n",
    "# Plot query times\n",
    "axs[2].plot(m_values, query_times, marker='o')\n",
    "axs[2].set_xlabel('m Values')\n",
    "axs[2].set_ylabel('Query Time (seconds)')\n",
    "axs[2].set_title('Effect of m Values on Query Time')\n",
    "\n",
    "# Adjust the spacing between subplots\n",
    "plt.tight_layout()\n",
    "\n",
    "# Show the plots\n",
    "plt.show()"
   ]
  },
  {
   "cell_type": "markdown",
   "id": "29140ffe",
   "metadata": {},
   "source": [
    "k value effect"
   ]
  },
  {
   "cell_type": "code",
   "execution_count": 29,
   "id": "39f92c08",
   "metadata": {},
   "outputs": [
    {
     "name": "stdout",
     "output_type": "stream",
     "text": [
      "mAP 16c with k=128: 0.38601\n",
      "Training time for k=128: 0.214 seconds\n",
      "Query time for k=128: 0.925 seconds\n",
      "\n",
      "mAP 16c with k=256: 0.39324\n",
      "Training time for k=256: 0.322 seconds\n",
      "Query time for k=256: 1.424 seconds\n",
      "\n",
      "mAP 16c with k=512: 0.40085\n",
      "Training time for k=512: 0.582 seconds\n",
      "Query time for k=512: 2.524 seconds\n",
      "\n"
     ]
    }
   ],
   "source": [
    "# Variables to store results\n",
    "k_values = [128, 256, 512]\n",
    "mAP_values = []\n",
    "training_times = []\n",
    "query_times = []\n",
    "\n",
    "# Fix m to a constant value\n",
    "m = 16\n",
    "\n",
    "# Load the fixed vocabulary\n",
    "vocab = np.load('../vocabs/sift_16c.npy')\n",
    "\n",
    "for k in k_values:\n",
    "    # Describe images using VLAD with fixed vocabulary\n",
    "    query_vlad = describe_images_VLAD(query_desc, vocab)\n",
    "    train_vlad = describe_images_VLAD(train_desc, vocab)\n",
    "\n",
    "    # Measure training time\n",
    "    start_time = time.time()\n",
    "    quantizers = pq_build_quantizers(train_vlad, m=m, k=k)\n",
    "    training_time = time.time() - start_time\n",
    "\n",
    "    # Measure query time\n",
    "    start_time = time.time()\n",
    "    index = pq_build_index(train_vlad, quantizers)\n",
    "    query_time = time.time() - start_time\n",
    "\n",
    "    # Measure mAP\n",
    "    _, mAP = compute_mAP(query_names, query_vlad, index, train_names, quantizers)\n",
    "\n",
    "    # Store results\n",
    "    mAP_values.append(mAP)\n",
    "    training_times.append(training_time)\n",
    "    query_times.append(query_time)\n",
    "    \n",
    "    # Print the results\n",
    "    print(f\"mAP 16c with k={k}: {mAP:.5f}\")\n",
    "    print(f\"Training time for k={k}: {training_time:.3f} seconds\")\n",
    "    print(f\"Query time for k={k}: {query_time:.3f} seconds\")\n",
    "    print()\n",
    "\n"
   ]
  },
  {
   "cell_type": "code",
   "execution_count": 30,
   "id": "e340b540",
   "metadata": {},
   "outputs": [
    {
     "data": {
      "image/png": "[encoded data removed]",
      "text/plain": [
       "<Figure size 1200x400 with 3 Axes>"
      ]
     },
     "metadata": {},
     "output_type": "display_data"
    }
   ],
   "source": [
    "fig, axs = plt.subplots(1, 3, figsize=(12, 4))\n",
    "\n",
    "# Plot mAP values\n",
    "axs[0].plot(k_values, mAP_values, marker='o')\n",
    "axs[0].set_xlabel('k Values')\n",
    "axs[0].set_ylabel('mAP')\n",
    "axs[0].set_title('Effect of k Values on mAP')\n",
    "\n",
    "# Plot training times\n",
    "axs[1].plot(k_values, training_times, marker='o')\n",
    "axs[1].set_xlabel('k Values')\n",
    "axs[1].set_ylabel('Training Time (seconds)')\n",
    "axs[1].set_title('Effect of k Values on Training Time')\n",
    "\n",
    "# Plot query times\n",
    "axs[2].plot(k_values, query_times, marker='o')\n",
    "axs[2].set_xlabel('k Values')\n",
    "axs[2].set_ylabel('Query Time (seconds)')\n",
    "axs[2].set_title('Effect of k Values on Query Time')\n",
    "\n",
    "# Adjust the spacing between subplots\n",
    "plt.tight_layout()\n",
    "\n",
    "# Show the plots\n",
    "plt.show()"
   ]
  },
  {
   "cell_type": "markdown",
   "id": "110989f3",
   "metadata": {
    "deletable": false,
    "editable": false,
    "nbgrader": {
     "cell_type": "markdown",
     "checksum": "914e7ce38c68df2f1d42b96a3161f356",
     "grade": false,
     "grade_id": "cell-e1815efcc59b5e7e",
     "locked": true,
     "schema_version": 3,
     "solution": false,
     "task": false
    }
   },
   "source": [
    "## Search Reranking\n",
    "---\n",
    "As a final step, you will play with a *Relevance Feedback* method. More precisely, you will write the required code to implement the **Ide Dec-Hi** algorithm. Remember that it is a simple variant of the Rocchio algorithm where only one non-relevant result is employed.\n",
    "\n",
    "First, to implement this method, we need a way to classify an initial set of results in *relevant* and *non-relevant* for a given query. As we saw, in computer vision, this is typically carried out using geometric spatial verificacion techniques. However, in this assignment, for simplicity and to speed up the execution, we will make use of the following function that separates a list of results in *relevant* and *non-relevant* using just the name of the images:"
   ]
  },
  {
   "cell_type": "code",
   "execution_count": 20,
   "id": "c40a0328",
   "metadata": {
    "deletable": false,
    "editable": false,
    "nbgrader": {
     "cell_type": "code",
     "checksum": "bd323431de43518d74858858ac45e6f4",
     "grade": false,
     "grade_id": "cell-754b3925da92dc84",
     "locked": true,
     "schema_version": 3,
     "solution": false,
     "task": false
    }
   },
   "outputs": [],
   "source": [
    "def validate_results(query_name, list_of_results):\n",
    "    '''\n",
    "    Separate a result list into relevant and non-relevant results.\n",
    "    \n",
    "    - query_name: Name of the query image.\n",
    "    - list_of_results: An ordered list of similar images following the format\n",
    "        returned by the 'search_image' function.\n",
    "  \n",
    "    RETURN:\n",
    "    - relevant: An ordered list of relevant images in list_of_results.\n",
    "    - non-relevant: An ordered list of non-relevant images in list_of_results.\n",
    "    '''\n",
    "  \n",
    "    relevant = []\n",
    "    non_relevant = []\n",
    "      \n",
    "    q_imno = int(query_name[:-len(\".jpg\")])\n",
    "  \n",
    "    for res in list_of_results:\n",
    "        t_imno = int(res[:-len(\".jpg\")])\n",
    "        if np.abs(t_imno - q_imno) < 10:\n",
    "            relevant.append(res)\n",
    "        else:\n",
    "            non_relevant.append(res)\n",
    "  \n",
    "    return relevant, non_relevant"
   ]
  },
  {
   "cell_type": "markdown",
   "id": "3e1f715f",
   "metadata": {
    "deletable": false,
    "editable": false,
    "nbgrader": {
     "cell_type": "markdown",
     "checksum": "0630a72f4bdda22ed4f2ed7d2a37870b",
     "grade": false,
     "grade_id": "cell-73fc09912978f2d8",
     "locked": true,
     "schema_version": 3,
     "solution": false,
     "task": false
    }
   },
   "source": [
    "Check the function using the following code:"
   ]
  },
  {
   "cell_type": "code",
   "execution_count": 21,
   "id": "92157907",
   "metadata": {
    "deletable": false,
    "editable": false,
    "nbgrader": {
     "cell_type": "code",
     "checksum": "862332f43a8c0a89a45aeec0373034be",
     "grade": false,
     "grade_id": "cell-a534a0b74909bd53",
     "locked": true,
     "schema_version": 3,
     "solution": false,
     "task": false
    }
   },
   "outputs": [
    {
     "name": "stdout",
     "output_type": "stream",
     "text": [
      "100500.jpg\n",
      "['100503.jpg', '136703.jpg', '100501.jpg', '100401.jpg', '133202.jpg', '127801.jpg', '128001.jpg', '133201.jpg', '112403.jpg', '117601.jpg', '131101.jpg', '102401.jpg', '120201.jpg', '136901.jpg', '148202.jpg', '125601.jpg', '102402.jpg', '104801.jpg', '131102.jpg', '127301.jpg', '100301.jpg', '112101.jpg', '147303.jpg', '126301.jpg', '100302.jpg', '112501.jpg', '112404.jpg', '135001.jpg', '144801.jpg', '135701.jpg', '140201.jpg', '146502.jpg', '128002.jpg', '137103.jpg', '130301.jpg', '113701.jpg', '103901.jpg', '103101.jpg', '136702.jpg', '120401.jpg', '109402.jpg', '112402.jpg', '129001.jpg', '102601.jpg', '136903.jpg', '120301.jpg', '111701.jpg', '129601.jpg', '138012.jpg', '129002.jpg', '139801.jpg', '143901.jpg', '118202.jpg', '103302.jpg', '106301.jpg', '129602.jpg', '112201.jpg', '135003.jpg', '120101.jpg', '147701.jpg', '133501.jpg', '117802.jpg', '136902.jpg', '103601.jpg', '137102.jpg', '147401.jpg', '112301.jpg', '136002.jpg', '106401.jpg', '136707.jpg', '100001.jpg', '116703.jpg', '114601.jpg', '145401.jpg', '130401.jpg', '133301.jpg', '131601.jpg', '117302.jpg', '139901.jpg', '148201.jpg', '109501.jpg', '111801.jpg', '135802.jpg', '118601.jpg', '106801.jpg', '127101.jpg', '123801.jpg', '107001.jpg', '126002.jpg', '125802.jpg', '125801.jpg', '136802.jpg', '148603.jpg', '126101.jpg', '131603.jpg', '111301.jpg', '131602.jpg', '134201.jpg', '104701.jpg', '136804.jpg', '108101.jpg', '132001.jpg', '115301.jpg', '104901.jpg', '134605.jpg', '144803.jpg', '111401.jpg', '128801.jpg', '109401.jpg', '130701.jpg', '147702.jpg', '107101.jpg', '123602.jpg', '110201.jpg', '134603.jpg', '113601.jpg', '135601.jpg', '135901.jpg', '114801.jpg', '110301.jpg', '146901.jpg', '111201.jpg', '136701.jpg', '117901.jpg', '116803.jpg', '119501.jpg', '126001.jpg', '140601.jpg', '111702.jpg', '138004.jpg', '118501.jpg', '111703.jpg', '134604.jpg', '122203.jpg', '126102.jpg', '135801.jpg', '141703.jpg', '143301.jpg', '102501.jpg', '131201.jpg', '147302.jpg', '136505.jpg', '126202.jpg', '136503.jpg', '100201.jpg', '112405.jpg', '140801.jpg', '136601.jpg', '118201.jpg', '102301.jpg', '144901.jpg', '100502.jpg', '116201.jpg', '108201.jpg', '116101.jpg', '103902.jpg', '103102.jpg', '148301.jpg', '114201.jpg', '144902.jpg', '127802.jpg', '104401.jpg', '146002.jpg', '135103.jpg', '109601.jpg', '147304.jpg', '135002.jpg', '138005.jpg', '145402.jpg', '117402.jpg', '129003.jpg', '148002.jpg', '107202.jpg', '144903.jpg', '110302.jpg', '149302.jpg', '126801.jpg', '108902.jpg', '136003.jpg', '102303.jpg', '120501.jpg', '133801.jpg', '133602.jpg', '116901.jpg', '128502.jpg', '147502.jpg', '144802.jpg', '148101.jpg', '138009.jpg', '144702.jpg', '106403.jpg', '104502.jpg', '116301.jpg', '146501.jpg', '130901.jpg', '123402.jpg', '130601.jpg', '136101.jpg', '137801.jpg', '104902.jpg', '129201.jpg', '103401.jpg', '112302.jpg', '146201.jpg', '105901.jpg', '104501.jpg', '136504.jpg', '137002.jpg', '138010.jpg', '123601.jpg', '149001.jpg', '127701.jpg', '147301.jpg', '113501.jpg', '143903.jpg', '143902.jpg', '112407.jpg', '146101.jpg', '133601.jpg', '146001.jpg', '122401.jpg', '138105.jpg', '145201.jpg', '121501.jpg', '138003.jpg', '107902.jpg', '103801.jpg', '115801.jpg', '107201.jpg', '148001.jpg', '146701.jpg', '146102.jpg', '105301.jpg', '146801.jpg', '112406.jpg', '136009.jpg', '123204.jpg', '136801.jpg', '147602.jpg', '137001.jpg', '137802.jpg', '138605.jpg', '117401.jpg', '103301.jpg', '118101.jpg', '114901.jpg', '134802.jpg', '122706.jpg', '146404.jpg', '122703.jpg', '146207.jpg', '128501.jpg', '101702.jpg', '146402.jpg', '121001.jpg', '119901.jpg', '111901.jpg', '104203.jpg', '107401.jpg', '135702.jpg', '131802.jpg', '123401.jpg', '147402.jpg', '119601.jpg', '103201.jpg', '134504.jpg', '126804.jpg', '137101.jpg', '105104.jpg', '143001.jpg', '110101.jpg', '138001.jpg', '138401.jpg', '122702.jpg', '103501.jpg', '102101.jpg', '121101.jpg', '132901.jpg', '137006.jpg', '119401.jpg', '131001.jpg', '149401.jpg', '135301.jpg', '105201.jpg', '134503.jpg', '123205.jpg', '108601.jpg', '119301.jpg', '148701.jpg', '109801.jpg', '139102.jpg', '138011.jpg', '136201.jpg', '104802.jpg', '136007.jpg', '100002.jpg', '134801.jpg', '123101.jpg', '130801.jpg', '105103.jpg', '107701.jpg', '108202.jpg', '124301.jpg', '123201.jpg', '118002.jpg', '129801.jpg', '116601.jpg', '117301.jpg', '119001.jpg', '118001.jpg', '116801.jpg', '117403.jpg', '124202.jpg', '106501.jpg', '136805.jpg', '113201.jpg', '101402.jpg', '146203.jpg', '108501.jpg', '145901.jpg', '111501.jpg', '134402.jpg', '142101.jpg', '116401.jpg', '133401.jpg', '133901.jpg', '133101.jpg', '136008.jpg', '118901.jpg', '122701.jpg', '147801.jpg', '136704.jpg', '140901.jpg', '137007.jpg', '135302.jpg', '132402.jpg', '144704.jpg', '144804.jpg', '139701.jpg', '138303.jpg', '130201.jpg', '119203.jpg', '129802.jpg', '116802.jpg', '136010.jpg', '132201.jpg', '107203.jpg', '108901.jpg', '111601.jpg', '142701.jpg', '144301.jpg', '138002.jpg', '124201.jpg', '139005.jpg', '118301.jpg', '145101.jpg', '107901.jpg', '149602.jpg', '149101.jpg', '115201.jpg', '108203.jpg', '147501.jpg', '122709.jpg', '116002.jpg', '136502.jpg', '132801.jpg', '136004.jpg', '119602.jpg', '132401.jpg', '147603.jpg', '133802.jpg', '134501.jpg', '141501.jpg', '141601.jpg', '144701.jpg', '109701.jpg', '136803.jpg', '140802.jpg', '136203.jpg', '128401.jpg', '123901.jpg', '114503.jpg', '114903.jpg', '108701.jpg', '136301.jpg', '133701.jpg', '118302.jpg', '119202.jpg', '116402.jpg', '147103.jpg', '134403.jpg', '101201.jpg', '149604.jpg', '105001.jpg', '124701.jpg', '113301.jpg', '132902.jpg', '147201.jpg', '102302.jpg', '124802.jpg', '130303.jpg', '107601.jpg', '149201.jpg', '135703.jpg', '117501.jpg', '123501.jpg', '149501.jpg', '106602.jpg', '110802.jpg', '101701.jpg', '138008.jpg', '136005.jpg', '124101.jpg', '118003.jpg', '116501.jpg', '135104.jpg', '135101.jpg', '116001.jpg', '111001.jpg', '130102.jpg', '126805.jpg', '137601.jpg', '137703.jpg', '133702.jpg', '121901.jpg', '141704.jpg', '122708.jpg', '109802.jpg', '143601.jpg', '134703.jpg', '134701.jpg', '101101.jpg', '112001.jpg', '112601.jpg', '114301.jpg', '135503.jpg', '143201.jpg', '135902.jpg', '137003.jpg', '147101.jpg', '100101.jpg', '124302.jpg', '115001.jpg', '138103.jpg', '118701.jpg', '145001.jpg', '123203.jpg', '135501.jpg', '146204.jpg', '119703.jpg', '112003.jpg', '122001.jpg', '123202.jpg', '125001.jpg', '124002.jpg', '144601.jpg', '126902.jpg', '122101.jpg', '143401.jpg', '119702.jpg', '131301.jpg', '114902.jpg', '128101.jpg', '142201.jpg', '139401.jpg', '136706.jpg', '120703.jpg', '134803.jpg', '106202.jpg', '137602.jpg', '134401.jpg', '119704.jpg', '113404.jpg', '111002.jpg', '138305.jpg', '138006.jpg', '105701.jpg', '135102.jpg', '136202.jpg', '121701.jpg', '102901.jpg', '103502.jpg', '121201.jpg', '133703.jpg', '142002.jpg', '137504.jpg', '146003.jpg', '103701.jpg', '137004.jpg', '134502.jpg', '106101.jpg', '119701.jpg', '125501.jpg', '121404.jpg', '148003.jpg', '119605.jpg', '137005.jpg', '113101.jpg', '122202.jpg', '113901.jpg', '122402.jpg', '103503.jpg', '129202.jpg', '107702.jpg', '139001.jpg', '112602.jpg', '139103.jpg', '115101.jpg', '138202.jpg', '131901.jpg', '135502.jpg', '115401.jpg', '100801.jpg', '139205.jpg', '138007.jpg', '134804.jpg', '148801.jpg', '113401.jpg', '138301.jpg', '149301.jpg', '101801.jpg', '112408.jpg', '131804.jpg', '145801.jpg', '106605.jpg', '123301.jpg', '102001.jpg', '123403.jpg', '124001.jpg', '107301.jpg', '145002.jpg', '128201.jpg', '130802.jpg', '104601.jpg', '126901.jpg', '115701.jpg', '117801.jpg', '119604.jpg', '140401.jpg', '106402.jpg', '113502.jpg', '138905.jpg', '140902.jpg', '136103.jpg', '138306.jpg', '116702.jpg', '145501.jpg', '128301.jpg', '107501.jpg', '110701.jpg', '108102.jpg', '139402.jpg', '137302.jpg', '105002.jpg', '101404.jpg', '115702.jpg', '134601.jpg', '106603.jpg', '140301.jpg', '134101.jpg', '142003.jpg', '139204.jpg', '139004.jpg', '103702.jpg', '139505.jpg', '138302.jpg', '112801.jpg', '110801.jpg', '122704.jpg', '139203.jpg', '146202.jpg', '123001.jpg', '134702.jpg', '138201.jpg', '102202.jpg', '139504.jpg', '105802.jpg', '101901.jpg', '139603.jpg', '141702.jpg', '117201.jpg', '134602.jpg', '105801.jpg', '106903.jpg', '135401.jpg', '139101.jpg', '139104.jpg', '104201.jpg', '130001.jpg', '139002.jpg', '135402.jpg', '140803.jpg', '137301.jpg', '131805.jpg', '116701.jpg', '106201.jpg', '107801.jpg', '141303.jpg', '106901.jpg', '101403.jpg', '122002.jpg', '147901.jpg', '137603.jpg', '117701.jpg', '138603.jpg', '129901.jpg', '109101.jpg', '117001.jpg', '137702.jpg', '112002.jpg', '130501.jpg', '139201.jpg', '120701.jpg', '136006.jpg', '139105.jpg', '137401.jpg', '127602.jpg', '129101.jpg', '138309.jpg', '144201.jpg', '104301.jpg', '106604.jpg', '137701.jpg', '147001.jpg', '144703.jpg', '112401.jpg', '138101.jpg', '149601.jpg', '127401.jpg', '121601.jpg', '121402.jpg', '136705.jpg', '149603.jpg', '141401.jpg', '121401.jpg', '114101.jpg', '149002.jpg', '141301.jpg', '126703.jpg', '140503.jpg', '145301.jpg', '103304.jpg', '147601.jpg', '129301.jpg', '139003.jpg', '138708.jpg', '138706.jpg', '105401.jpg', '127601.jpg', '126802.jpg', '125203.jpg', '138704.jpg', '123701.jpg', '121301.jpg', '114702.jpg', '143101.jpg', '122201.jpg', '108802.jpg', '123404.jpg', '122302.jpg', '109201.jpg', '146403.jpg', '141101.jpg', '138707.jpg', '143701.jpg', '127001.jpg', '136402.jpg', '124402.jpg', '114703.jpg', '103202.jpg', '103303.jpg', '145902.jpg', '127402.jpg', '120702.jpg', '146302.jpg', '112701.jpg', '136102.jpg', '138705.jpg', '141701.jpg', '126806.jpg', '125301.jpg', '113001.jpg', '119101.jpg', '132101.jpg', '119201.jpg', '102802.jpg', '131803.jpg', '104202.jpg', '120901.jpg', '106702.jpg', '119801.jpg', '132701.jpg', '109901.jpg', '136403.jpg', '146405.jpg', '124801.jpg', '139202.jpg', '100701.jpg', '115602.jpg', '128601.jpg', '130101.jpg', '124401.jpg', '134901.jpg', '145701.jpg', '136001.jpg', '119603.jpg', '122705.jpg', '108103.jpg', '149701.jpg', '125703.jpg', '144103.jpg', '137502.jpg', '149801.jpg', '103002.jpg', '101601.jpg', '113403.jpg', '146301.jpg', '133003.jpg', '141302.jpg', '126701.jpg', '145203.jpg', '110501.jpg', '122707.jpg', '117102.jpg', '148004.jpg', '125401.jpg', '102201.jpg', '118303.jpg', '118802.jpg', '125101.jpg', '114501.jpg', '108106.jpg', '112901.jpg', '130302.jpg', '113402.jpg', '125102.jpg', '122503.jpg', '139404.jpg', '148602.jpg', '136501.jpg', '125702.jpg', '138604.jpg', '105501.jpg', '110601.jpg', '104101.jpg', '140101.jpg', '106902.jpg', '122901.jpg', '127901.jpg', '134001.jpg', '103204.jpg', '108105.jpg', '133001.jpg', '122501.jpg', '147102.jpg', '148601.jpg', '139403.jpg', '123003.jpg', '134003.jpg', '114504.jpg', '105101.jpg', '108801.jpg', '138903.jpg', '121403.jpg', '142502.jpg', '138104.jpg', '131502.jpg', '137201.jpg', '142004.jpg', '131401.jpg', '148203.jpg', '122801.jpg', '132601.jpg', '127503.jpg', '109301.jpg', '101301.jpg', '124501.jpg', '102701.jpg', '111101.jpg', '108104.jpg', '138102.jpg', '104402.jpg', '143803.jpg', '114502.jpg', '138503.jpg', '132102.jpg', '142601.jpg', '101401.jpg', '148401.jpg', '126201.jpg', '105601.jpg', '147202.jpg', '145502.jpg', '146401.jpg', '148501.jpg', '124901.jpg', '123002.jpg', '132508.jpg', '121801.jpg', '138504.jpg', '106606.jpg', '125201.jpg', '124601.jpg', '137901.jpg', '131402.jpg', '126704.jpg', '136401.jpg', '131801.jpg', '102801.jpg', '125202.jpg', '120001.jpg', '142001.jpg', '138502.jpg', '138701.jpg', '139503.jpg', '108001.jpg', '139601.jpg', '132511.jpg', '143802.jpg', '126803.jpg', '131501.jpg', '141201.jpg', '143801.jpg', '118801.jpg', '146303.jpg', '142501.jpg', '100601.jpg', '125901.jpg', '134002.jpg', '110401.jpg', '138702.jpg', '139502.jpg', '110901.jpg', '139602.jpg', '138901.jpg', '138803.jpg', '108401.jpg', '144104.jpg', '144302.jpg', '135201.jpg', '122601.jpg', '120801.jpg', '138506.jpg', '138304.jpg', '132303.jpg', '106002.jpg', '138308.jpg', '142901.jpg', '106701.jpg', '149102.jpg', '132301.jpg', '105102.jpg', '141304.jpg', '114001.jpg', '126808.jpg', '143702.jpg', '141001.jpg', '103203.jpg', '127502.jpg', '134301.jpg', '148901.jpg', '137501.jpg', '139501.jpg', '110001.jpg', '122504.jpg', '122602.jpg', '138307.jpg', '122301.jpg', '141801.jpg', '132302.jpg', '129401.jpg', '145102.jpg', '144001.jpg', '108301.jpg', '129701.jpg', '125701.jpg', '145601.jpg', '138801.jpg', '138802.jpg', '139301.jpg', '141202.jpg', '104006.jpg', '127501.jpg', '149902.jpg', '126807.jpg', '115501.jpg', '138902.jpg', '132509.jpg', '126702.jpg', '127201.jpg', '133002.jpg', '114401.jpg', '137503.jpg', '106601.jpg', '115601.jpg', '138203.jpg', '124003.jpg', '144501.jpg', '131503.jpg', '101501.jpg', '114701.jpg', '104003.jpg', '118402.jpg', '110702.jpg', '128701.jpg', '139302.jpg', '143904.jpg', '104005.jpg', '100902.jpg', '100901.jpg', '104001.jpg', '138505.jpg', '132510.jpg', '141901.jpg', '126601.jpg', '139506.jpg', '145202.jpg', '122102.jpg', '145003.jpg', '143501.jpg', '146601.jpg', '101001.jpg', '118803.jpg', '106704.jpg', '106703.jpg', '104002.jpg', '138601.jpg', '132502.jpg', '139303.jpg', '104004.jpg', '148902.jpg', '132506.jpg', '103001.jpg', '140501.jpg', '144402.jpg', '144101.jpg', '138501.jpg', '146602.jpg', '140001.jpg', '101503.jpg', '142801.jpg', '138507.jpg', '131701.jpg', '132503.jpg', '146206.jpg', '144102.jpg', '146205.jpg', '115902.jpg', '112902.jpg', '132501.jpg', '126705.jpg', '101504.jpg', '147802.jpg', '122502.jpg', '115901.jpg', '142301.jpg', '138703.jpg', '137704.jpg', '127202.jpg', '127403.jpg', '113801.jpg', '126402.jpg', '138602.jpg', '137705.jpg', '126401.jpg', '109001.jpg', '117101.jpg', '140502.jpg', '132505.jpg', '106001.jpg', '140701.jpg', '129501.jpg', '144401.jpg', '138904.jpg', '142302.jpg', '120601.jpg', '145803.jpg', '149901.jpg', '132504.jpg', '126501.jpg', '128901.jpg', '126502.jpg', '132507.jpg', '145802.jpg', '101502.jpg', '118401.jpg', '142401.jpg', '114002.jpg', '114402.jpg', '141802.jpg', '141803.jpg']\n",
      "['100503.jpg', '100501.jpg', '100502.jpg']\n",
      "['136703.jpg', '100401.jpg', '133202.jpg']\n"
     ]
    }
   ],
   "source": [
    "# Describe images using VLAD\n",
    "query_vlad = describe_images_VLAD(query_desc, vocab)\n",
    "train_vlad = describe_images_VLAD(train_desc, vocab)\n",
    "\n",
    "# Train quantizers\n",
    "quants = pq_build_quantizers(train_vlad, m = 8, k = 256)\n",
    "\n",
    "# Create an index\n",
    "index = pq_build_index(train_vlad, quants)\n",
    "\n",
    "i = 5\n",
    "print(query_names[i])\n",
    "r = search_image(query_vlad[i], index, quants, train_names)\n",
    "print(r)\n",
    "rev, nrev = validate_results(query_names[i], r)\n",
    "print(rev)\n",
    "print(nrev[:3])"
   ]
  },
  {
   "cell_type": "markdown",
   "id": "f57ce5b4",
   "metadata": {
    "deletable": false,
    "editable": false,
    "nbgrader": {
     "cell_type": "markdown",
     "checksum": "3505234b9ba0fd528dd5145bea56e3d2",
     "grade": false,
     "grade_id": "cell-5bd88f530e26457b",
     "locked": true,
     "schema_version": 3,
     "solution": false,
     "task": false
    }
   },
   "source": [
    "Write a function called `compute_mAP_rf`. This function will do mainly the same as `compute_mAP`, but adding the Ide Dec-Hi algorithm as a *Relevance Feedback* method to enhance the retrieval results. For each query image:\n",
    "- Perform an initial query using the original VLAD descriptor $Q_0$.\n",
    "- Validate the obtained results, classifying images into *relevant* or *non-relevant*.\n",
    "- If there is at least 1 *relevant* result, compute a new query vector as:\n",
    "$$\n",
    "Q_m = \\alpha Q_0 + \\beta \\frac{1}{|D_r|} \\displaystyle \\sum_{i=1}^{|D_r|} D_r^i - \\gamma D_{nr}^0\\,,\n",
    "$$\n",
    "where $\\alpha$, $\\beta$ and $\\gamma$ are the weights used in the algorithm, $D_r$ is the set of *relevant* images and $D_{nr}^0$ is the best *non-relevant* image (just one). Otherwise, the search is over.\n",
    "- Re-query **once** using $Q_m$. This will be the final result set for this query image. You can also append the results to the original set.\n",
    "\n",
    "Notice that we will use VLAD vectors to compute $Q_m$ and, therefore, we will need the original set (*train_descs*), since the index contains the encoded version of the database images."
   ]
  },
  {
   "cell_type": "code",
   "execution_count": 22,
   "id": "15d77bf3",
   "metadata": {},
   "outputs": [],
   "source": [
    "def search_image(desc, index, quantizers, img_names):\n",
    "    '''\n",
    "    Search an image in the index\n",
    "    \n",
    "    - descs: Query VLAD vector represented as a numpy array of size (D, ).\n",
    "    - index: A list where each element i is the encoded version of an image of the database.\n",
    "    - quantizers: A list of m quantizers.\n",
    "        Each one is a numpy array of size (k, D / m), where k and m where\n",
    "        defined during the vocabulary construction.\n",
    "    - img_names: A list of image names to associate each code in 'index' with \n",
    "        its string name in the dataset.\n",
    "  \n",
    "    RETURN:\n",
    "      - An ordered list of similar images, e.g.: ['100101.jpg', '100202.jpg', ...]\n",
    "    '''\n",
    "    # Calculate the distances between the query vector and all images in the index\n",
    "    distances = []\n",
    "    for code, img_name in zip(index, img_names):\n",
    "        distance = pq_distance(desc, code, quantizers)\n",
    "        distances.append((img_name, distance))\n",
    "\n",
    "    return [img_name for img_name, distance in sorted(distances, key=lambda x: x[1])]"
   ]
  },
  {
   "cell_type": "code",
   "execution_count": 29,
   "id": "d8cb339a",
   "metadata": {},
   "outputs": [],
   "source": [
    "def search_image(desc, index, quantizers, img_names):\n",
    "    '''\n",
    "    Search an image in the index\n",
    "    \n",
    "    - descs: Query VLAD vector represented as a numpy array of size (D, ).\n",
    "    - index: A list where each element i is the encoded version of an image of the database.\n",
    "    - quantizers: A list of m quantizers.\n",
    "        Each one is a numpy array of size (k, D / m), where k and m where\n",
    "        defined during the vocabulary construction.\n",
    "    - img_names: A list of image names to associate each code in 'index' with \n",
    "        its string name in the dataset.\n",
    "  \n",
    "    RETURN:\n",
    "      - An ordered list of similar images, e.g.: ['100101.jpg', '100202.jpg', ...]\n",
    "    '''\n",
    "    \n",
    "    # Number of quantizers\n",
    "    m = len(quantizers)    \n",
    "    \n",
    "    # Centrois for each quantizer\n",
    "    k = quantizers[0].shape[0]\n",
    "    \n",
    "    # Calculate L2 distances between the query and all codes in the index\n",
    "    distances = [(img_name, pq_distance(desc, code, quantizers)) for code, img_name in zip(index, img_names)]\n",
    "    sorted_distances = sorted(distances, key=lambda x: x[1])\n",
    "    sorted_img_names = [img_name for img_name, distance in sorted_distances]\n",
    "\n",
    "    return sorted_img_names\n"
   ]
  },
  {
   "cell_type": "code",
   "execution_count": 30,
   "id": "56b739e1",
   "metadata": {
    "deletable": false,
    "nbgrader": {
     "cell_type": "code",
     "checksum": "00011b88f9917e488d30e76d2ac878d9",
     "grade": false,
     "grade_id": "cell-15a53009d74717f7",
     "locked": false,
     "schema_version": 3,
     "solution": true,
     "task": false
    }
   },
   "outputs": [],
   "source": [
    "def compute_mAP_rf(query_names, query_descs, train_names, train_descs, index, \n",
    "              quantizers, alpha = 1.0, beta = 0.75, gamma = 0.25):  \n",
    "    '''\n",
    "    Perform a search for a list of query images against the database, adding Ide\n",
    "     Dec-Hi as a RF method.\n",
    "    \n",
    "    - query_names: An ordered list with the names of query images.\n",
    "    - query_descs: A list containing VLAD vectors of size (D, ) we want to search.\n",
    "        Each element i is a numpy array extracted from the image i.\n",
    "    - train_names: A list of image names to associate each code in 'index' with \n",
    "        its name in the dataset.\n",
    "    - train_descs: A list containing VLAD vectors of size (D, ) corresponding to \n",
    "        the database images.\n",
    "    - index: Index of images to search the query descriptors.\n",
    "    - quantizers: A list of m quantizers.\n",
    "        Each one is a numpy array of size (k, D / m), where k and m where\n",
    "        defined during the vocabulary construction.\n",
    "    - alpha, beta, gamma: Ide's Dec-Hi algorithm weights.\n",
    "  \n",
    "    RETURN: \n",
    "    - total_results: A dictionary containing, for each query image, \n",
    "        an ordered list of the retrieved images.\n",
    "    - m_ap: Mean Average Precision averaged over all queries.\n",
    "    '''\n",
    "    total_results = {}\n",
    "    m_ap = 0.0\n",
    "\n",
    "    for query_name, query_desc in zip(query_names, query_descs):\n",
    "        # Perform initial query using the original VLAD descriptor\n",
    "        initial_results = search_image(query_desc, index, quantizers, train_names)\n",
    "        relevant, non_relevant = validate_results(query_name, initial_results)\n",
    "\n",
    "        if len(relevant) > 0 and len(non_relevant) > 0:\n",
    "            # Get the top non-relevant image and its VLAD descriptor\n",
    "            top_non_relevant = non_relevant[0]\n",
    "            top_non_relevant_index = train_names.index(top_non_relevant)\n",
    "            top_non_relevant_vlad = train_vlad[top_non_relevant_index]\n",
    "\n",
    "            # Compute the average VLAD descriptor of the relevant images\n",
    "            relevant_vlad_descs = [train_vlad[train_names.index(idx)] for idx in relevant]\n",
    "            avg_relevant_q = np.mean(relevant_vlad_descs, axis=0)\n",
    "\n",
    "            # Compute the new query descriptor using Ide's Dec-Hi algorithm\n",
    "            new_query_desc = (alpha * query_desc) + (beta * avg_relevant_q) - (gamma * top_non_relevant_vlad)\n",
    "\n",
    "            # Re-query using the new query descriptor\n",
    "            refined_results = search_image(new_query_desc, index, quantizers, train_names)\n",
    "\n",
    "            # Combine the initial and refined results\n",
    "            results = initial_results + refined_results\n",
    "        else:\n",
    "            # No refinement necessary, store the initial results\n",
    "            results = initial_results\n",
    "\n",
    "        # Store the results for the query image\n",
    "        total_results[query_name] = results\n",
    "\n",
    "    # Compute mAP using the results\n",
    "    m_ap = ev.compute_mAP(total_results, gt_file='../holidays/holidays_images.dat')\n",
    "\n",
    "    return total_results, m_ap"
   ]
  },
  {
   "cell_type": "code",
   "execution_count": 31,
   "id": "e9fe5d19",
   "metadata": {
    "deletable": false,
    "editable": false,
    "nbgrader": {
     "cell_type": "code",
     "checksum": "55f2e44a2bc3a0b717cba436fed08261",
     "grade": true,
     "grade_id": "cell-4c6e72449fcf1a1c",
     "locked": true,
     "points": 0.6,
     "schema_version": 3,
     "solution": false,
     "task": false
    }
   },
   "outputs": [
    {
     "name": "stdout",
     "output_type": "stream",
     "text": [
      "['100001.jpg', '100002.jpg']\n",
      "['100001.jpg', '100002.jpg']\n",
      "0.002\n"
     ]
    }
   ],
   "source": [
    "# Example of computing mAP\n",
    "results, mAP = compute_mAP_rf(query_names, query_vlad, train_names[0:2], train_desc[0:2], index, quantizers)\n",
    "print(results['100000.jpg'])\n",
    "print(results['100100.jpg'])\n",
    "print(mAP) # This should be close to 0 now, since there is only two images in the database."
   ]
  },
  {
   "cell_type": "code",
   "execution_count": 154,
   "id": "7437fa9d",
   "metadata": {},
   "outputs": [
    {
     "name": "stdout",
     "output_type": "stream",
     "text": [
      "0.4061175377643705\n"
     ]
    }
   ],
   "source": [
    "# Computing mAP\n",
    "results, mAP = compute_mAP_rf(query_names, query_vlad, train_names, train_desc, index, quantizers)\n",
    "print(mAP)"
   ]
  },
  {
   "cell_type": "markdown",
   "id": "928245af",
   "metadata": {
    "deletable": false,
    "editable": false,
    "nbgrader": {
     "cell_type": "markdown",
     "checksum": "4411ba81a33b5eb8dca13780f0888c04",
     "grade": false,
     "grade_id": "cell-8ddc18112d33a31c",
     "locked": true,
     "schema_version": 3,
     "solution": false,
     "task": false
    }
   },
   "source": [
    "**Q4**: Compute the mAP obtained using this function (`compute_mAP_rf`) for different vocabularies and values of $m$ and $k$. Verify if there exists an increment of performance with regard to the same configuration without using de Dec-Hi algorithm."
   ]
  },
  {
   "cell_type": "markdown",
   "id": "156ee86a",
   "metadata": {},
   "source": [
    "Query time is significantly higher when using relevance feedback as expected since it needs to query again with the feedbak. "
   ]
  },
  {
   "cell_type": "code",
   "execution_count": 32,
   "id": "05071ddd",
   "metadata": {},
   "outputs": [],
   "source": [
    "import time\n",
    "\n",
    "# Fill these variables with the resulting mAP\n",
    "mAP_16c_rf = 0.0\n",
    "mAP_32c_rf = 0.0\n",
    "mAP_64c_rf = 0.0\n",
    "\n",
    "# YOUR CODE HERE\n",
    "vocab_16c = np.load('../vocabs/sift_16c.npy')\n",
    "vocab_32c = np.load('../vocabs/sift_32c.npy')\n",
    "vocab_64c = np.load('../vocabs/sift_64c.npy')\n",
    "\n",
    "# Measure training times\n",
    "start_time = time.time()\n",
    "query_vlad_16c = describe_images_VLAD(query_desc, vocab_16c)\n",
    "train_vlad_16c = describe_images_VLAD(train_desc, vocab_16c)\n",
    "quants_16c = pq_build_quantizers(train_vlad_16c, m = 8, k = 256)\n",
    "index_16c = pq_build_index(train_vlad_16c, quants_16c)\n",
    "training_time_16c_rf = time.time() - start_time\n",
    "\n",
    "start_time = time.time()\n",
    "query_vlad_32c = describe_images_VLAD(query_desc, vocab_32c)\n",
    "train_vlad_32c = describe_images_VLAD(train_desc, vocab_32c)\n",
    "quants_32c = pq_build_quantizers(train_vlad_32c, m = 8, k = 256)\n",
    "index_32c = pq_build_index(train_vlad_32c, quants_32c)\n",
    "training_time_32c_rf = time.time() - start_time\n",
    "\n",
    "start_time = time.time()\n",
    "query_vlad_64c = describe_images_VLAD(query_desc, vocab_64c)\n",
    "train_vlad_64c = describe_images_VLAD(train_desc, vocab_64c)\n",
    "quants_64c = pq_build_quantizers(train_vlad_64c, m = 8, k = 256)\n",
    "index_64c = pq_build_index(train_vlad_64c, quants_64c)\n",
    "training_time_64c_rf = time.time() - start_time"
   ]
  },
  {
   "cell_type": "code",
   "execution_count": 33,
   "id": "f1412440",
   "metadata": {},
   "outputs": [
    {
     "name": "stdout",
     "output_type": "stream",
     "text": [
      "Training time for 16 clusters: 2.8309290409088135 seconds\n",
      "Training time for 32 clusters: 4.508001804351807 seconds\n",
      "Training time for 64 clusters: 10.69878888130188 seconds\n",
      "Query time for 16 clusters: 87.56004500389099 seconds\n",
      "Query time for 32 clusters: 82.74970388412476 seconds\n",
      "Query time for 64 clusters: 84.04782581329346 seconds\n",
      "mAP 16c: 0.39411\n",
      "mAP 32c: 0.37257\n",
      "mAP 64c: 0.31681\n"
     ]
    }
   ],
   "source": [
    "# Measure query times and mAP\n",
    "start_time = time.time()\n",
    "train_vlad = train_vlad_16c\n",
    "results_16c, mAP_16c_rf = compute_mAP_rf(query_names, query_vlad_16c, train_names, train_desc, index_16c, quants_16c)\n",
    "query_time_16c_rf = time.time() - start_time\n",
    "\n",
    "start_time = time.time()\n",
    "train_vlad = train_vlad_32c\n",
    "results_32c, mAP_32c_rf = compute_mAP_rf(query_names, query_vlad_32c, train_names, train_desc, index_32c, quants_32c)\n",
    "query_time_32c_rf = time.time() - start_time\n",
    "\n",
    "start_time = time.time()\n",
    "train_vlad = train_vlad_64c\n",
    "results_64c, mAP_64c_rf = compute_mAP_rf(query_names, query_vlad_64c, train_names, train_desc, index_64c, quants_64c)\n",
    "query_time_64c_rf = time.time() - start_time\n",
    "\n",
    "# Compare training times\n",
    "print(f\"Training time for 16 clusters: {training_time_16c_rf} seconds\")\n",
    "print(f\"Training time for 32 clusters: {training_time_32c_rf} seconds\")\n",
    "print(f\"Training time for 64 clusters: {training_time_64c_rf} seconds\")\n",
    "\n",
    "# Compare query times\n",
    "print(f\"Query time for 16 clusters: {query_time_16c_rf} seconds\")\n",
    "print(f\"Query time for 32 clusters: {query_time_32c_rf} seconds\")\n",
    "print(f\"Query time for 64 clusters: {query_time_64c_rf} seconds\")\n",
    "\n",
    "print('mAP 16c: %.5f' % mAP_16c_rf)\n",
    "print('mAP 32c: %.5f' % mAP_32c_rf)\n",
    "print('mAP 64c: %.5f' % mAP_64c_rf)"
   ]
  },
  {
   "cell_type": "code",
   "execution_count": 45,
   "id": "64a3962c",
   "metadata": {},
   "outputs": [
    {
     "name": "stdout",
     "output_type": "stream",
     "text": [
      "Map values without rf:\n",
      "mAP 16c: 0.37118\n",
      "mAP 32c: 0.36184\n",
      "mAP 64c: 0.33106\n",
      "Map values with rf:\n",
      "mAP 16c: 0.39411\n",
      "mAP 32c: 0.37257\n",
      "mAP 64c: 0.31681\n"
     ]
    }
   ],
   "source": [
    "print('Map values without rf:')\n",
    "print('mAP 16c: %.5f' % mAP_16c)\n",
    "print('mAP 32c: %.5f' % mAP_32c)\n",
    "print('mAP 64c: %.5f' % mAP_64c)\n",
    "\n",
    "print('Map values with rf:')\n",
    "print('mAP 16c: %.5f' % mAP_16c_rf)\n",
    "print('mAP 32c: %.5f' % mAP_32c_rf)\n",
    "print('mAP 64c: %.5f' % mAP_64c_rf)"
   ]
  },
  {
   "cell_type": "markdown",
   "id": "c74b5a58",
   "metadata": {},
   "source": [
    "Comparison of previous results without relevance feedbacck vs with relevant feedback"
   ]
  },
  {
   "cell_type": "code",
   "execution_count": 46,
   "id": "a011ab71",
   "metadata": {},
   "outputs": [
    {
     "data": {
      "image/png": "[encoded data removed]",
      "text/plain": [
       "<Figure size 640x480 with 1 Axes>"
      ]
     },
     "metadata": {},
     "output_type": "display_data"
    }
   ],
   "source": [
    "# Define the mAP values with and without Ide's Dec-Hi algorithm\n",
    "mAP_values_no_rf = [mAP_16c, mAP_32c, mAP_64c]\n",
    "mAP_values_rf = [mAP_16c_rf, mAP_32c_rf, mAP_64c_rf]\n",
    "\n",
    "# Define the clusters for the x-axis\n",
    "clusters = [16, 32, 64]\n",
    "\n",
    "# Set the width of the bars\n",
    "bar_width = 0.35\n",
    "\n",
    "# Set the positions of the bars on the x-axis\n",
    "r1 = np.arange(len(clusters))\n",
    "r2 = [x + bar_width for x in r1]\n",
    "\n",
    "# Plot the bar graph\n",
    "plt.bar(r1, mAP_values_no_rf, color='blue', width=bar_width, label='Without RF')\n",
    "plt.bar(r2, mAP_values_rf, color='orange', width=bar_width, label='With RF')\n",
    "\n",
    "# Add labels and titles\n",
    "plt.xlabel('Vocab Sizes')\n",
    "plt.ylabel('mAP')\n",
    "plt.title('mAP Comparison: With Relevance FeedBack vs No RF')\n",
    "plt.xticks([r + bar_width / 2 for r in r1], clusters)\n",
    "plt.legend()\n",
    "\n",
    "# Show the plot\n",
    "plt.show()\n"
   ]
  },
  {
   "cell_type": "markdown",
   "id": "626d9913",
   "metadata": {},
   "source": [
    "Based on the results, we observe that the performance increment with the Dec-Hi algorithm is evident for the 16c and 32c configurations. However, for the 64c configuration, there is a decrement in performance with a small value. Therefore, the effectiveness of the Dec-Hi algorithm appears to vary depending on the vocabulary size, indicating that it may be more beneficial for smaller vocabulary sizes."
   ]
  },
  {
   "cell_type": "code",
   "execution_count": 47,
   "id": "9a9f38a6",
   "metadata": {},
   "outputs": [
    {
     "data": {
      "image/png": "[encoded data removed]",
      "text/plain": [
       "<Figure size 1800x600 with 3 Axes>"
      ]
     },
     "metadata": {},
     "output_type": "display_data"
    }
   ],
   "source": [
    "import matplotlib.pyplot as plt\n",
    "\n",
    "# Define the clusters and their corresponding values without RF\n",
    "clusters = [16, 32, 64]\n",
    "mAP_values_without_rf = [mAP_16c, mAP_32c, mAP_64c]\n",
    "training_times_without_rf = [training_time_16c, training_time_32c, training_time_64c]\n",
    "query_times_without_rf = [query_time_16c, query_time_32c, query_time_64c]\n",
    "\n",
    "# Define the clusters and their corresponding values with RF\n",
    "mAP_values_with_rf = [mAP_16c_rf, mAP_32c_rf, mAP_64c_rf]\n",
    "training_times_with_rf = [training_time_16c_rf, training_time_32c_rf, training_time_64c_rf]\n",
    "query_times_with_rf = [query_time_16c_rf, query_time_32c_rf, query_time_64c_rf]\n",
    "\n",
    "# Create subplots for mAP, training times, and query times\n",
    "fig, axs = plt.subplots(1, 3, figsize=(18, 6))\n",
    "\n",
    "# Plot mAP values\n",
    "axs[0].plot(clusters, mAP_values_without_rf, marker='o', label='Without RF', color='blue')\n",
    "axs[0].plot(clusters, mAP_values_with_rf, marker='o', label='With RF', color='red')\n",
    "axs[0].set_xlabel('Number of Clusters')\n",
    "axs[0].set_ylabel('mAP')\n",
    "axs[0].set_title('Effect of Clusters on mAP')\n",
    "axs[0].legend()\n",
    "axs[0].grid(True)\n",
    "\n",
    "# Plot training times\n",
    "axs[1].plot(clusters, training_times_without_rf, marker='o', label='Without RF', color='blue')\n",
    "axs[1].plot(clusters, training_times_with_rf, marker='o', label='With RF', color='red')\n",
    "axs[1].set_xlabel('Number of Clusters')\n",
    "axs[1].set_ylabel('Training Time (seconds)')\n",
    "axs[1].set_title('Effect of Clusters on Training Time')\n",
    "axs[1].legend()\n",
    "axs[1].grid(True)\n",
    "\n",
    "# Plot query times\n",
    "axs[2].plot(clusters, query_times_without_rf, marker='o', label='Without RF', color='blue')\n",
    "axs[2].plot(clusters, query_times_with_rf, marker='o', label='With RF', color='red')\n",
    "axs[2].set_xlabel('Number of Clusters')\n",
    "axs[2].set_ylabel('Query Time (seconds)')\n",
    "axs[2].set_title('Effect of Clusters on Query Time')\n",
    "axs[2].legend()\n",
    "axs[2].grid(True)\n",
    "\n",
    "# Adjust the spacing between subplots\n",
    "plt.tight_layout()\n",
    "\n",
    "# Show the plots\n",
    "plt.show()\n"
   ]
  },
  {
   "cell_type": "code",
   "execution_count": 48,
   "id": "1d4e784c",
   "metadata": {},
   "outputs": [
    {
     "name": "stdout",
     "output_type": "stream",
     "text": [
      "mAP results for different m values:\n",
      "mAP with m=8: 0.3749429230001022\n",
      "mAP with m=16: 0.3946451589703633\n",
      "mAP with m=24: 0.40835141697789384\n",
      "\n",
      "mAP results for different k values:\n",
      "mAP with k=128: 0.355521006262502\n",
      "mAP with k=256: 0.3737045572642962\n",
      "mAP with k=512: 0.37533723798550317\n"
     ]
    }
   ],
   "source": [
    "# Define the values of m and k to iterate over\n",
    "m_values = [8, 16, 24]\n",
    "k_values = [128, 256, 512]\n",
    "\n",
    "# Initialize dictionaries to store the mAP results\n",
    "mAP_m_results = {}\n",
    "mAP_k_results = {}\n",
    "\n",
    "# Load the 16c vocabulary\n",
    "vocab_16c = np.load('../vocabs/sift_16c.npy')\n",
    "\n",
    "# Iterate over m values\n",
    "for m in m_values:\n",
    "    # Measure training time for current m value\n",
    "    start_time = time.time()\n",
    "    query_vlad_16c = describe_images_VLAD(query_desc, vocab_16c)\n",
    "    train_vlad_16c = describe_images_VLAD(train_desc, vocab_16c)\n",
    "    quants_16c = pq_build_quantizers(train_vlad_16c, m=m, k=256)\n",
    "    index_16c = pq_build_index(train_vlad_16c, quants_16c)\n",
    "    training_time_16c_rf = time.time() - start_time\n",
    "\n",
    "    # Measure query time and mAP for current m value\n",
    "    start_time = time.time()\n",
    "    train_vlad = train_vlad_16c\n",
    "    results_16c, mAP_16c_rf = compute_mAP_rf(query_names, query_vlad_16c, train_names, train_desc, index_16c, quants_16c)\n",
    "    query_time_16c_rf = time.time() - start_time\n",
    "\n",
    "    # Store the mAP result for current m value\n",
    "    mAP_m_results[m] = mAP_16c_rf\n",
    "\n",
    "# Iterate over k values\n",
    "for k in k_values:\n",
    "    # Measure training time for current k value\n",
    "    start_time = time.time()\n",
    "    query_vlad_16c = describe_images_VLAD(query_desc, vocab_16c)\n",
    "    train_vlad_16c = describe_images_VLAD(train_desc, vocab_16c)\n",
    "    quants_16c = pq_build_quantizers(train_vlad_16c, m=8, k=k)\n",
    "    index_16c = pq_build_index(train_vlad_16c, quants_16c)\n",
    "    training_time_16c_rf = time.time() - start_time\n",
    "\n",
    "    # Measure query time and mAP for current k value\n",
    "    start_time = time.time()\n",
    "    train_vlad = train_vlad_16c\n",
    "    results_16c, mAP_16c_rf = compute_mAP_rf(query_names, query_vlad_16c, train_names, train_desc, index_16c, quants_16c)\n",
    "    query_time_16c_rf = time.time() - start_time\n",
    "\n",
    "    # Store the mAP result for current k value\n",
    "    mAP_k_results[k] = mAP_16c_rf\n",
    "\n",
    "# Print the mAP results for different m and k values\n",
    "print('mAP results for different m values:')\n",
    "for m, mAP in mAP_m_results.items():\n",
    "    print(f'mAP with m={m}: {mAP}')\n",
    "\n",
    "print('\\nmAP results for different k values:')\n",
    "for k, mAP in mAP_k_results.items():\n",
    "    print(f'mAP with k={k}: {mAP}')\n"
   ]
  },
  {
   "cell_type": "markdown",
   "id": "fd48527d",
   "metadata": {},
   "source": [
    "Effect of m values"
   ]
  },
  {
   "cell_type": "code",
   "execution_count": 52,
   "id": "666a74cf",
   "metadata": {},
   "outputs": [
    {
     "data": {
      "text/plain": [
       "{8: 0.3749429230001022, 16: 0.3946451589703633, 24: 0.40835141697789384}"
      ]
     },
     "execution_count": 52,
     "metadata": {},
     "output_type": "execute_result"
    }
   ],
   "source": [
    "mAP_m_results"
   ]
  },
  {
   "cell_type": "code",
   "execution_count": 53,
   "id": "80242045",
   "metadata": {},
   "outputs": [
    {
     "data": {
      "image/png": "[encoded data removed]",
      "text/plain": [
       "<Figure size 640x480 with 1 Axes>"
      ]
     },
     "metadata": {},
     "output_type": "display_data"
    }
   ],
   "source": [
    "# Plot mAP values\n",
    "plt.plot(m_values, [mAP_m_results[m] for m in m_values], marker='o')\n",
    "plt.xlabel('m Values')\n",
    "plt.ylabel('mAP')\n",
    "plt.title('Effect of m Values on mAP')\n",
    "plt.show()"
   ]
  },
  {
   "cell_type": "markdown",
   "id": "60cdbfc6",
   "metadata": {},
   "source": [
    "Effect of k values"
   ]
  },
  {
   "cell_type": "code",
   "execution_count": 54,
   "id": "8c3f369c",
   "metadata": {},
   "outputs": [
    {
     "data": {
      "image/png": "[encoded data removed]",
      "text/plain": [
       "<Figure size 640x480 with 1 Axes>"
      ]
     },
     "metadata": {},
     "output_type": "display_data"
    }
   ],
   "source": [
    "# Plot mAP values\n",
    "plt.plot(k_values, [mAP_k_results[k] for k in k_values], marker='o')\n",
    "plt.xlabel('k Values')\n",
    "plt.ylabel('mAP')\n",
    "plt.title('Effect of k Values on mAP')\n",
    "plt.show()"
   ]
  },
  {
   "cell_type": "markdown",
   "id": "d5df5fdb",
   "metadata": {},
   "source": [
    "Observing the mAP values, we notice an ascending trend as the value of m increases. This implies that increasing the number of centroids in the vocabulary leads to an enhancement in performance when considering mAP as the evaluation metric. The rise in mAP suggests that a larger number of centroids allows for better representation and discrimination of visual features, resulting in improved retrieval accuracy.\n",
    "While there is a slight increase in mAP as k increases, the improvement is relatively modest compared to the effect of varying m.\n",
    "\n"
   ]
  },
  {
   "cell_type": "markdown",
   "id": "d69b262a",
   "metadata": {},
   "source": [
    "Thus, based on these outcomes, it can be concluded that there exists a noticeable performance increment in the retrieval system when utilizing the Dec-Hi algorithm and increasing the value of m. However, the influence of k on performance appears to be comparatively minor, indicating that the choice of k has less impact on retrieval accuracy compared to the selection of m. "
   ]
  },
  {
   "cell_type": "markdown",
   "id": "2cf8e351",
   "metadata": {
    "deletable": false,
    "editable": false,
    "nbgrader": {
     "cell_type": "markdown",
     "checksum": "3d648f5dc07f308d2d13c3944185e99d",
     "grade": false,
     "grade_id": "cell-a1781d52022d7358",
     "locked": true,
     "points": 1.25,
     "schema_version": 3,
     "solution": false,
     "task": true
    }
   },
   "source": [
    "Write here the code required to answer the questions stated above. You can add more cells (code / markdown) at this point if you need it."
   ]
  },
  {
   "cell_type": "markdown",
   "id": "9ea902aa",
   "metadata": {
    "deletable": false,
    "editable": false,
    "nbgrader": {
     "cell_type": "markdown",
     "checksum": "9d1492480edafa5422447da79b54502f",
     "grade": false,
     "grade_id": "cell-6b4d01a20202fb44",
     "locked": true,
     "schema_version": 3,
     "solution": false,
     "task": false
    }
   },
   "source": [
    "## Submitting your work\n",
    "\n",
    "**Important**: Please make sure that the submitted notebooks have been run and the cell outputs are visible.\n",
    "\n",
    "**Important**: Please make also sure that you have filled the **NAME** and **DNI** variables at the beginning of the notebook, **using the indicated format**.\n",
    "\n",
    "Once you have filled out the necessary code and you are happy with your solution, **save your notebook** and execute the following cell:"
   ]
  },
  {
   "cell_type": "code",
   "execution_count": 59,
   "id": "97b13fea",
   "metadata": {
    "deletable": false,
    "editable": false,
    "nbgrader": {
     "cell_type": "code",
     "checksum": "7d2689f958e6f950437e19eb4e061e63",
     "grade": false,
     "grade_id": "cell-40ddf258eb58940c",
     "locked": true,
     "schema_version": 3,
     "solution": false,
     "task": false
    }
   },
   "outputs": [],
   "source": [
    "zip_filename = DNI + '_A3.zip'\n",
    "zf = zipfile.ZipFile(zip_filename, mode = 'w')\n",
    "\n",
    "aname = 'submitted/' + DNI + '/A3/Advanced_Techniques.ipynb'\n",
    "zf.write('Advanced_Techniques.ipynb', arcname = aname);\n",
    "\n",
    "zf.close()"
   ]
  },
  {
   "cell_type": "markdown",
   "id": "07735c6c",
   "metadata": {
    "deletable": false,
    "editable": false,
    "nbgrader": {
     "cell_type": "markdown",
     "checksum": "646263d4a3161e90f4369de935331304",
     "grade": false,
     "grade_id": "cell-8c14ebf9fa4805a7",
     "locked": true,
     "schema_version": 3,
     "solution": false,
     "task": false
    }
   },
   "source": [
    "This will generate a zip file of your code called `DNI_A3.zip` in the same directory of the assignment. This is the file that you must upload to [Aula Digital](https://uibdigital.uib.es/) to submit your work!"
   ]
  },
  {
   "cell_type": "markdown",
   "id": "7760aba2",
   "metadata": {
    "deletable": false,
    "editable": false,
    "nbgrader": {
     "cell_type": "markdown",
     "checksum": "a3e5f552b4935747a0f94ab360623ea5",
     "grade": false,
     "grade_id": "cell_foot_1",
     "locked": true,
     "schema_version": 3,
     "solution": false,
     "task": false
    }
   },
   "source": [
    "---\n",
    "\n",
    "&copy; Emilio Garcia-Fidalgo, University of the Balearic Islands"
   ]
  }
 ],
 "metadata": {
  "kernelspec": {
   "display_name": "Python 3 (ipykernel)",
   "language": "python",
   "name": "python3"
  },
  "language_info": {
   "codemirror_mode": {
    "name": "ipython",
    "version": 3
   },
   "file_extension": ".py",
   "mimetype": "text/x-python",
   "name": "python",
   "nbconvert_exporter": "python",
   "pygments_lexer": "ipython3",
   "version": "3.9.13"
  }
 },
 "nbformat": 4,
 "nbformat_minor": 5
}
